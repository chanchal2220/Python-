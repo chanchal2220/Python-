{
 "cells": [
  {
   "cell_type": "markdown",
   "id": "0e6fe3d1-2363-454e-9d07-b7d55f327e65",
   "metadata": {},
   "source": [
    "# Caculator Project\n",
    "\n",
    "1) Application box\n",
    "2)  name of application\n",
    "3)  display window\n",
    "4)  buttons(0-9,symbolic patterns, operation buttons) \n"
   ]
  },
  {
   "cell_type": "code",
   "execution_count": 3,
   "id": "b0ec8311-f38a-4d0b-a92b-74f4559095b9",
   "metadata": {},
   "outputs": [],
   "source": [
    "import tkinter as tk"
   ]
  },
  {
   "cell_type": "code",
   "execution_count": 5,
   "id": "f6c012b7-8bc2-4544-b24f-e19f662a2e84",
   "metadata": {},
   "outputs": [],
   "source": [
    "# backend code\n",
    "calculation = \"\"\n",
    "\n",
    "# to click button\n",
    "def click(value):\n",
    "    global calculation\n",
    "    calculation+=str(value)\n",
    "    display.delete(1.0,\"end\")\n",
    "    display.insert(1.0,calculation)\n",
    "\n",
    "def clear():\n",
    "    global calculation\n",
    "    calculation = \"\"\n",
    "    display.delete(1.0,\"end\")\n",
    "\n",
    "def backspace(value):\n",
    "    global calculation\n",
    "    calculation = calculation[:-1]\n",
    "    display.delete(1.0,\"end\")\n",
    "    display.insert(1.0,calculation)\n",
    "\n",
    "def equal():\n",
    "    global calculation\n",
    "    calculation = str(eval(calculation))\n",
    "    display.delete(1.0,\"end\")\n",
    "    display.insert(1.0,calculation)\n"
   ]
  },
  {
   "cell_type": "code",
   "execution_count": null,
   "id": "f68434f9-df25-4a8e-9f4a-6a71c811b809",
   "metadata": {},
   "outputs": [
    {
     "name": "stderr",
     "output_type": "stream",
     "text": [
      "Exception in Tkinter callback\n",
      "Traceback (most recent call last):\n",
      "  File \"C:\\Users\\Gourav\\anaconda3\\Lib\\tkinter\\__init__.py\", line 1968, in __call__\n",
      "    return self.func(*args)\n",
      "           ^^^^^^^^^^^^^^^^\n",
      "  File \"C:\\Users\\Gourav\\AppData\\Local\\Temp\\ipykernel_13988\\1866532684.py\", line 24, in equal\n",
      "    calculation = str(eval(calculation))\n",
      "                      ^^^^^^^^^^^^^^^^^\n",
      "  File \"<string>\", line 1\n",
      "    36/*-23\n",
      "       ^\n",
      "SyntaxError: invalid syntax\n"
     ]
    }
   ],
   "source": [
    "app = tk.Tk()\n",
    "\n",
    "#application box \n",
    "app.geometry(\"453x613\")\n",
    "\n",
    "#application name\n",
    "app.title(\"Calculator\")\n",
    "#display  box\n",
    "display = tk.Text(app,height =2, width = 20, background = \"#F5F5F5\", fg = \"black\", font=(\"arial\",25,\"bold\"))\n",
    "display.grid(row = 0, columnspan=4)\n",
    "\n",
    "#0-9 buttons\n",
    "buttons_1 = tk.Button(app, text = \"1\",command = lambda : click(1), height =2, width =5, bg =\"black\", fg =\"#F5F5F5\", font=(\"arial\",25,\"bold\"))\n",
    "buttons_1.grid(row=3,column=0, padx = 1, pady =3)\n",
    "buttons_2 = tk.Button(app, text = \"2\", command = lambda : click(2),height =2, width =5, bg =\"black\", fg =\"#F5F5F5\", font=(\"arial\",25,\"bold\"))\n",
    "buttons_2.grid(row=3,column=1, padx = 1, pady =3)\n",
    "buttons_3 = tk.Button(app, text = \"3\",command = lambda : click(3), height =2, width =5, bg =\"black\", fg =\"#F5F5F5\",font=(\"arial\",25,\"bold\"))\n",
    "buttons_3.grid(row=3,column=2, padx = 1, pady =3)\n",
    "buttons_4 = tk.Button(app, text = \"4\",command = lambda : click(4), height =2, width =5, bg =\"black\", fg =\"#F5F5F5\", font=(\"arial\",25,\"bold\"))\n",
    "buttons_4.grid(row=2,column=0, padx = 1, pady =3)\n",
    "buttons_5 = tk.Button(app, text = \"5\",command = lambda : click(5), height =2, width =5, bg =\"black\", fg =\"#F5F5F5\",font=(\"arial\",25,\"bold\"))\n",
    "buttons_5.grid(row=2,column=1, padx = 1, pady =3)\n",
    "buttons_6 = tk.Button(app, text = \"6\",command = lambda : click(6), height =2, width =5, bg =\"black\", fg =\"#F5F5F5\",font=(\"arial\",25,\"bold\"))\n",
    "buttons_6.grid(row=2,column=2, padx = 1, pady =3)\n",
    "buttons_7 = tk.Button(app, text = \"7\",command = lambda : click(7), height =2, width =5, bg =\"black\", fg =\"#F5F5F5\",font=(\"arial\",25,\"bold\"))\n",
    "buttons_7.grid(row=1,column=0, padx = 1, pady =3)\n",
    "buttons_8 = tk.Button(app, text = \"8\", command = lambda : click(8),height =2, width =5, bg =\"black\", fg =\"#F5F5F5\",font=(\"arial\",25,\"bold\"))\n",
    "buttons_8.grid(row=1,column=1, padx = 1, pady =3)\n",
    "buttons_9 = tk.Button(app, text = \"9\",command = lambda : click(9), height =2, width =5, bg =\"black\", fg =\"#F5F5F5\", font=(\"arial\",25,\"bold\"))\n",
    "buttons_9.grid(row=1,column=2, padx = 1, pady =3)\n",
    "buttons_0 = tk.Button(app, text = \"0\", command = lambda : click(0),height =2, width =5, bg =\"black\", fg =\"#F5F5F5\", font=(\"arial\",25,\"bold\"))\n",
    "buttons_0.grid(row=4,column=1, padx = 1, pady =3)     \n",
    "\n",
    "#Button symbols\n",
    "buttons_plus = tk.Button(app, text = \"+\", command = lambda : click(\"+\"), height =2, width =5, bg =\"black\", fg =\"#F5F5F5\", font=(\"arial\",25,\"bold\"))\n",
    "buttons_plus.grid(row=4,column=3, padx = 1, pady =3)\n",
    "buttons_minus = tk.Button(app, text = \"-\",command = lambda : click(\"-\"), height =2, width =5, bg =\"black\", fg =\"#F5F5F5\", font=(\"arial\",25,\"bold\"))\n",
    "buttons_minus.grid(row=3,column=3, padx = 1, pady =3)\n",
    "buttons_mul = tk.Button(app, text = \"*\",command = lambda : click(\"*\"),  height =2, width =5, bg =\"black\", fg =\"#F5F5F5\", font=(\"arial\",25,\"bold\"))\n",
    "buttons_mul.grid(row=2,column=3, padx = 1, pady =3)\n",
    "buttons_div = tk.Button(app, text = \"/\",command = lambda : click(\"/\"),  height =2, width =5, bg =\"black\", fg =\"#F5F5F5\", font=(\"arial\",25,\"bold\"))\n",
    "buttons_div.grid(row=1,column=3, padx = 1, pady =3)\n",
    "buttons_point = tk.Button(app, text = \".\",command = lambda : click(\".\"), height =2, width =5, bg =\"black\", fg =\"#F5F5F5\", font=(\"arial\",25,\"bold\"))\n",
    "buttons_point.grid(row=4,column=0, padx = 1, pady =3)\n",
    "\n",
    "#Operational buttons\n",
    "buttons_equal = tk.Button(app, text = \"=\", command = equal,  height =2, width =5, bg =\"black\", fg =\"#F5F5F5\", font=(\"arial\",25,\"bold\"))\n",
    "buttons_equal.grid(row=4,column=2, padx = 1, pady =3)\n",
    "buttons_clear = tk.Button(app, text = \"C\", command = clear,  height =2, width =5, bg =\"black\", fg =\"#F5F5F5\", font=(\"arial\",25,\"bold\"))\n",
    "buttons_clear.grid(row=5,column=3, padx = 1, pady =3)\n",
    "buttons_backspace = tk.Button(app, text = \"<-\",  command = lambda: backspace(\"<-\"), height =2, width =5, bg =\"black\", fg =\"#F5F5F5\", font=(\"arial\",25,\"bold\"))\n",
    "buttons_backspace.grid(row=5,column=0, padx = 1, pady =3)\n",
    "app.mainloop()"
   ]
  },
  {
   "cell_type": "markdown",
   "id": "ef094c93-6de3-4930-a80c-f3265bf388b8",
   "metadata": {},
   "source": []
  },
  {
   "cell_type": "code",
   "execution_count": null,
   "id": "6e1c9e81-2e79-41ec-954a-916273858adc",
   "metadata": {},
   "outputs": [],
   "source": []
  }
 ],
 "metadata": {
  "kernelspec": {
   "display_name": "Python 3 (ipykernel)",
   "language": "python",
   "name": "python3"
  },
  "language_info": {
   "codemirror_mode": {
    "name": "ipython",
    "version": 3
   },
   "file_extension": ".py",
   "mimetype": "text/x-python",
   "name": "python",
   "nbconvert_exporter": "python",
   "pygments_lexer": "ipython3",
   "version": "3.12.4"
  }
 },
 "nbformat": 4,
 "nbformat_minor": 5
}
