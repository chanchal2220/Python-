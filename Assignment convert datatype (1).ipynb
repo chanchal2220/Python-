{
 "cells": [
  {
   "cell_type": "code",
   "execution_count": 4,
   "id": "76dcd4aa-2b18-4740-887d-4192b1118d52",
   "metadata": {},
   "outputs": [
    {
     "name": "stdout",
     "output_type": "stream",
     "text": [
      "<class 'int'>\n",
      "56.0\n",
      "<class 'float'>\n"
     ]
    }
   ],
   "source": [
    "#Int to float\n",
    "no = 56\n",
    "new = float(no)\n",
    "print(type(no))\n",
    "print(new)\n",
    "print(type(new))"
   ]
  },
  {
   "cell_type": "code",
   "execution_count": 6,
   "id": "09db62d6-0aaa-4c70-9744-d8583bc74023",
   "metadata": {},
   "outputs": [
    {
     "name": "stdout",
     "output_type": "stream",
     "text": [
      "<class 'int'>\n",
      "56\n",
      "<class 'str'>\n"
     ]
    }
   ],
   "source": [
    "#Int to str\n",
    "no = 56\n",
    "new = str(no)\n",
    "print(type(no))\n",
    "print(new)\n",
    "print(type(new))"
   ]
  },
  {
   "cell_type": "code",
   "execution_count": 12,
   "id": "09e509a4-0d8f-4cf2-8aaa-4af87f134c5a",
   "metadata": {},
   "outputs": [
    {
     "ename": "TypeError",
     "evalue": "'int' object is not iterable",
     "output_type": "error",
     "traceback": [
      "\u001b[1;31m---------------------------------------------------------------------------\u001b[0m",
      "\u001b[1;31mTypeError\u001b[0m                                 Traceback (most recent call last)",
      "Cell \u001b[1;32mIn[12], line 3\u001b[0m\n\u001b[0;32m      1\u001b[0m \u001b[38;5;66;03m#Int to list\u001b[39;00m\n\u001b[0;32m      2\u001b[0m no \u001b[38;5;241m=\u001b[39m \u001b[38;5;241m56\u001b[39m\n\u001b[1;32m----> 3\u001b[0m new \u001b[38;5;241m=\u001b[39m \u001b[38;5;28mlist\u001b[39m(no)\n\u001b[0;32m      4\u001b[0m \u001b[38;5;28mprint\u001b[39m(\u001b[38;5;28mtype\u001b[39m(no))\n\u001b[0;32m      5\u001b[0m \u001b[38;5;28mprint\u001b[39m(new)\n",
      "\u001b[1;31mTypeError\u001b[0m: 'int' object is not iterable"
     ]
    }
   ],
   "source": [
    "#Int to list\n",
    "no = 56\n",
    "new = list(no)\n",
    "print(type(no))\n",
    "print(new)\n",
    "print(type(new))"
   ]
  },
  {
   "cell_type": "code",
   "execution_count": 14,
   "id": "6210d5ea-bf90-4aff-a17b-b84683b3636e",
   "metadata": {},
   "outputs": [
    {
     "name": "stdout",
     "output_type": "stream",
     "text": [
      "<class 'int'>\n",
      "(56+0j)\n",
      "<class 'complex'>\n"
     ]
    }
   ],
   "source": [
    "#Int to complex\n",
    "no = 56\n",
    "new = complex(no)\n",
    "print(type(no))\n",
    "print(new)\n",
    "print(type(new))"
   ]
  },
  {
   "cell_type": "code",
   "execution_count": 18,
   "id": "1924a25e-aeb3-4c7c-84e3-b866eacfd1f9",
   "metadata": {},
   "outputs": [
    {
     "ename": "TypeError",
     "evalue": "'int' object is not iterable",
     "output_type": "error",
     "traceback": [
      "\u001b[1;31m---------------------------------------------------------------------------\u001b[0m",
      "\u001b[1;31mTypeError\u001b[0m                                 Traceback (most recent call last)",
      "Cell \u001b[1;32mIn[18], line 3\u001b[0m\n\u001b[0;32m      1\u001b[0m \u001b[38;5;66;03m#Int to Tuple\u001b[39;00m\n\u001b[0;32m      2\u001b[0m no \u001b[38;5;241m=\u001b[39m \u001b[38;5;241m56\u001b[39m\n\u001b[1;32m----> 3\u001b[0m new \u001b[38;5;241m=\u001b[39m \u001b[38;5;28mtuple\u001b[39m(no)\n\u001b[0;32m      4\u001b[0m \u001b[38;5;28mprint\u001b[39m(\u001b[38;5;28mtype\u001b[39m(no))\n\u001b[0;32m      5\u001b[0m \u001b[38;5;28mprint\u001b[39m(new)\n",
      "\u001b[1;31mTypeError\u001b[0m: 'int' object is not iterable"
     ]
    }
   ],
   "source": [
    "#Int to Tuple\n",
    "no = 56\n",
    "new = tuple(no)\n",
    "print(type(no))\n",
    "print(new)\n",
    "print(type(new))"
   ]
  },
  {
   "cell_type": "code",
   "execution_count": 20,
   "id": "f6ee4e8d-1b73-4290-b82a-22f30b25e70b",
   "metadata": {},
   "outputs": [
    {
     "name": "stdout",
     "output_type": "stream",
     "text": [
      "<class 'int'>\n",
      "True\n",
      "<class 'bool'>\n"
     ]
    }
   ],
   "source": [
    "#Int to Boolean\n",
    "no = 56\n",
    "new = bool(no)\n",
    "print(type(no))\n",
    "print(new)\n",
    "print(type(new))"
   ]
  },
  {
   "cell_type": "code",
   "execution_count": 22,
   "id": "a74781a8-d093-436e-8cfc-e62f3905756d",
   "metadata": {},
   "outputs": [
    {
     "ename": "TypeError",
     "evalue": "'int' object is not iterable",
     "output_type": "error",
     "traceback": [
      "\u001b[1;31m---------------------------------------------------------------------------\u001b[0m",
      "\u001b[1;31mTypeError\u001b[0m                                 Traceback (most recent call last)",
      "Cell \u001b[1;32mIn[22], line 3\u001b[0m\n\u001b[0;32m      1\u001b[0m \u001b[38;5;66;03m#Int to Dictionary\u001b[39;00m\n\u001b[0;32m      2\u001b[0m no \u001b[38;5;241m=\u001b[39m \u001b[38;5;241m56\u001b[39m\n\u001b[1;32m----> 3\u001b[0m new \u001b[38;5;241m=\u001b[39m \u001b[38;5;28mdict\u001b[39m(no)\n\u001b[0;32m      4\u001b[0m \u001b[38;5;28mprint\u001b[39m(\u001b[38;5;28mtype\u001b[39m(no))\n\u001b[0;32m      5\u001b[0m \u001b[38;5;28mprint\u001b[39m(new)\n",
      "\u001b[1;31mTypeError\u001b[0m: 'int' object is not iterable"
     ]
    }
   ],
   "source": [
    "#Int to Dictionary\n",
    "no = 56\n",
    "new = dict(no)\n",
    "print(type(no))\n",
    "print(new)\n",
    "print(type(new))"
   ]
  },
  {
   "cell_type": "code",
   "execution_count": 24,
   "id": "ffb2e87e-15e7-4bda-8d46-456753990afc",
   "metadata": {},
   "outputs": [
    {
     "ename": "TypeError",
     "evalue": "'int' object is not iterable",
     "output_type": "error",
     "traceback": [
      "\u001b[1;31m---------------------------------------------------------------------------\u001b[0m",
      "\u001b[1;31mTypeError\u001b[0m                                 Traceback (most recent call last)",
      "Cell \u001b[1;32mIn[24], line 3\u001b[0m\n\u001b[0;32m      1\u001b[0m \u001b[38;5;66;03m#Int to Set\u001b[39;00m\n\u001b[0;32m      2\u001b[0m no \u001b[38;5;241m=\u001b[39m \u001b[38;5;241m56\u001b[39m\n\u001b[1;32m----> 3\u001b[0m new \u001b[38;5;241m=\u001b[39m \u001b[38;5;28mset\u001b[39m(no)\n\u001b[0;32m      4\u001b[0m \u001b[38;5;28mprint\u001b[39m(\u001b[38;5;28mtype\u001b[39m(no))\n\u001b[0;32m      5\u001b[0m \u001b[38;5;28mprint\u001b[39m(new)\n",
      "\u001b[1;31mTypeError\u001b[0m: 'int' object is not iterable"
     ]
    }
   ],
   "source": [
    "#Int to Set\n",
    "no = 56\n",
    "new = set(no)\n",
    "print(type(no))\n",
    "print(new)\n",
    "print(type(new))"
   ]
  },
  {
   "cell_type": "code",
   "execution_count": 28,
   "id": "12696176-60ef-4749-a37c-a92d6e6107ce",
   "metadata": {},
   "outputs": [
    {
     "name": "stdout",
     "output_type": "stream",
     "text": [
      "<class 'float'>\n",
      "56\n",
      "<class 'int'>\n"
     ]
    }
   ],
   "source": [
    "#float to int\n",
    "no = 56.25\n",
    "new = int(no)\n",
    "print(type(no))\n",
    "print(new)\n",
    "print(type(new))"
   ]
  },
  {
   "cell_type": "code",
   "execution_count": 30,
   "id": "c32881df-dc74-4236-985a-9f3388bd69fc",
   "metadata": {},
   "outputs": [
    {
     "name": "stdout",
     "output_type": "stream",
     "text": [
      "<class 'float'>\n",
      "56.25\n",
      "<class 'str'>\n"
     ]
    }
   ],
   "source": [
    "#float to str\n",
    "no = 56.25\n",
    "new = str(no)\n",
    "print(type(no))\n",
    "print(new)\n",
    "print(type(new))"
   ]
  },
  {
   "cell_type": "code",
   "execution_count": 32,
   "id": "a0f5fb48-3240-4e5b-94f3-c3d785b45d73",
   "metadata": {},
   "outputs": [
    {
     "ename": "TypeError",
     "evalue": "'float' object is not iterable",
     "output_type": "error",
     "traceback": [
      "\u001b[1;31m---------------------------------------------------------------------------\u001b[0m",
      "\u001b[1;31mTypeError\u001b[0m                                 Traceback (most recent call last)",
      "Cell \u001b[1;32mIn[32], line 3\u001b[0m\n\u001b[0;32m      1\u001b[0m \u001b[38;5;66;03m#float to list\u001b[39;00m\n\u001b[0;32m      2\u001b[0m no \u001b[38;5;241m=\u001b[39m \u001b[38;5;241m56.25\u001b[39m\n\u001b[1;32m----> 3\u001b[0m new \u001b[38;5;241m=\u001b[39m \u001b[38;5;28mlist\u001b[39m(no)\n\u001b[0;32m      4\u001b[0m \u001b[38;5;28mprint\u001b[39m(\u001b[38;5;28mtype\u001b[39m(no))\n\u001b[0;32m      5\u001b[0m \u001b[38;5;28mprint\u001b[39m(new)\n",
      "\u001b[1;31mTypeError\u001b[0m: 'float' object is not iterable"
     ]
    }
   ],
   "source": [
    "#float to list\n",
    "no = 56.25\n",
    "new = list(no)\n",
    "print(type(no))\n",
    "print(new)\n",
    "print(type(new))"
   ]
  },
  {
   "cell_type": "code",
   "execution_count": 34,
   "id": "a76f3916-84ad-4edc-84b8-f74b58d2094e",
   "metadata": {},
   "outputs": [
    {
     "name": "stdout",
     "output_type": "stream",
     "text": [
      "<class 'float'>\n",
      "(56.25+0j)\n",
      "<class 'complex'>\n"
     ]
    }
   ],
   "source": [
    "#float to cocomplex\n",
    "no = 56.25\n",
    "new = complex(no)\n",
    "print(type(no))\n",
    "print(new)\n",
    "print(type(new))"
   ]
  },
  {
   "cell_type": "code",
   "execution_count": 36,
   "id": "af962a06-e79d-4ea3-b81c-7e68e4b0ba53",
   "metadata": {},
   "outputs": [
    {
     "ename": "TypeError",
     "evalue": "'float' object is not iterable",
     "output_type": "error",
     "traceback": [
      "\u001b[1;31m---------------------------------------------------------------------------\u001b[0m",
      "\u001b[1;31mTypeError\u001b[0m                                 Traceback (most recent call last)",
      "Cell \u001b[1;32mIn[36], line 3\u001b[0m\n\u001b[0;32m      1\u001b[0m \u001b[38;5;66;03m#float to Tuple\u001b[39;00m\n\u001b[0;32m      2\u001b[0m no \u001b[38;5;241m=\u001b[39m \u001b[38;5;241m56.25\u001b[39m\n\u001b[1;32m----> 3\u001b[0m new \u001b[38;5;241m=\u001b[39m \u001b[38;5;28mtuple\u001b[39m(no)\n\u001b[0;32m      4\u001b[0m \u001b[38;5;28mprint\u001b[39m(\u001b[38;5;28mtype\u001b[39m(no))\n\u001b[0;32m      5\u001b[0m \u001b[38;5;28mprint\u001b[39m(new)\n",
      "\u001b[1;31mTypeError\u001b[0m: 'float' object is not iterable"
     ]
    }
   ],
   "source": [
    "#float to Tuple\n",
    "no = 56.25\n",
    "new = tuple(no)\n",
    "print(type(no))\n",
    "print(new)\n",
    "print(type(new))"
   ]
  },
  {
   "cell_type": "code",
   "execution_count": 38,
   "id": "ea3a5c4a-5d0f-487a-9b0e-0072844ef5be",
   "metadata": {},
   "outputs": [
    {
     "name": "stdout",
     "output_type": "stream",
     "text": [
      "<class 'float'>\n",
      "True\n",
      "<class 'bool'>\n"
     ]
    }
   ],
   "source": [
    "#float to Boolean\n",
    "no = 56.25\n",
    "new = bool(no)\n",
    "print(type(no))\n",
    "print(new)\n",
    "print(type(new))"
   ]
  },
  {
   "cell_type": "code",
   "execution_count": 40,
   "id": "4c45f2b7-81fc-4320-a0cb-2fd9cd9a2376",
   "metadata": {},
   "outputs": [
    {
     "ename": "TypeError",
     "evalue": "'float' object is not iterable",
     "output_type": "error",
     "traceback": [
      "\u001b[1;31m---------------------------------------------------------------------------\u001b[0m",
      "\u001b[1;31mTypeError\u001b[0m                                 Traceback (most recent call last)",
      "Cell \u001b[1;32mIn[40], line 3\u001b[0m\n\u001b[0;32m      1\u001b[0m \u001b[38;5;66;03m#float to Dictionary\u001b[39;00m\n\u001b[0;32m      2\u001b[0m no \u001b[38;5;241m=\u001b[39m \u001b[38;5;241m56.25\u001b[39m\n\u001b[1;32m----> 3\u001b[0m new \u001b[38;5;241m=\u001b[39m \u001b[38;5;28mdict\u001b[39m(no)\n\u001b[0;32m      4\u001b[0m \u001b[38;5;28mprint\u001b[39m(\u001b[38;5;28mtype\u001b[39m(no))\n\u001b[0;32m      5\u001b[0m \u001b[38;5;28mprint\u001b[39m(new)\n",
      "\u001b[1;31mTypeError\u001b[0m: 'float' object is not iterable"
     ]
    }
   ],
   "source": [
    "#float to Dictionary\n",
    "no = 56.25\n",
    "new = dict(no)\n",
    "print(type(no))\n",
    "print(new)\n",
    "print(type(new))"
   ]
  },
  {
   "cell_type": "code",
   "execution_count": 42,
   "id": "a4f0d245-dcca-48c7-894d-24b9e6744b5f",
   "metadata": {},
   "outputs": [
    {
     "ename": "TypeError",
     "evalue": "'float' object is not iterable",
     "output_type": "error",
     "traceback": [
      "\u001b[1;31m---------------------------------------------------------------------------\u001b[0m",
      "\u001b[1;31mTypeError\u001b[0m                                 Traceback (most recent call last)",
      "Cell \u001b[1;32mIn[42], line 3\u001b[0m\n\u001b[0;32m      1\u001b[0m \u001b[38;5;66;03m#float to set\u001b[39;00m\n\u001b[0;32m      2\u001b[0m no \u001b[38;5;241m=\u001b[39m \u001b[38;5;241m56.25\u001b[39m\n\u001b[1;32m----> 3\u001b[0m new \u001b[38;5;241m=\u001b[39m \u001b[38;5;28mset\u001b[39m(no)\n\u001b[0;32m      4\u001b[0m \u001b[38;5;28mprint\u001b[39m(\u001b[38;5;28mtype\u001b[39m(no))\n\u001b[0;32m      5\u001b[0m \u001b[38;5;28mprint\u001b[39m(new)\n",
      "\u001b[1;31mTypeError\u001b[0m: 'float' object is not iterable"
     ]
    }
   ],
   "source": [
    "#float to set\n",
    "no = 56.25\n",
    "new = set(no)\n",
    "print(type(no))\n",
    "print(new)\n",
    "print(type(new))"
   ]
  },
  {
   "cell_type": "code",
   "execution_count": 48,
   "id": "87dfe78c-a95d-4d12-a4d6-a0f769348e09",
   "metadata": {},
   "outputs": [
    {
     "name": "stdout",
     "output_type": "stream",
     "text": [
      "<class 'str'>\n",
      "56\n",
      "<class 'int'>\n"
     ]
    },
    {
     "ename": "ValueError",
     "evalue": "invalid literal for int() with base 10: 'chanchal'",
     "output_type": "error",
     "traceback": [
      "\u001b[1;31m---------------------------------------------------------------------------\u001b[0m",
      "\u001b[1;31mValueError\u001b[0m                                Traceback (most recent call last)",
      "Cell \u001b[1;32mIn[48], line 9\u001b[0m\n\u001b[0;32m      6\u001b[0m \u001b[38;5;28mprint\u001b[39m(new)\n\u001b[0;32m      7\u001b[0m \u001b[38;5;28mprint\u001b[39m(\u001b[38;5;28mtype\u001b[39m(new))\n\u001b[1;32m----> 9\u001b[0m new2 \u001b[38;5;241m=\u001b[39m \u001b[38;5;28mint\u001b[39m(name)\n\u001b[0;32m     10\u001b[0m \u001b[38;5;28mprint\u001b[39m(\u001b[38;5;28mtype\u001b[39m(new2))\n\u001b[0;32m     11\u001b[0m \u001b[38;5;28mprint\u001b[39m(new2)\n",
      "\u001b[1;31mValueError\u001b[0m: invalid literal for int() with base 10: 'chanchal'"
     ]
    }
   ],
   "source": [
    "#str to int\n",
    "no = \"56\"\n",
    "name = \"chanchal\"\n",
    "new = int(no)\n",
    "print(type(no))\n",
    "print(new)\n",
    "print(type(new))\n",
    "\n",
    "new2 = int(name)\n",
    "print(type(new2))\n",
    "print(new2)\n",
    "print(type(new2))"
   ]
  },
  {
   "cell_type": "code",
   "execution_count": 52,
   "id": "d9a3b930-f647-489f-ad1f-4b9301f35348",
   "metadata": {},
   "outputs": [
    {
     "name": "stdout",
     "output_type": "stream",
     "text": [
      "<class 'str'>\n",
      "56.0\n",
      "<class 'float'>\n"
     ]
    },
    {
     "ename": "ValueError",
     "evalue": "could not convert string to float: 'chanchal'",
     "output_type": "error",
     "traceback": [
      "\u001b[1;31m---------------------------------------------------------------------------\u001b[0m",
      "\u001b[1;31mValueError\u001b[0m                                Traceback (most recent call last)",
      "Cell \u001b[1;32mIn[52], line 9\u001b[0m\n\u001b[0;32m      6\u001b[0m \u001b[38;5;28mprint\u001b[39m(new)\n\u001b[0;32m      7\u001b[0m \u001b[38;5;28mprint\u001b[39m(\u001b[38;5;28mtype\u001b[39m(new))\n\u001b[1;32m----> 9\u001b[0m new2 \u001b[38;5;241m=\u001b[39m \u001b[38;5;28mfloat\u001b[39m(name)\n\u001b[0;32m     10\u001b[0m \u001b[38;5;28mprint\u001b[39m(\u001b[38;5;28mtype\u001b[39m(new2))\n\u001b[0;32m     11\u001b[0m \u001b[38;5;28mprint\u001b[39m(new2)\n",
      "\u001b[1;31mValueError\u001b[0m: could not convert string to float: 'chanchal'"
     ]
    }
   ],
   "source": [
    "#str to float\n",
    "no = \"56\"\n",
    "name = \"chanchal\"\n",
    "new = float(no)\n",
    "print(type(no))\n",
    "print(new)\n",
    "print(type(new))\n",
    "\n",
    "new2 = float(name)\n",
    "print(type(new2))\n",
    "print(new2)\n",
    "print(type(new2))"
   ]
  },
  {
   "cell_type": "code",
   "execution_count": 62,
   "id": "632ae89c-cd2a-43de-b7a7-6ccb8368eb1c",
   "metadata": {},
   "outputs": [
    {
     "name": "stdout",
     "output_type": "stream",
     "text": [
      "<class 'str'>\n",
      "['c', 'h', 'a', 'n', 'c', 'h', 'a', 'l']\n",
      "<class 'list'>\n"
     ]
    }
   ],
   "source": [
    "#str to list\n",
    "name = \"chanchal\"\n",
    "new = list(name)\n",
    "print(type(name))\n",
    "print(new)\n",
    "print(type(new))"
   ]
  },
  {
   "cell_type": "code",
   "execution_count": 68,
   "id": "f6e0c18e-2698-4ace-a5f8-329c509cb872",
   "metadata": {},
   "outputs": [
    {
     "name": "stdout",
     "output_type": "stream",
     "text": [
      "<class 'str'>\n",
      "56j\n",
      "<class 'complex'>\n"
     ]
    },
    {
     "ename": "ValueError",
     "evalue": "complex() arg is a malformed string",
     "output_type": "error",
     "traceback": [
      "\u001b[1;31m---------------------------------------------------------------------------\u001b[0m",
      "\u001b[1;31mValueError\u001b[0m                                Traceback (most recent call last)",
      "Cell \u001b[1;32mIn[68], line 9\u001b[0m\n\u001b[0;32m      6\u001b[0m \u001b[38;5;28mprint\u001b[39m(\u001b[38;5;28mtype\u001b[39m(new))\n\u001b[0;32m      8\u001b[0m name2 \u001b[38;5;241m=\u001b[39m \u001b[38;5;124m\"\u001b[39m\u001b[38;5;124mchanchal\u001b[39m\u001b[38;5;124m\"\u001b[39m\n\u001b[1;32m----> 9\u001b[0m new \u001b[38;5;241m=\u001b[39m \u001b[38;5;28mcomplex\u001b[39m(name2)\n\u001b[0;32m     10\u001b[0m \u001b[38;5;28mprint\u001b[39m(\u001b[38;5;28mtype\u001b[39m(name2))\n\u001b[0;32m     11\u001b[0m \u001b[38;5;28mprint\u001b[39m(new)\n",
      "\u001b[1;31mValueError\u001b[0m: complex() arg is a malformed string"
     ]
    }
   ],
   "source": [
    "#str to complex\n",
    "name = \"56j\"\n",
    "new = complex(name)\n",
    "print(type(name))\n",
    "print(new)\n",
    "print(type(new))\n",
    "\n",
    "name2 = \"chanchal\"\n",
    "new = complex(name2)\n",
    "print(type(name2))\n",
    "print(new)\n",
    "print(type(new))"
   ]
  },
  {
   "cell_type": "code",
   "execution_count": 72,
   "id": "c9ee13d4-fd5b-4763-90a4-d506a4e7c294",
   "metadata": {},
   "outputs": [
    {
     "name": "stdout",
     "output_type": "stream",
     "text": [
      "<class 'str'>\n",
      "('c', 'h', 'a', 'n', 'c', 'h', 'a', 'l')\n",
      "<class 'tuple'>\n"
     ]
    }
   ],
   "source": [
    "#str to tuple\n",
    "name = \"chanchal\"\n",
    "new = tuple(name)\n",
    "print(type(name))\n",
    "print(new)\n",
    "print(type(new))"
   ]
  },
  {
   "cell_type": "code",
   "execution_count": 74,
   "id": "8dbd86ff-188b-4d9a-bd0e-9144c7c9bb26",
   "metadata": {},
   "outputs": [
    {
     "name": "stdout",
     "output_type": "stream",
     "text": [
      "<class 'str'>\n",
      "True\n",
      "<class 'bool'>\n"
     ]
    }
   ],
   "source": [
    "#str to Boolean\n",
    "name = \"chanchal\"\n",
    "new = bool(name)\n",
    "print(type(name))\n",
    "print(new)\n",
    "print(type(new))"
   ]
  },
  {
   "cell_type": "code",
   "execution_count": 84,
   "id": "34460284-9e27-47f7-a34f-6e9c862d8809",
   "metadata": {},
   "outputs": [
    {
     "ename": "ValueError",
     "evalue": "dictionary update sequence element #0 has length 1; 2 is required",
     "output_type": "error",
     "traceback": [
      "\u001b[1;31m---------------------------------------------------------------------------\u001b[0m",
      "\u001b[1;31mValueError\u001b[0m                                Traceback (most recent call last)",
      "Cell \u001b[1;32mIn[84], line 3\u001b[0m\n\u001b[0;32m      1\u001b[0m \u001b[38;5;66;03m#str to Dictionary\u001b[39;00m\n\u001b[0;32m      2\u001b[0m name \u001b[38;5;241m=\u001b[39m \u001b[38;5;124m\"\u001b[39m\u001b[38;5;124mchanchal\u001b[39m\u001b[38;5;124m\"\u001b[39m\n\u001b[1;32m----> 3\u001b[0m new \u001b[38;5;241m=\u001b[39m \u001b[38;5;28mdict\u001b[39m(name)\n\u001b[0;32m      4\u001b[0m \u001b[38;5;28mprint\u001b[39m(\u001b[38;5;28mtype\u001b[39m(name))\n\u001b[0;32m      5\u001b[0m \u001b[38;5;28mprint\u001b[39m(new)\n",
      "\u001b[1;31mValueError\u001b[0m: dictionary update sequence element #0 has length 1; 2 is required"
     ]
    }
   ],
   "source": [
    "#str to Dictionary\n",
    "name = \"chanchal\"\n",
    "new = dict(name)\n",
    "print(type(name))\n",
    "print(new)\n",
    "print(type(new))"
   ]
  },
  {
   "cell_type": "code",
   "execution_count": 86,
   "id": "76ed75a0-00bb-464c-ab8c-3ccc2995d8e7",
   "metadata": {},
   "outputs": [
    {
     "name": "stdout",
     "output_type": "stream",
     "text": [
      "<class 'str'>\n",
      "{'a', 'l', 'n', 'h', 'c'}\n",
      "<class 'set'>\n"
     ]
    }
   ],
   "source": [
    "#str to Set\n",
    "name = \"chanchal\"\n",
    "new = set(name)\n",
    "print(type(name))\n",
    "print(new)\n",
    "print(type(new))"
   ]
  },
  {
   "cell_type": "code",
   "execution_count": 124,
   "id": "48b7f174-6a04-44ac-93b7-579477fe2eb3",
   "metadata": {},
   "outputs": [
    {
     "ename": "TypeError",
     "evalue": "int() argument must be a string, a bytes-like object or a real number, not 'list'",
     "output_type": "error",
     "traceback": [
      "\u001b[1;31m---------------------------------------------------------------------------\u001b[0m",
      "\u001b[1;31mTypeError\u001b[0m                                 Traceback (most recent call last)",
      "Cell \u001b[1;32mIn[124], line 4\u001b[0m\n\u001b[0;32m      2\u001b[0m list_1 \u001b[38;5;241m=\u001b[39m [\u001b[38;5;124m\"\u001b[39m\u001b[38;5;124mchanchal\u001b[39m\u001b[38;5;124m\"\u001b[39m,\u001b[38;5;124m\"\u001b[39m\u001b[38;5;124msonam\u001b[39m\u001b[38;5;124m\"\u001b[39m,\u001b[38;5;241m25\u001b[39m,\u001b[38;5;124m\"\u001b[39m\u001b[38;5;124mpython is language\u001b[39m\u001b[38;5;124m\"\u001b[39m,\u001b[38;5;241m65.89\u001b[39m]\n\u001b[0;32m      3\u001b[0m list_2 \u001b[38;5;241m=\u001b[39m [\u001b[38;5;241m25\u001b[39m,\u001b[38;5;241m56\u001b[39m]\n\u001b[1;32m----> 4\u001b[0m new \u001b[38;5;241m=\u001b[39m \u001b[38;5;28mint\u001b[39m(list_1)\n\u001b[0;32m      5\u001b[0m \u001b[38;5;28mprint\u001b[39m(\u001b[38;5;28mtype\u001b[39m(list_1))\n\u001b[0;32m      6\u001b[0m \u001b[38;5;28mprint\u001b[39m(new)\n",
      "\u001b[1;31mTypeError\u001b[0m: int() argument must be a string, a bytes-like object or a real number, not 'list'"
     ]
    }
   ],
   "source": [
    "#list to int\n",
    "list_1 = [\"chanchal\",\"sonam\",25,\"python is language\",65.89]\n",
    "list_2 = [25,56]\n",
    "new = int(list_1)\n",
    "print(type(list_1))\n",
    "print(new)\n",
    "print(type(new))\n",
    "\n",
    "new2 = int(list_2)\n",
    "print(type(list_2))\n",
    "print(new2)\n",
    "print(type(new2))"
   ]
  },
  {
   "cell_type": "code",
   "execution_count": 122,
   "id": "8c815148-85af-4f61-8523-cf80d68e69a7",
   "metadata": {},
   "outputs": [
    {
     "ename": "TypeError",
     "evalue": "float() argument must be a string or a real number, not 'list'",
     "output_type": "error",
     "traceback": [
      "\u001b[1;31m---------------------------------------------------------------------------\u001b[0m",
      "\u001b[1;31mTypeError\u001b[0m                                 Traceback (most recent call last)",
      "Cell \u001b[1;32mIn[122], line 4\u001b[0m\n\u001b[0;32m      2\u001b[0m list_1 \u001b[38;5;241m=\u001b[39m [\u001b[38;5;124m\"\u001b[39m\u001b[38;5;124mchanchal\u001b[39m\u001b[38;5;124m\"\u001b[39m,\u001b[38;5;124m\"\u001b[39m\u001b[38;5;124msonam\u001b[39m\u001b[38;5;124m\"\u001b[39m,\u001b[38;5;241m25\u001b[39m,\u001b[38;5;124m\"\u001b[39m\u001b[38;5;124mpython is language\u001b[39m\u001b[38;5;124m\"\u001b[39m,\u001b[38;5;241m65.89\u001b[39m]\n\u001b[0;32m      3\u001b[0m list_2 \u001b[38;5;241m=\u001b[39m [\u001b[38;5;241m25\u001b[39m,\u001b[38;5;241m56\u001b[39m]\n\u001b[1;32m----> 4\u001b[0m new \u001b[38;5;241m=\u001b[39m \u001b[38;5;28mfloat\u001b[39m(list_1)\n\u001b[0;32m      5\u001b[0m \u001b[38;5;28mprint\u001b[39m(\u001b[38;5;28mtype\u001b[39m(list_1))\n\u001b[0;32m      6\u001b[0m \u001b[38;5;28mprint\u001b[39m(new)\n",
      "\u001b[1;31mTypeError\u001b[0m: float() argument must be a string or a real number, not 'list'"
     ]
    }
   ],
   "source": [
    "#list to float\n",
    "list_1 = [\"chanchal\",\"sonam\",25,\"python is language\",65.89]\n",
    "list_2 = [25,56]\n",
    "new = float(list_1)\n",
    "print(type(list_1))\n",
    "print(new)\n",
    "print(type(new))\n",
    "\n",
    "new2 = float(list_2)\n",
    "print(type(list_2))\n",
    "print(new2)\n",
    "print(type(new2))"
   ]
  },
  {
   "cell_type": "code",
   "execution_count": 102,
   "id": "e14c2126-f649-4a86-bdab-3d640bacc406",
   "metadata": {},
   "outputs": [
    {
     "name": "stdout",
     "output_type": "stream",
     "text": [
      "<class 'list'>\n",
      "['chanchal', 'sonam', 25, 'python is language', 65.89]\n",
      "<class 'str'>\n"
     ]
    }
   ],
   "source": [
    "#list to str\n",
    "list_1 = [\"chanchal\",\"sonam\",25,\"python is language\",65.89]\n",
    "new = str(list_1)\n",
    "print(type(list_1))\n",
    "print(new)\n",
    "print(type(new))"
   ]
  },
  {
   "cell_type": "code",
   "execution_count": 114,
   "id": "b9d36532-ae02-4492-9a37-5c2420c20c28",
   "metadata": {},
   "outputs": [
    {
     "ename": "TypeError",
     "evalue": "complex() first argument must be a string or a number, not 'list'",
     "output_type": "error",
     "traceback": [
      "\u001b[1;31m---------------------------------------------------------------------------\u001b[0m",
      "\u001b[1;31mTypeError\u001b[0m                                 Traceback (most recent call last)",
      "Cell \u001b[1;32mIn[114], line 3\u001b[0m\n\u001b[0;32m      1\u001b[0m \u001b[38;5;66;03m#list to complex\u001b[39;00m\n\u001b[0;32m      2\u001b[0m list_1 \u001b[38;5;241m=\u001b[39m [\u001b[38;5;124m\"\u001b[39m\u001b[38;5;124mchanchal\u001b[39m\u001b[38;5;124m\"\u001b[39m,\u001b[38;5;124m\"\u001b[39m\u001b[38;5;124msonam\u001b[39m\u001b[38;5;124m\"\u001b[39m,\u001b[38;5;241m25\u001b[39m,\u001b[38;5;124m\"\u001b[39m\u001b[38;5;124mpython is language\u001b[39m\u001b[38;5;124m\"\u001b[39m,\u001b[38;5;241m65.89\u001b[39m]\n\u001b[1;32m----> 3\u001b[0m new \u001b[38;5;241m=\u001b[39m \u001b[38;5;28mcomplex\u001b[39m(list_1)\n\u001b[0;32m      4\u001b[0m \u001b[38;5;28mprint\u001b[39m(\u001b[38;5;28mtype\u001b[39m(list_1))\n\u001b[0;32m      5\u001b[0m \u001b[38;5;28mprint\u001b[39m(new)\n",
      "\u001b[1;31mTypeError\u001b[0m: complex() first argument must be a string or a number, not 'list'"
     ]
    }
   ],
   "source": [
    "#list to complex\n",
    "list_1 = [\"chanchal\",\"sonam\",25,\"python is language\",65.89]\n",
    "new = complex(list_1)\n",
    "print(type(list_1))\n",
    "print(new)\n",
    "print(type(new))\n",
    "\n"
   ]
  },
  {
   "cell_type": "code",
   "execution_count": 128,
   "id": "914fc429-e345-4d31-87cb-f23e4a0c7a17",
   "metadata": {},
   "outputs": [
    {
     "ename": "TypeError",
     "evalue": "complex() first argument must be a string or a number, not 'list'",
     "output_type": "error",
     "traceback": [
      "\u001b[1;31m---------------------------------------------------------------------------\u001b[0m",
      "\u001b[1;31mTypeError\u001b[0m                                 Traceback (most recent call last)",
      "Cell \u001b[1;32mIn[128], line 3\u001b[0m\n\u001b[0;32m      1\u001b[0m list_2 \u001b[38;5;241m=\u001b[39m [\u001b[38;5;241m25\u001b[39m]\n\u001b[1;32m----> 3\u001b[0m new2 \u001b[38;5;241m=\u001b[39m \u001b[38;5;28mcomplex\u001b[39m(list_2)\n\u001b[0;32m      4\u001b[0m \u001b[38;5;28mprint\u001b[39m(\u001b[38;5;28mtype\u001b[39m(list_2))\n\u001b[0;32m      5\u001b[0m \u001b[38;5;28mprint\u001b[39m(new2)\n",
      "\u001b[1;31mTypeError\u001b[0m: complex() first argument must be a string or a number, not 'list'"
     ]
    }
   ],
   "source": [
    "list_2 = [25]\n",
    "\n",
    "new2 = complex(list_2)\n",
    "print(type(list_2))\n",
    "print(new2)\n",
    "print(type(new2))"
   ]
  },
  {
   "cell_type": "code",
   "execution_count": 130,
   "id": "b4695a2c-9ebd-424b-87b2-178c4b775462",
   "metadata": {},
   "outputs": [
    {
     "name": "stdout",
     "output_type": "stream",
     "text": [
      "<class 'list'>\n",
      "('chanchal', 'sonam', 25, 'python is language', 65.89)\n",
      "<class 'tuple'>\n"
     ]
    }
   ],
   "source": [
    "#list to tuple\n",
    "list_1 = [\"chanchal\",\"sonam\",25,\"python is language\",65.89]\n",
    "new = tuple(list_1)\n",
    "print(type(list_1))\n",
    "print(new)\n",
    "print(type(new))"
   ]
  },
  {
   "cell_type": "code",
   "execution_count": 132,
   "id": "623af006-7b44-49a3-88b6-2dda89ceb9c7",
   "metadata": {},
   "outputs": [
    {
     "name": "stdout",
     "output_type": "stream",
     "text": [
      "<class 'list'>\n",
      "True\n",
      "<class 'bool'>\n"
     ]
    }
   ],
   "source": [
    "#list to Boolean\n",
    "list_1 = [\"chanchal\",\"sonam\",25,\"python is language\",65.89]\n",
    "new = bool(list_1)\n",
    "print(type(list_1))\n",
    "print(new)\n",
    "print(type(new))"
   ]
  },
  {
   "cell_type": "code",
   "execution_count": 142,
   "id": "66c65aa5-aa28-4bf3-a293-4ab81751f5f0",
   "metadata": {},
   "outputs": [
    {
     "ename": "ValueError",
     "evalue": "dictionary update sequence element #0 has length 4; 2 is required",
     "output_type": "error",
     "traceback": [
      "\u001b[1;31m---------------------------------------------------------------------------\u001b[0m",
      "\u001b[1;31mValueError\u001b[0m                                Traceback (most recent call last)",
      "Cell \u001b[1;32mIn[142], line 3\u001b[0m\n\u001b[0;32m      1\u001b[0m \u001b[38;5;66;03m#list to dictionary\u001b[39;00m\n\u001b[0;32m      2\u001b[0m list_1 \u001b[38;5;241m=\u001b[39m [\u001b[38;5;124m\"\u001b[39m\u001b[38;5;124mname\u001b[39m\u001b[38;5;124m\"\u001b[39m,\u001b[38;5;124m\"\u001b[39m\u001b[38;5;124msonam\u001b[39m\u001b[38;5;124m\"\u001b[39m,\u001b[38;5;124m\"\u001b[39m\u001b[38;5;124mage\u001b[39m\u001b[38;5;124m\"\u001b[39m,\u001b[38;5;241m65\u001b[39m]\n\u001b[1;32m----> 3\u001b[0m new \u001b[38;5;241m=\u001b[39m \u001b[38;5;28mdict\u001b[39m(list_1)\n\u001b[0;32m      4\u001b[0m \u001b[38;5;28mprint\u001b[39m(\u001b[38;5;28mtype\u001b[39m(list_1))\n\u001b[0;32m      5\u001b[0m \u001b[38;5;28mprint\u001b[39m(new)\n",
      "\u001b[1;31mValueError\u001b[0m: dictionary update sequence element #0 has length 4; 2 is required"
     ]
    }
   ],
   "source": [
    "#list to dictionary\n",
    "list_1 = [\"name\",\"sonam\",\"age\",65]\n",
    "new = dict(list_1)\n",
    "print(type(list_1))\n",
    "print(new)\n",
    "print(type(new))"
   ]
  },
  {
   "cell_type": "code",
   "execution_count": 148,
   "id": "ba595d33-042f-48c3-9b2a-f815606feaaf",
   "metadata": {},
   "outputs": [
    {
     "name": "stdout",
     "output_type": "stream",
     "text": [
      "<class 'list'>\n",
      "{65, 35, 'sonam', 'age', 'name'}\n",
      "<class 'set'>\n"
     ]
    }
   ],
   "source": [
    "#list to set\n",
    "list_1 = [\"name\", 35,\"sonam\",\"age\",65]\n",
    "new = set(list_1)\n",
    "print(type(list_1))\n",
    "print(new)\n",
    "print(type(new))"
   ]
  },
  {
   "cell_type": "code",
   "execution_count": 150,
   "id": "bbefc4e5-d8f1-4175-9bb1-841bca3cdb54",
   "metadata": {},
   "outputs": [
    {
     "ename": "TypeError",
     "evalue": "int() argument must be a string, a bytes-like object or a real number, not 'complex'",
     "output_type": "error",
     "traceback": [
      "\u001b[1;31m---------------------------------------------------------------------------\u001b[0m",
      "\u001b[1;31mTypeError\u001b[0m                                 Traceback (most recent call last)",
      "Cell \u001b[1;32mIn[150], line 3\u001b[0m\n\u001b[0;32m      1\u001b[0m \u001b[38;5;66;03m#Complex to int\u001b[39;00m\n\u001b[0;32m      2\u001b[0m code \u001b[38;5;241m=\u001b[39m \u001b[38;5;241m52\u001b[39mj\n\u001b[1;32m----> 3\u001b[0m new \u001b[38;5;241m=\u001b[39m \u001b[38;5;28mint\u001b[39m(code)\n\u001b[0;32m      4\u001b[0m \u001b[38;5;28mprint\u001b[39m(\u001b[38;5;28mtype\u001b[39m(code))\n\u001b[0;32m      5\u001b[0m \u001b[38;5;28mprint\u001b[39m(new)\n",
      "\u001b[1;31mTypeError\u001b[0m: int() argument must be a string, a bytes-like object or a real number, not 'complex'"
     ]
    }
   ],
   "source": [
    "#Complex to int\n",
    "code = 52j\n",
    "new = int(code)\n",
    "print(type(code))\n",
    "print(new)\n",
    "print(type(new))"
   ]
  },
  {
   "cell_type": "code",
   "execution_count": 152,
   "id": "7a4046a3-1861-4674-9ac3-e54dea1a7672",
   "metadata": {},
   "outputs": [
    {
     "ename": "TypeError",
     "evalue": "float() argument must be a string or a real number, not 'complex'",
     "output_type": "error",
     "traceback": [
      "\u001b[1;31m---------------------------------------------------------------------------\u001b[0m",
      "\u001b[1;31mTypeError\u001b[0m                                 Traceback (most recent call last)",
      "Cell \u001b[1;32mIn[152], line 3\u001b[0m\n\u001b[0;32m      1\u001b[0m \u001b[38;5;66;03m#Complex to int\u001b[39;00m\n\u001b[0;32m      2\u001b[0m code \u001b[38;5;241m=\u001b[39m \u001b[38;5;241m52\u001b[39mj\n\u001b[1;32m----> 3\u001b[0m new \u001b[38;5;241m=\u001b[39m \u001b[38;5;28mfloat\u001b[39m(code)\n\u001b[0;32m      4\u001b[0m \u001b[38;5;28mprint\u001b[39m(\u001b[38;5;28mtype\u001b[39m(code))\n\u001b[0;32m      5\u001b[0m \u001b[38;5;28mprint\u001b[39m(new)\n",
      "\u001b[1;31mTypeError\u001b[0m: float() argument must be a string or a real number, not 'complex'"
     ]
    }
   ],
   "source": [
    "#Complex to float\n",
    "code = 52j\n",
    "new = float(code)\n",
    "print(type(code))\n",
    "print(new)\n",
    "print(type(new))"
   ]
  },
  {
   "cell_type": "code",
   "execution_count": 154,
   "id": "45fca588-a165-4e5c-a0ed-729ea579ae00",
   "metadata": {},
   "outputs": [
    {
     "name": "stdout",
     "output_type": "stream",
     "text": [
      "<class 'complex'>\n",
      "52j\n",
      "<class 'str'>\n"
     ]
    }
   ],
   "source": [
    "#Complex to str\n",
    "code = 52j\n",
    "new = str(code)\n",
    "print(type(code))\n",
    "print(new)\n",
    "print(type(new))"
   ]
  },
  {
   "cell_type": "code",
   "execution_count": null,
   "id": "40081105-fd51-4387-b4d9-65328809127c",
   "metadata": {},
   "outputs": [],
   "source": [
    "#Complex to float\n",
    "code = 52j\n",
    "new = float(code)\n",
    "print(type(code))\n",
    "print(new)\n",
    "print(type(new))"
   ]
  },
  {
   "cell_type": "code",
   "execution_count": 156,
   "id": "b579f320-a19f-4613-9fb0-4ee10d119e9b",
   "metadata": {},
   "outputs": [
    {
     "ename": "TypeError",
     "evalue": "'complex' object is not iterable",
     "output_type": "error",
     "traceback": [
      "\u001b[1;31m---------------------------------------------------------------------------\u001b[0m",
      "\u001b[1;31mTypeError\u001b[0m                                 Traceback (most recent call last)",
      "Cell \u001b[1;32mIn[156], line 3\u001b[0m\n\u001b[0;32m      1\u001b[0m \u001b[38;5;66;03m#Complex to list\u001b[39;00m\n\u001b[0;32m      2\u001b[0m code \u001b[38;5;241m=\u001b[39m \u001b[38;5;241m52\u001b[39mj\n\u001b[1;32m----> 3\u001b[0m new \u001b[38;5;241m=\u001b[39m \u001b[38;5;28mlist\u001b[39m(code)\n\u001b[0;32m      4\u001b[0m \u001b[38;5;28mprint\u001b[39m(\u001b[38;5;28mtype\u001b[39m(code))\n\u001b[0;32m      5\u001b[0m \u001b[38;5;28mprint\u001b[39m(new)\n",
      "\u001b[1;31mTypeError\u001b[0m: 'complex' object is not iterable"
     ]
    }
   ],
   "source": [
    "#Complex to list\n",
    "code = 52j\n",
    "new = list(code)\n",
    "print(type(code))\n",
    "print(new)\n",
    "print(type(new))"
   ]
  },
  {
   "cell_type": "code",
   "execution_count": 158,
   "id": "dba31a3e-3043-4bdb-a6c8-f3e393a96a7d",
   "metadata": {},
   "outputs": [
    {
     "ename": "TypeError",
     "evalue": "'complex' object is not iterable",
     "output_type": "error",
     "traceback": [
      "\u001b[1;31m---------------------------------------------------------------------------\u001b[0m",
      "\u001b[1;31mTypeError\u001b[0m                                 Traceback (most recent call last)",
      "Cell \u001b[1;32mIn[158], line 3\u001b[0m\n\u001b[0;32m      1\u001b[0m \u001b[38;5;66;03m#Complex to tuple\u001b[39;00m\n\u001b[0;32m      2\u001b[0m code \u001b[38;5;241m=\u001b[39m \u001b[38;5;241m52\u001b[39mj\n\u001b[1;32m----> 3\u001b[0m new \u001b[38;5;241m=\u001b[39m \u001b[38;5;28mtuple\u001b[39m(code)\n\u001b[0;32m      4\u001b[0m \u001b[38;5;28mprint\u001b[39m(\u001b[38;5;28mtype\u001b[39m(code))\n\u001b[0;32m      5\u001b[0m \u001b[38;5;28mprint\u001b[39m(new)\n",
      "\u001b[1;31mTypeError\u001b[0m: 'complex' object is not iterable"
     ]
    }
   ],
   "source": [
    "#Complex to tuple\n",
    "code = 52j\n",
    "new = tuple(code)\n",
    "print(type(code))\n",
    "print(new)\n",
    "print(type(new))"
   ]
  },
  {
   "cell_type": "code",
   "execution_count": 170,
   "id": "19140f27-9579-400b-b071-03169a749d79",
   "metadata": {},
   "outputs": [
    {
     "name": "stdout",
     "output_type": "stream",
     "text": [
      "<class 'complex'>\n",
      "True\n",
      "<class 'bool'>\n"
     ]
    }
   ],
   "source": [
    "#Complex to Boolean\n",
    "code = 65J\n",
    "new = bool(code)\n",
    "print(type(code))\n",
    "print(new)\n",
    "print(type(new))"
   ]
  },
  {
   "cell_type": "code",
   "execution_count": 172,
   "id": "e650838b-8777-45af-8718-7425ddf616cc",
   "metadata": {},
   "outputs": [
    {
     "ename": "TypeError",
     "evalue": "'complex' object is not iterable",
     "output_type": "error",
     "traceback": [
      "\u001b[1;31m---------------------------------------------------------------------------\u001b[0m",
      "\u001b[1;31mTypeError\u001b[0m                                 Traceback (most recent call last)",
      "Cell \u001b[1;32mIn[172], line 3\u001b[0m\n\u001b[0;32m      1\u001b[0m \u001b[38;5;66;03m#Complex to dictionary\u001b[39;00m\n\u001b[0;32m      2\u001b[0m code \u001b[38;5;241m=\u001b[39m \u001b[38;5;241m65\u001b[39mJ\n\u001b[1;32m----> 3\u001b[0m new \u001b[38;5;241m=\u001b[39m \u001b[38;5;28mdict\u001b[39m(code)\n\u001b[0;32m      4\u001b[0m \u001b[38;5;28mprint\u001b[39m(\u001b[38;5;28mtype\u001b[39m(code))\n\u001b[0;32m      5\u001b[0m \u001b[38;5;28mprint\u001b[39m(new)\n",
      "\u001b[1;31mTypeError\u001b[0m: 'complex' object is not iterable"
     ]
    }
   ],
   "source": [
    "#Complex to dictionary\n",
    "code = 65J\n",
    "new = dict(code)\n",
    "print(type(code))\n",
    "print(new)\n",
    "print(type(new))"
   ]
  },
  {
   "cell_type": "code",
   "execution_count": 174,
   "id": "4bebdb4a-541f-46e6-89a3-f0417e841a96",
   "metadata": {},
   "outputs": [
    {
     "ename": "TypeError",
     "evalue": "'complex' object is not iterable",
     "output_type": "error",
     "traceback": [
      "\u001b[1;31m---------------------------------------------------------------------------\u001b[0m",
      "\u001b[1;31mTypeError\u001b[0m                                 Traceback (most recent call last)",
      "Cell \u001b[1;32mIn[174], line 3\u001b[0m\n\u001b[0;32m      1\u001b[0m \u001b[38;5;66;03m#Complex to set\u001b[39;00m\n\u001b[0;32m      2\u001b[0m code \u001b[38;5;241m=\u001b[39m \u001b[38;5;241m65\u001b[39mJ\n\u001b[1;32m----> 3\u001b[0m new \u001b[38;5;241m=\u001b[39m \u001b[38;5;28mset\u001b[39m(code)\n\u001b[0;32m      4\u001b[0m \u001b[38;5;28mprint\u001b[39m(\u001b[38;5;28mtype\u001b[39m(code))\n\u001b[0;32m      5\u001b[0m \u001b[38;5;28mprint\u001b[39m(new)\n",
      "\u001b[1;31mTypeError\u001b[0m: 'complex' object is not iterable"
     ]
    }
   ],
   "source": [
    "#Complex to set\n",
    "code = 65J\n",
    "new = set(code)\n",
    "print(type(code))\n",
    "print(new)\n",
    "print(type(new))"
   ]
  },
  {
   "cell_type": "code",
   "execution_count": 180,
   "id": "03c961bc-ae23-4f7c-ae18-ca5aa208d797",
   "metadata": {},
   "outputs": [
    {
     "ename": "TypeError",
     "evalue": "int() argument must be a string, a bytes-like object or a real number, not 'tuple'",
     "output_type": "error",
     "traceback": [
      "\u001b[1;31m---------------------------------------------------------------------------\u001b[0m",
      "\u001b[1;31mTypeError\u001b[0m                                 Traceback (most recent call last)",
      "Cell \u001b[1;32mIn[180], line 3\u001b[0m\n\u001b[0;32m      1\u001b[0m \u001b[38;5;66;03m#Tuple to int\u001b[39;00m\n\u001b[0;32m      2\u001b[0m code \u001b[38;5;241m=\u001b[39m (\u001b[38;5;241m65\u001b[39m,\u001b[38;5;241m65\u001b[39m)\n\u001b[1;32m----> 3\u001b[0m new \u001b[38;5;241m=\u001b[39m \u001b[38;5;28mint\u001b[39m(code)\n\u001b[0;32m      4\u001b[0m \u001b[38;5;28mprint\u001b[39m(\u001b[38;5;28mtype\u001b[39m(code))\n\u001b[0;32m      5\u001b[0m \u001b[38;5;28mprint\u001b[39m(new)\n",
      "\u001b[1;31mTypeError\u001b[0m: int() argument must be a string, a bytes-like object or a real number, not 'tuple'"
     ]
    }
   ],
   "source": [
    "#Tuple to int\n",
    "code = (65,65)\n",
    "new = int(code)\n",
    "print(type(code))\n",
    "print(new)\n",
    "print(type(new))"
   ]
  },
  {
   "cell_type": "code",
   "execution_count": 182,
   "id": "d99901b6-55a9-4cbe-a71a-f3aecfcccc2e",
   "metadata": {},
   "outputs": [
    {
     "ename": "TypeError",
     "evalue": "float() argument must be a string or a real number, not 'tuple'",
     "output_type": "error",
     "traceback": [
      "\u001b[1;31m---------------------------------------------------------------------------\u001b[0m",
      "\u001b[1;31mTypeError\u001b[0m                                 Traceback (most recent call last)",
      "Cell \u001b[1;32mIn[182], line 3\u001b[0m\n\u001b[0;32m      1\u001b[0m \u001b[38;5;66;03m#Tuple to float\u001b[39;00m\n\u001b[0;32m      2\u001b[0m code \u001b[38;5;241m=\u001b[39m (\u001b[38;5;241m65\u001b[39m,\u001b[38;5;241m65\u001b[39m)\n\u001b[1;32m----> 3\u001b[0m new \u001b[38;5;241m=\u001b[39m \u001b[38;5;28mfloat\u001b[39m(code)\n\u001b[0;32m      4\u001b[0m \u001b[38;5;28mprint\u001b[39m(\u001b[38;5;28mtype\u001b[39m(code))\n\u001b[0;32m      5\u001b[0m \u001b[38;5;28mprint\u001b[39m(new)\n",
      "\u001b[1;31mTypeError\u001b[0m: float() argument must be a string or a real number, not 'tuple'"
     ]
    }
   ],
   "source": [
    "#Tuple to float\n",
    "code = (65,65)\n",
    "new = float(code)\n",
    "print(type(code))\n",
    "print(new)\n",
    "print(type(new))"
   ]
  },
  {
   "cell_type": "code",
   "execution_count": 184,
   "id": "86609831-64ae-488a-9e45-328a13901d18",
   "metadata": {},
   "outputs": [
    {
     "name": "stdout",
     "output_type": "stream",
     "text": [
      "<class 'tuple'>\n",
      "(65, 65)\n",
      "<class 'str'>\n"
     ]
    }
   ],
   "source": [
    "#Tuple to str\n",
    "code = (65,65)\n",
    "new = str(code)\n",
    "print(type(code))\n",
    "print(new)\n",
    "print(type(new))"
   ]
  },
  {
   "cell_type": "code",
   "execution_count": 186,
   "id": "29704606-6762-4d50-b862-0210d4470e9a",
   "metadata": {},
   "outputs": [
    {
     "name": "stdout",
     "output_type": "stream",
     "text": [
      "<class 'tuple'>\n",
      "[65, 65]\n",
      "<class 'list'>\n"
     ]
    }
   ],
   "source": [
    "#Tuple to list\n",
    "code = (65,65)\n",
    "new = list(code)\n",
    "print(type(code))\n",
    "print(new)\n",
    "print(type(new))"
   ]
  },
  {
   "cell_type": "code",
   "execution_count": 188,
   "id": "1bbf6530-8505-4424-a00f-bf2d706da996",
   "metadata": {},
   "outputs": [
    {
     "ename": "TypeError",
     "evalue": "complex() first argument must be a string or a number, not 'tuple'",
     "output_type": "error",
     "traceback": [
      "\u001b[1;31m---------------------------------------------------------------------------\u001b[0m",
      "\u001b[1;31mTypeError\u001b[0m                                 Traceback (most recent call last)",
      "Cell \u001b[1;32mIn[188], line 3\u001b[0m\n\u001b[0;32m      1\u001b[0m \u001b[38;5;66;03m#Tuple to complex\u001b[39;00m\n\u001b[0;32m      2\u001b[0m code \u001b[38;5;241m=\u001b[39m (\u001b[38;5;241m65\u001b[39m,\u001b[38;5;241m65\u001b[39m)\n\u001b[1;32m----> 3\u001b[0m new \u001b[38;5;241m=\u001b[39m \u001b[38;5;28mcomplex\u001b[39m(code)\n\u001b[0;32m      4\u001b[0m \u001b[38;5;28mprint\u001b[39m(\u001b[38;5;28mtype\u001b[39m(code))\n\u001b[0;32m      5\u001b[0m \u001b[38;5;28mprint\u001b[39m(new)\n",
      "\u001b[1;31mTypeError\u001b[0m: complex() first argument must be a string or a number, not 'tuple'"
     ]
    }
   ],
   "source": [
    "#Tuple to complex\n",
    "code = (65,65)\n",
    "new = complex(code)\n",
    "print(type(code))\n",
    "print(new)\n",
    "print(type(new))"
   ]
  },
  {
   "cell_type": "code",
   "execution_count": 198,
   "id": "bfc42e94-5dec-4a4c-9e03-840c8be9b2e1",
   "metadata": {},
   "outputs": [
    {
     "name": "stdout",
     "output_type": "stream",
     "text": [
      "<class 'tuple'>\n",
      "{65, 45, 21, 56, 31}\n",
      "<class 'set'>\n"
     ]
    }
   ],
   "source": [
    "#Tuple to Set\n",
    "code = (65,65,21,56,31,45)\n",
    "new = set(code)\n",
    "print(type(code))\n",
    "print(new)\n",
    "print(type(new))"
   ]
  },
  {
   "cell_type": "code",
   "execution_count": 212,
   "id": "e7e84f4c-00ba-4e90-af9e-215a157e6964",
   "metadata": {},
   "outputs": [
    {
     "name": "stdout",
     "output_type": "stream",
     "text": [
      "<class 'bool'>\n",
      "1\n",
      "<class 'int'>\n"
     ]
    }
   ],
   "source": [
    "#Boolean to int\n",
    "code = True\n",
    "new = int(code)\n",
    "print(type(code))\n",
    "print(new)\n",
    "print(type(new))"
   ]
  },
  {
   "cell_type": "code",
   "execution_count": 214,
   "id": "2c35fe04-c927-41ea-b43d-3c9b2c25884e",
   "metadata": {},
   "outputs": [
    {
     "name": "stdout",
     "output_type": "stream",
     "text": [
      "<class 'bool'>\n",
      "1.0\n",
      "<class 'float'>\n"
     ]
    }
   ],
   "source": [
    "#Boolean to float\n",
    "code = True\n",
    "new = float(code)\n",
    "print(type(code))\n",
    "print(new)\n",
    "print(type(new))"
   ]
  },
  {
   "cell_type": "code",
   "execution_count": 216,
   "id": "eb1a45a8-6939-4e53-ae03-0893b65cc3e6",
   "metadata": {},
   "outputs": [
    {
     "name": "stdout",
     "output_type": "stream",
     "text": [
      "<class 'bool'>\n",
      "True\n",
      "<class 'str'>\n"
     ]
    }
   ],
   "source": [
    "#Boolean to String\n",
    "code = True\n",
    "new = str(code)\n",
    "print(type(code))\n",
    "print(new)\n",
    "print(type(new))"
   ]
  },
  {
   "cell_type": "code",
   "execution_count": 218,
   "id": "9443a94e-670d-4708-b82b-d42744212eeb",
   "metadata": {},
   "outputs": [
    {
     "ename": "TypeError",
     "evalue": "'bool' object is not iterable",
     "output_type": "error",
     "traceback": [
      "\u001b[1;31m---------------------------------------------------------------------------\u001b[0m",
      "\u001b[1;31mTypeError\u001b[0m                                 Traceback (most recent call last)",
      "Cell \u001b[1;32mIn[218], line 3\u001b[0m\n\u001b[0;32m      1\u001b[0m \u001b[38;5;66;03m#Boolean to List\u001b[39;00m\n\u001b[0;32m      2\u001b[0m code \u001b[38;5;241m=\u001b[39m \u001b[38;5;28;01mTrue\u001b[39;00m\n\u001b[1;32m----> 3\u001b[0m new \u001b[38;5;241m=\u001b[39m \u001b[38;5;28mlist\u001b[39m(code)\n\u001b[0;32m      4\u001b[0m \u001b[38;5;28mprint\u001b[39m(\u001b[38;5;28mtype\u001b[39m(code))\n\u001b[0;32m      5\u001b[0m \u001b[38;5;28mprint\u001b[39m(new)\n",
      "\u001b[1;31mTypeError\u001b[0m: 'bool' object is not iterable"
     ]
    }
   ],
   "source": [
    "#Boolean to List\n",
    "code = True\n",
    "new = list(code)\n",
    "print(type(code))\n",
    "print(new)\n",
    "print(type(new))"
   ]
  },
  {
   "cell_type": "code",
   "execution_count": 220,
   "id": "b7453cee-8886-42c2-88ce-32add40b9e13",
   "metadata": {},
   "outputs": [
    {
     "name": "stdout",
     "output_type": "stream",
     "text": [
      "<class 'bool'>\n",
      "(1+0j)\n",
      "<class 'complex'>\n"
     ]
    }
   ],
   "source": [
    "#Boolean to complex\n",
    "code = True\n",
    "new = complex(code)\n",
    "print(type(code))\n",
    "print(new)\n",
    "print(type(new))"
   ]
  },
  {
   "cell_type": "code",
   "execution_count": 222,
   "id": "6f4b08ca-8042-49cb-8884-62dcebaed934",
   "metadata": {},
   "outputs": [
    {
     "ename": "TypeError",
     "evalue": "'bool' object is not iterable",
     "output_type": "error",
     "traceback": [
      "\u001b[1;31m---------------------------------------------------------------------------\u001b[0m",
      "\u001b[1;31mTypeError\u001b[0m                                 Traceback (most recent call last)",
      "Cell \u001b[1;32mIn[222], line 3\u001b[0m\n\u001b[0;32m      1\u001b[0m \u001b[38;5;66;03m#Boolean to tuple\u001b[39;00m\n\u001b[0;32m      2\u001b[0m code \u001b[38;5;241m=\u001b[39m \u001b[38;5;28;01mTrue\u001b[39;00m\n\u001b[1;32m----> 3\u001b[0m new \u001b[38;5;241m=\u001b[39m \u001b[38;5;28mtuple\u001b[39m(code)\n\u001b[0;32m      4\u001b[0m \u001b[38;5;28mprint\u001b[39m(\u001b[38;5;28mtype\u001b[39m(code))\n\u001b[0;32m      5\u001b[0m \u001b[38;5;28mprint\u001b[39m(new)\n",
      "\u001b[1;31mTypeError\u001b[0m: 'bool' object is not iterable"
     ]
    }
   ],
   "source": [
    "#Boolean to tuple\n",
    "code = True\n",
    "new = tuple(code)\n",
    "print(type(code))\n",
    "print(new)\n",
    "print(type(new))"
   ]
  },
  {
   "cell_type": "code",
   "execution_count": 224,
   "id": "047e7e02-8be9-4966-9d72-4de0563bfc50",
   "metadata": {},
   "outputs": [
    {
     "ename": "TypeError",
     "evalue": "'bool' object is not iterable",
     "output_type": "error",
     "traceback": [
      "\u001b[1;31m---------------------------------------------------------------------------\u001b[0m",
      "\u001b[1;31mTypeError\u001b[0m                                 Traceback (most recent call last)",
      "Cell \u001b[1;32mIn[224], line 3\u001b[0m\n\u001b[0;32m      1\u001b[0m \u001b[38;5;66;03m#Boolean to Dict\u001b[39;00m\n\u001b[0;32m      2\u001b[0m code \u001b[38;5;241m=\u001b[39m \u001b[38;5;28;01mTrue\u001b[39;00m\n\u001b[1;32m----> 3\u001b[0m new \u001b[38;5;241m=\u001b[39m \u001b[38;5;28mdict\u001b[39m(code)\n\u001b[0;32m      4\u001b[0m \u001b[38;5;28mprint\u001b[39m(\u001b[38;5;28mtype\u001b[39m(code))\n\u001b[0;32m      5\u001b[0m \u001b[38;5;28mprint\u001b[39m(new)\n",
      "\u001b[1;31mTypeError\u001b[0m: 'bool' object is not iterable"
     ]
    }
   ],
   "source": [
    "#Boolean to Dict\n",
    "code = True\n",
    "new = dict(code)\n",
    "print(type(code))\n",
    "print(new)\n",
    "print(type(new))"
   ]
  },
  {
   "cell_type": "code",
   "execution_count": 226,
   "id": "c2a3cd81-7041-41bb-99c5-e15826518d43",
   "metadata": {},
   "outputs": [
    {
     "ename": "TypeError",
     "evalue": "'bool' object is not iterable",
     "output_type": "error",
     "traceback": [
      "\u001b[1;31m---------------------------------------------------------------------------\u001b[0m",
      "\u001b[1;31mTypeError\u001b[0m                                 Traceback (most recent call last)",
      "Cell \u001b[1;32mIn[226], line 3\u001b[0m\n\u001b[0;32m      1\u001b[0m \u001b[38;5;66;03m#Boolean to set\u001b[39;00m\n\u001b[0;32m      2\u001b[0m code \u001b[38;5;241m=\u001b[39m \u001b[38;5;28;01mTrue\u001b[39;00m\n\u001b[1;32m----> 3\u001b[0m new \u001b[38;5;241m=\u001b[39m \u001b[38;5;28mtuple\u001b[39m(code)\n\u001b[0;32m      4\u001b[0m \u001b[38;5;28mprint\u001b[39m(\u001b[38;5;28mtype\u001b[39m(code))\n\u001b[0;32m      5\u001b[0m \u001b[38;5;28mprint\u001b[39m(new)\n",
      "\u001b[1;31mTypeError\u001b[0m: 'bool' object is not iterable"
     ]
    }
   ],
   "source": [
    "#Boolean to set\n",
    "code = True\n",
    "new = tuple(code)\n",
    "print(type(code))\n",
    "print(new)\n",
    "print(type(new))"
   ]
  },
  {
   "cell_type": "code",
   "execution_count": 23,
   "id": "d3e6ec27-b9c5-4de4-ba5d-6fdbee0802f3",
   "metadata": {},
   "outputs": [
    {
     "ename": "TypeError",
     "evalue": "int() argument must be a string, a bytes-like object or a real number, not 'dict'",
     "output_type": "error",
     "traceback": [
      "\u001b[1;31m---------------------------------------------------------------------------\u001b[0m",
      "\u001b[1;31mTypeError\u001b[0m                                 Traceback (most recent call last)",
      "Cell \u001b[1;32mIn[23], line 3\u001b[0m\n\u001b[0;32m      1\u001b[0m \u001b[38;5;66;03m#Dictionary to int\u001b[39;00m\n\u001b[0;32m      2\u001b[0m num1 \u001b[38;5;241m=\u001b[39m {\u001b[38;5;124m\"\u001b[39m\u001b[38;5;124mcolour\u001b[39m\u001b[38;5;124m\"\u001b[39m:\u001b[38;5;124m\"\u001b[39m\u001b[38;5;124mwhite\u001b[39m\u001b[38;5;124m\"\u001b[39m}\n\u001b[1;32m----> 3\u001b[0m new \u001b[38;5;241m=\u001b[39m \u001b[38;5;28mint\u001b[39m(num1)\n\u001b[0;32m      4\u001b[0m \u001b[38;5;28mprint\u001b[39m(\u001b[38;5;28mtype\u001b[39m(num1))\n\u001b[0;32m      5\u001b[0m \u001b[38;5;28mprint\u001b[39m(new)\n",
      "\u001b[1;31mTypeError\u001b[0m: int() argument must be a string, a bytes-like object or a real number, not 'dict'"
     ]
    }
   ],
   "source": [
    "#Dictionary to int\n",
    "num1 = {\"colour\":\"white\"}\n",
    "new = int(num1)\n",
    "print(type(num1))\n",
    "print(new)\n",
    "print(type(new))"
   ]
  },
  {
   "cell_type": "code",
   "execution_count": 11,
   "id": "50a2d0eb-6d25-4b03-a1fa-f6f114badd73",
   "metadata": {},
   "outputs": [
    {
     "ename": "TypeError",
     "evalue": "float() argument must be a string or a real number, not 'set'",
     "output_type": "error",
     "traceback": [
      "\u001b[1;31m---------------------------------------------------------------------------\u001b[0m",
      "\u001b[1;31mTypeError\u001b[0m                                 Traceback (most recent call last)",
      "Cell \u001b[1;32mIn[11], line 3\u001b[0m\n\u001b[0;32m      1\u001b[0m \u001b[38;5;66;03m#dictionary to float\u001b[39;00m\n\u001b[0;32m      2\u001b[0m num1 \u001b[38;5;241m=\u001b[39m {\u001b[38;5;124m\"\u001b[39m\u001b[38;5;124m53\u001b[39m\u001b[38;5;124m\"\u001b[39m}\n\u001b[1;32m----> 3\u001b[0m new \u001b[38;5;241m=\u001b[39m \u001b[38;5;28mfloat\u001b[39m(num1)\n\u001b[0;32m      4\u001b[0m \u001b[38;5;28mprint\u001b[39m(\u001b[38;5;28mtype\u001b[39m(num1))\n\u001b[0;32m      5\u001b[0m \u001b[38;5;28mprint\u001b[39m(new)\n",
      "\u001b[1;31mTypeError\u001b[0m: float() argument must be a string or a real number, not 'set'"
     ]
    }
   ],
   "source": [
    "#dictionary to float\n",
    "num1 = {\"colour\":\"white\"}\n",
    "new = int(num1)\n",
    "print(type(num1))\n",
    "print(new)\n",
    "print(type(new))"
   ]
  },
  {
   "cell_type": "code",
   "execution_count": 25,
   "id": "6cc96d7c-aa2d-40c4-af43-b41f8a6d1a00",
   "metadata": {},
   "outputs": [
    {
     "name": "stdout",
     "output_type": "stream",
     "text": [
      "<class 'dict'>\n",
      "{'colour': 'white'}\n",
      "<class 'str'>\n"
     ]
    }
   ],
   "source": [
    "# dictionary to str\n",
    "dictmy ={\"colour\":\"white\"}\n",
    "new = str(dictmy)\n",
    "print(type(dictmy))\n",
    "print(new)\n",
    "print(type(new))"
   ]
  },
  {
   "cell_type": "code",
   "execution_count": 29,
   "id": "8da495ef-7b0b-4c3e-9f51-aa759617b12f",
   "metadata": {},
   "outputs": [
    {
     "name": "stdout",
     "output_type": "stream",
     "text": [
      "<class 'dict'>\n",
      "['colour', 'car']\n",
      "<class 'list'>\n"
     ]
    }
   ],
   "source": [
    "# dictionary to list\n",
    "dictmy ={\"colour\":\"white\", \"car\":\"kia\"}\n",
    "new = list(dictmy)\n",
    "print(type(dictmy))\n",
    "print(new)\n",
    "print(type(new))"
   ]
  },
  {
   "cell_type": "code",
   "execution_count": 31,
   "id": "b9d2ca10-30f3-410c-bd39-16ef3bdd12cd",
   "metadata": {},
   "outputs": [
    {
     "ename": "TypeError",
     "evalue": "complex() first argument must be a string or a number, not 'dict'",
     "output_type": "error",
     "traceback": [
      "\u001b[1;31m---------------------------------------------------------------------------\u001b[0m",
      "\u001b[1;31mTypeError\u001b[0m                                 Traceback (most recent call last)",
      "Cell \u001b[1;32mIn[31], line 3\u001b[0m\n\u001b[0;32m      1\u001b[0m \u001b[38;5;66;03m# dictionary to complex\u001b[39;00m\n\u001b[0;32m      2\u001b[0m dictnum \u001b[38;5;241m=\u001b[39m{\u001b[38;5;124m\"\u001b[39m\u001b[38;5;124mcolour\u001b[39m\u001b[38;5;124m\"\u001b[39m:\u001b[38;5;241m25\u001b[39m}\n\u001b[1;32m----> 3\u001b[0m new \u001b[38;5;241m=\u001b[39m \u001b[38;5;28mcomplex\u001b[39m(dictmy)\n\u001b[0;32m      4\u001b[0m \u001b[38;5;28mprint\u001b[39m(\u001b[38;5;28mtype\u001b[39m(dictmy))\n\u001b[0;32m      5\u001b[0m \u001b[38;5;28mprint\u001b[39m(new)\n",
      "\u001b[1;31mTypeError\u001b[0m: complex() first argument must be a string or a number, not 'dict'"
     ]
    }
   ],
   "source": [
    "# dictionary to complex\n",
    "dictnum ={\"colour\":25}\n",
    "new = complex(dictmy)\n",
    "print(type(dictmy))\n",
    "print(new)\n",
    "print(type(new))"
   ]
  },
  {
   "cell_type": "code",
   "execution_count": 33,
   "id": "aa773350-ba58-465a-985a-89486b7815f6",
   "metadata": {},
   "outputs": [
    {
     "name": "stdout",
     "output_type": "stream",
     "text": [
      "<class 'dict'>\n",
      "('colour', 'car')\n",
      "<class 'tuple'>\n"
     ]
    }
   ],
   "source": [
    "# dictionary to Tuple\n",
    "dictmy ={\"colour\":\"white\", \"car\":\"kia\"}\n",
    "new = tuple(dictmy)\n",
    "print(type(dictmy))\n",
    "print(new)\n",
    "print(type(new))"
   ]
  },
  {
   "cell_type": "code",
   "execution_count": 35,
   "id": "c3d4e020-ed71-4717-be56-8914aebd77c7",
   "metadata": {},
   "outputs": [
    {
     "name": "stdout",
     "output_type": "stream",
     "text": [
      "<class 'dict'>\n",
      "True\n",
      "<class 'bool'>\n"
     ]
    }
   ],
   "source": [
    "# dictionary to boolean\n",
    "dictmy ={\"colour\":\"white\", \"car\":\"kia\"}\n",
    "new = bool(dictmy)\n",
    "print(type(dictmy))\n",
    "print(new)\n",
    "print(type(new))"
   ]
  },
  {
   "cell_type": "code",
   "execution_count": 37,
   "id": "9a62adea-1c95-463c-a4f9-0e0416743cb8",
   "metadata": {},
   "outputs": [
    {
     "name": "stdout",
     "output_type": "stream",
     "text": [
      "<class 'dict'>\n",
      "{'colour', 'car'}\n",
      "<class 'set'>\n"
     ]
    }
   ],
   "source": [
    "# dictionary to set\n",
    "dictmy ={\"colour\":\"white\", \"car\":\"kia\"}\n",
    "new = set(dictmy)\n",
    "print(type(dictmy))\n",
    "print(new)\n",
    "print(type(new))"
   ]
  },
  {
   "cell_type": "code",
   "execution_count": 39,
   "id": "21d85f20-f399-43ad-b464-af9ba51f4840",
   "metadata": {},
   "outputs": [
    {
     "ename": "TypeError",
     "evalue": "int() argument must be a string, a bytes-like object or a real number, not 'set'",
     "output_type": "error",
     "traceback": [
      "\u001b[1;31m---------------------------------------------------------------------------\u001b[0m",
      "\u001b[1;31mTypeError\u001b[0m                                 Traceback (most recent call last)",
      "Cell \u001b[1;32mIn[39], line 3\u001b[0m\n\u001b[0;32m      1\u001b[0m \u001b[38;5;66;03m# set to int\u001b[39;00m\n\u001b[0;32m      2\u001b[0m dataset \u001b[38;5;241m=\u001b[39m{\u001b[38;5;124m\"\u001b[39m\u001b[38;5;124mshirt\u001b[39m\u001b[38;5;124m\"\u001b[39m,\u001b[38;5;124m\"\u001b[39m\u001b[38;5;124mpant\u001b[39m\u001b[38;5;124m\"\u001b[39m,\u001b[38;5;241m34\u001b[39m,\u001b[38;5;124m\"\u001b[39m\u001b[38;5;124mtrouser\u001b[39m\u001b[38;5;124m\"\u001b[39m}\n\u001b[1;32m----> 3\u001b[0m new \u001b[38;5;241m=\u001b[39m \u001b[38;5;28mint\u001b[39m(dataset)\n\u001b[0;32m      4\u001b[0m \u001b[38;5;28mprint\u001b[39m(\u001b[38;5;28mtype\u001b[39m(dataset))\n\u001b[0;32m      5\u001b[0m \u001b[38;5;28mprint\u001b[39m(new)\n",
      "\u001b[1;31mTypeError\u001b[0m: int() argument must be a string, a bytes-like object or a real number, not 'set'"
     ]
    }
   ],
   "source": [
    "# set to int\n",
    "dataset ={\"shirt\",\"pant\",34,\"trouser\"}\n",
    "new = int(dataset)\n",
    "print(type(dataset))\n",
    "print(new)\n",
    "print(type(new))"
   ]
  },
  {
   "cell_type": "code",
   "execution_count": 41,
   "id": "b7f9d05a-24a3-4fb2-b7a5-71289f1d8b9f",
   "metadata": {},
   "outputs": [
    {
     "ename": "TypeError",
     "evalue": "float() argument must be a string or a real number, not 'set'",
     "output_type": "error",
     "traceback": [
      "\u001b[1;31m---------------------------------------------------------------------------\u001b[0m",
      "\u001b[1;31mTypeError\u001b[0m                                 Traceback (most recent call last)",
      "Cell \u001b[1;32mIn[41], line 3\u001b[0m\n\u001b[0;32m      1\u001b[0m \u001b[38;5;66;03m# set to float\u001b[39;00m\n\u001b[0;32m      2\u001b[0m dataset \u001b[38;5;241m=\u001b[39m{\u001b[38;5;124m\"\u001b[39m\u001b[38;5;124mshirt\u001b[39m\u001b[38;5;124m\"\u001b[39m,\u001b[38;5;124m\"\u001b[39m\u001b[38;5;124mpant\u001b[39m\u001b[38;5;124m\"\u001b[39m,\u001b[38;5;241m34\u001b[39m,\u001b[38;5;124m\"\u001b[39m\u001b[38;5;124mtrouser\u001b[39m\u001b[38;5;124m\"\u001b[39m}\n\u001b[1;32m----> 3\u001b[0m new \u001b[38;5;241m=\u001b[39m \u001b[38;5;28mfloat\u001b[39m(dataset)\n\u001b[0;32m      4\u001b[0m \u001b[38;5;28mprint\u001b[39m(\u001b[38;5;28mtype\u001b[39m(dataset))\n\u001b[0;32m      5\u001b[0m \u001b[38;5;28mprint\u001b[39m(new)\n",
      "\u001b[1;31mTypeError\u001b[0m: float() argument must be a string or a real number, not 'set'"
     ]
    }
   ],
   "source": [
    "# set to float\n",
    "dataset ={\"shirt\",\"pant\",34,\"trouser\"}\n",
    "new = float(dataset)\n",
    "print(type(dataset))\n",
    "print(new)\n",
    "print(type(new))"
   ]
  },
  {
   "cell_type": "code",
   "execution_count": 43,
   "id": "ccaeac1b-5e19-46d6-818a-cb8eafd5d56e",
   "metadata": {},
   "outputs": [
    {
     "name": "stdout",
     "output_type": "stream",
     "text": [
      "<class 'set'>\n",
      "{'trouser', 'pant', 34, 'shirt'}\n",
      "<class 'str'>\n"
     ]
    }
   ],
   "source": [
    "# set to str\n",
    "dataset ={\"shirt\",\"pant\",34,\"trouser\"}\n",
    "new = str(dataset)\n",
    "print(type(dataset))\n",
    "print(new)\n",
    "print(type(new))"
   ]
  },
  {
   "cell_type": "code",
   "execution_count": 45,
   "id": "90cd4d6e-a397-44a2-999a-4043b3f92e4c",
   "metadata": {},
   "outputs": [
    {
     "name": "stdout",
     "output_type": "stream",
     "text": [
      "<class 'set'>\n",
      "['trouser', 'pant', 34, 'shirt']\n",
      "<class 'list'>\n"
     ]
    }
   ],
   "source": [
    "# set to list\n",
    "dataset ={\"shirt\",\"pant\",34,\"trouser\"}\n",
    "new = list(dataset)\n",
    "print(type(dataset))\n",
    "print(new)\n",
    "print(type(new))"
   ]
  },
  {
   "cell_type": "code",
   "execution_count": 47,
   "id": "5b93d5b0-f5ea-48cb-9706-3cd53cf98e63",
   "metadata": {},
   "outputs": [
    {
     "ename": "TypeError",
     "evalue": "complex() first argument must be a string or a number, not 'set'",
     "output_type": "error",
     "traceback": [
      "\u001b[1;31m---------------------------------------------------------------------------\u001b[0m",
      "\u001b[1;31mTypeError\u001b[0m                                 Traceback (most recent call last)",
      "Cell \u001b[1;32mIn[47], line 3\u001b[0m\n\u001b[0;32m      1\u001b[0m \u001b[38;5;66;03m# set to complex\u001b[39;00m\n\u001b[0;32m      2\u001b[0m dataset \u001b[38;5;241m=\u001b[39m{\u001b[38;5;124m\"\u001b[39m\u001b[38;5;124mshirt\u001b[39m\u001b[38;5;124m\"\u001b[39m,\u001b[38;5;124m\"\u001b[39m\u001b[38;5;124mpant\u001b[39m\u001b[38;5;124m\"\u001b[39m,\u001b[38;5;241m34\u001b[39m,\u001b[38;5;124m\"\u001b[39m\u001b[38;5;124mtrouser\u001b[39m\u001b[38;5;124m\"\u001b[39m}\n\u001b[1;32m----> 3\u001b[0m new \u001b[38;5;241m=\u001b[39m \u001b[38;5;28mcomplex\u001b[39m(dataset)\n\u001b[0;32m      4\u001b[0m \u001b[38;5;28mprint\u001b[39m(\u001b[38;5;28mtype\u001b[39m(dataset))\n\u001b[0;32m      5\u001b[0m \u001b[38;5;28mprint\u001b[39m(new)\n",
      "\u001b[1;31mTypeError\u001b[0m: complex() first argument must be a string or a number, not 'set'"
     ]
    }
   ],
   "source": [
    "# set to complex\n",
    "dataset ={\"shirt\",\"pant\",34,\"trouser\"}\n",
    "new = complex(dataset)\n",
    "print(type(dataset))\n",
    "print(new)\n",
    "print(type(new))"
   ]
  },
  {
   "cell_type": "code",
   "execution_count": 49,
   "id": "b942ab32-8388-4dcb-8581-81bd54f29bcb",
   "metadata": {},
   "outputs": [
    {
     "name": "stdout",
     "output_type": "stream",
     "text": [
      "<class 'set'>\n",
      "('trouser', 'pant', 34, 'shirt')\n",
      "<class 'tuple'>\n"
     ]
    }
   ],
   "source": [
    "# set to tuple\n",
    "dataset ={\"shirt\",\"pant\",34,\"trouser\"}\n",
    "new = tuple(dataset)\n",
    "print(type(dataset))\n",
    "print(new)\n",
    "print(type(new))"
   ]
  },
  {
   "cell_type": "code",
   "execution_count": 51,
   "id": "0aa53e49-6154-4b94-ab03-ce54a50c9af8",
   "metadata": {},
   "outputs": [
    {
     "ename": "ValueError",
     "evalue": "dictionary update sequence element #0 has length 7; 2 is required",
     "output_type": "error",
     "traceback": [
      "\u001b[1;31m---------------------------------------------------------------------------\u001b[0m",
      "\u001b[1;31mValueError\u001b[0m                                Traceback (most recent call last)",
      "Cell \u001b[1;32mIn[51], line 3\u001b[0m\n\u001b[0;32m      1\u001b[0m \u001b[38;5;66;03m# set to dictionary\u001b[39;00m\n\u001b[0;32m      2\u001b[0m dataset \u001b[38;5;241m=\u001b[39m{\u001b[38;5;124m\"\u001b[39m\u001b[38;5;124mshirt\u001b[39m\u001b[38;5;124m\"\u001b[39m,\u001b[38;5;124m\"\u001b[39m\u001b[38;5;124mpant\u001b[39m\u001b[38;5;124m\"\u001b[39m,\u001b[38;5;241m34\u001b[39m,\u001b[38;5;124m\"\u001b[39m\u001b[38;5;124mtrouser\u001b[39m\u001b[38;5;124m\"\u001b[39m}\n\u001b[1;32m----> 3\u001b[0m new \u001b[38;5;241m=\u001b[39m \u001b[38;5;28mdict\u001b[39m(dataset)\n\u001b[0;32m      4\u001b[0m \u001b[38;5;28mprint\u001b[39m(\u001b[38;5;28mtype\u001b[39m(dataset))\n\u001b[0;32m      5\u001b[0m \u001b[38;5;28mprint\u001b[39m(new)\n",
      "\u001b[1;31mValueError\u001b[0m: dictionary update sequence element #0 has length 7; 2 is required"
     ]
    }
   ],
   "source": [
    "# set to dictionary\n",
    "dataset ={\"shirt\",\"pant\",34,\"trouser\"}\n",
    "new = dict(dataset)\n",
    "print(type(dataset))\n",
    "print(new)\n",
    "print(type(new))"
   ]
  },
  {
   "cell_type": "code",
   "execution_count": 53,
   "id": "996733fd-cbc0-4443-a6d6-0c55ce790d89",
   "metadata": {},
   "outputs": [
    {
     "name": "stdout",
     "output_type": "stream",
     "text": [
      "<class 'set'>\n",
      "True\n",
      "<class 'bool'>\n"
     ]
    }
   ],
   "source": [
    "# Set to Boolean\n",
    "dataset ={\"shirt\",\"pant\",34,\"trouser\"}\n",
    "new = bool(dataset)\n",
    "print(type(dataset))\n",
    "print(new)\n",
    "print(type(new))"
   ]
  },
  {
   "cell_type": "code",
   "execution_count": null,
   "id": "c45805d3-3235-4adf-b30e-b2ef1324a9d8",
   "metadata": {},
   "outputs": [],
   "source": []
  }
 ],
 "metadata": {
  "kernelspec": {
   "display_name": "Python [conda env:base] *",
   "language": "python",
   "name": "conda-base-py"
  },
  "language_info": {
   "codemirror_mode": {
    "name": "ipython",
    "version": 3
   },
   "file_extension": ".py",
   "mimetype": "text/x-python",
   "name": "python",
   "nbconvert_exporter": "python",
   "pygments_lexer": "ipython3",
   "version": "3.12.7"
  }
 },
 "nbformat": 4,
 "nbformat_minor": 5
}
