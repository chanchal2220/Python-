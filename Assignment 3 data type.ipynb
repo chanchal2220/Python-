{
 "cells": [
  {
   "cell_type": "markdown",
   "id": "ecc7edd4-e601-4abd-8069-b837da25f9a9",
   "metadata": {},
   "source": [
    "# Assignment -3\n",
    "#### 1.\tPrint the doc string for all available methods along with example for string"
   ]
  },
  {
   "cell_type": "code",
   "execution_count": 29,
   "id": "d8f8cfea-fcbe-49e2-b7a2-2a1af2a5140f",
   "metadata": {},
   "outputs": [],
   "source": [
    "\n",
    "greeting = \"Good morning!\"\n"
   ]
  },
  {
   "cell_type": "code",
   "execution_count": 31,
   "id": "57de3bd8-e6cc-4426-9bbf-bcd805ec1cb0",
   "metadata": {},
   "outputs": [
    {
     "name": "stdout",
     "output_type": "stream",
     "text": [
      "GOOD MORNING!\n"
     ]
    }
   ],
   "source": [
    "print(greeting.upper())"
   ]
  },
  {
   "cell_type": "code",
   "execution_count": 33,
   "id": "95db4523-9539-484a-a59c-447d9a072784",
   "metadata": {},
   "outputs": [
    {
     "name": "stdout",
     "output_type": "stream",
     "text": [
      "good morning!\n"
     ]
    }
   ],
   "source": [
    "print(greeting.lower())"
   ]
  },
  {
   "cell_type": "code",
   "execution_count": 35,
   "id": "91da3348-8b35-42bd-b1d0-6bc14733bce4",
   "metadata": {},
   "outputs": [
    {
     "name": "stdout",
     "output_type": "stream",
     "text": [
      "Good morning!\n"
     ]
    }
   ],
   "source": [
    "print(greeting.capitalize())"
   ]
  },
  {
   "cell_type": "code",
   "execution_count": 37,
   "id": "273519d8-f370-4971-98b0-1948a4bc3088",
   "metadata": {},
   "outputs": [
    {
     "name": "stdout",
     "output_type": "stream",
     "text": [
      "good morning!\n"
     ]
    }
   ],
   "source": [
    "print(greeting.casefold())"
   ]
  },
  {
   "cell_type": "code",
   "execution_count": 39,
   "id": "894b712a-1c37-414f-9e54-eb486ae3d476",
   "metadata": {},
   "outputs": [
    {
     "name": "stdout",
     "output_type": "stream",
     "text": [
      "                                           Good morning!                                            \n"
     ]
    }
   ],
   "source": [
    "print(greeting.center(100))"
   ]
  },
  {
   "cell_type": "code",
   "execution_count": 41,
   "id": "cb11b5d2-e777-4522-8cd5-c0fa330c6379",
   "metadata": {},
   "outputs": [
    {
     "name": "stdout",
     "output_type": "stream",
     "text": [
      "3\n"
     ]
    }
   ],
   "source": [
    "\n",
    "print(greeting.count(\"o\"))"
   ]
  },
  {
   "cell_type": "code",
   "execution_count": 43,
   "id": "413a66e7-2479-4f1e-bd3e-bb26a703e49f",
   "metadata": {},
   "outputs": [
    {
     "name": "stdout",
     "output_type": "stream",
     "text": [
      "b'Good morning!'\n"
     ]
    }
   ],
   "source": [
    "print(greeting.encode())"
   ]
  },
  {
   "cell_type": "code",
   "execution_count": 45,
   "id": "2d0591d7-780a-4679-a509-4fc90a8da391",
   "metadata": {},
   "outputs": [
    {
     "name": "stdout",
     "output_type": "stream",
     "text": [
      "True\n"
     ]
    }
   ],
   "source": [
    "print(greeting.endswith(\"!\"))"
   ]
  },
  {
   "cell_type": "code",
   "execution_count": 47,
   "id": "7788c521-8428-4600-88c7-9f806d7763f3",
   "metadata": {},
   "outputs": [
    {
     "name": "stdout",
     "output_type": "stream",
     "text": [
      "Good morning!\n"
     ]
    }
   ],
   "source": [
    "print(greeting.expandtabs(10))"
   ]
  },
  {
   "cell_type": "code",
   "execution_count": 49,
   "id": "ceb5f360-ceed-46dd-b37f-e4e9aeb6d14f",
   "metadata": {},
   "outputs": [
    {
     "name": "stdout",
     "output_type": "stream",
     "text": [
      "5\n"
     ]
    }
   ],
   "source": [
    "print(greeting.find(\"m\"))"
   ]
  },
  {
   "cell_type": "code",
   "execution_count": 51,
   "id": "14eb0ace-0793-43ff-aa64-fa6022339c66",
   "metadata": {},
   "outputs": [
    {
     "name": "stdout",
     "output_type": "stream",
     "text": [
      "Good morning!\n"
     ]
    }
   ],
   "source": [
    "print(greeting.format())"
   ]
  },
  {
   "cell_type": "code",
   "execution_count": 53,
   "id": "b601f6cb-b610-46d7-85cf-312a98521e01",
   "metadata": {},
   "outputs": [
    {
     "name": "stdout",
     "output_type": "stream",
     "text": [
      "Good morning!\n"
     ]
    }
   ],
   "source": [
    "print(greeting.format_map(\"g\"))"
   ]
  },
  {
   "cell_type": "code",
   "execution_count": 55,
   "id": "3ed6d6df-3742-4ca5-8915-e0bfe2506a15",
   "metadata": {},
   "outputs": [
    {
     "name": "stdout",
     "output_type": "stream",
     "text": [
      "8\n"
     ]
    }
   ],
   "source": [
    "print(greeting.index(\"n\"))"
   ]
  },
  {
   "cell_type": "code",
   "execution_count": 57,
   "id": "dd858e9b-14ca-4927-bc84-6446b0cba99d",
   "metadata": {},
   "outputs": [
    {
     "name": "stdout",
     "output_type": "stream",
     "text": [
      "False\n"
     ]
    }
   ],
   "source": [
    "print(greeting.isalnum())"
   ]
  },
  {
   "cell_type": "code",
   "execution_count": 59,
   "id": "2992753e-4cbf-4b79-b776-93ec91227548",
   "metadata": {},
   "outputs": [
    {
     "name": "stdout",
     "output_type": "stream",
     "text": [
      "True\n"
     ]
    }
   ],
   "source": [
    "greeting1 = \"Good\"\n",
    "\n",
    "print(greeting1.isalpha())"
   ]
  },
  {
   "cell_type": "code",
   "execution_count": 61,
   "id": "1c852072-e421-4d3f-8bf3-b0ed9afbaeb4",
   "metadata": {},
   "outputs": [
    {
     "name": "stdout",
     "output_type": "stream",
     "text": [
      "True\n"
     ]
    }
   ],
   "source": [
    "print(greeting.isascii())"
   ]
  },
  {
   "cell_type": "code",
   "execution_count": 63,
   "id": "4c35b51a-83b5-4c80-8ad0-8f35ae5f0cfa",
   "metadata": {},
   "outputs": [
    {
     "name": "stdout",
     "output_type": "stream",
     "text": [
      "False\n"
     ]
    }
   ],
   "source": [
    "print(greeting.isdecimal())"
   ]
  },
  {
   "cell_type": "code",
   "execution_count": 65,
   "id": "e0c037c0-1d58-4605-8fac-26fcd164fe18",
   "metadata": {},
   "outputs": [
    {
     "name": "stdout",
     "output_type": "stream",
     "text": [
      "False\n"
     ]
    }
   ],
   "source": [
    "print(greeting.isdigit())"
   ]
  },
  {
   "cell_type": "code",
   "execution_count": 67,
   "id": "1c2c65bd-7dc5-465b-9adc-bee26315b11f",
   "metadata": {},
   "outputs": [
    {
     "name": "stdout",
     "output_type": "stream",
     "text": [
      "False\n"
     ]
    }
   ],
   "source": [
    "print(greeting.isidentifier())"
   ]
  },
  {
   "cell_type": "code",
   "execution_count": 69,
   "id": "5274cccd-79d6-44d6-b098-edc41b6fbbde",
   "metadata": {},
   "outputs": [
    {
     "name": "stdout",
     "output_type": "stream",
     "text": [
      "False\n"
     ]
    }
   ],
   "source": [
    "print(greeting.islower())"
   ]
  },
  {
   "cell_type": "code",
   "execution_count": 71,
   "id": "6007e2e8-2523-47fd-9eb3-f565efdc1c28",
   "metadata": {},
   "outputs": [
    {
     "name": "stdout",
     "output_type": "stream",
     "text": [
      "False\n"
     ]
    }
   ],
   "source": [
    "print(greeting.isnumeric())"
   ]
  },
  {
   "cell_type": "code",
   "execution_count": 73,
   "id": "1b1e5eea-b0e0-46c7-9e01-4ea3ba583cec",
   "metadata": {},
   "outputs": [
    {
     "name": "stdout",
     "output_type": "stream",
     "text": [
      "True\n"
     ]
    }
   ],
   "source": [
    "print(greeting.isprintable())"
   ]
  },
  {
   "cell_type": "code",
   "execution_count": 75,
   "id": "01f2b35b-4c85-4987-be40-68b7222ae013",
   "metadata": {},
   "outputs": [
    {
     "name": "stdout",
     "output_type": "stream",
     "text": [
      "True\n"
     ]
    }
   ],
   "source": [
    "greeting2 = \"  \"\n",
    "\n",
    "print(greeting2.isspace())\n"
   ]
  },
  {
   "cell_type": "code",
   "execution_count": 77,
   "id": "1189ab9e-e405-4416-93be-48482a21c882",
   "metadata": {},
   "outputs": [
    {
     "name": "stdout",
     "output_type": "stream",
     "text": [
      "True\n"
     ]
    }
   ],
   "source": [
    "greeting3 = \"Good Morning!\"\n",
    "print(greeting3.istitle())"
   ]
  },
  {
   "cell_type": "code",
   "execution_count": 79,
   "id": "7a2be92e-4643-4d99-90ce-c67ca61b554d",
   "metadata": {},
   "outputs": [
    {
     "name": "stdout",
     "output_type": "stream",
     "text": [
      "False\n"
     ]
    }
   ],
   "source": [
    "print(greeting.isupper())"
   ]
  },
  {
   "cell_type": "code",
   "execution_count": 81,
   "id": "c97669c4-3bb0-4aac-8f12-1b7d866234b2",
   "metadata": {},
   "outputs": [
    {
     "name": "stdout",
     "output_type": "stream",
     "text": [
      "1Good morning!2Good morning!3Good morning!4Good morning!5\n"
     ]
    }
   ],
   "source": [
    "word = \"12345\"\n",
    "print(greeting.join(word))"
   ]
  },
  {
   "cell_type": "code",
   "execution_count": 83,
   "id": "7852cce2-f9f7-43c1-94f6-25ad5033098b",
   "metadata": {},
   "outputs": [
    {
     "name": "stdout",
     "output_type": "stream",
     "text": [
      "hi   26   \n"
     ]
    }
   ],
   "source": [
    "a = \"hi\"\n",
    "b= \"26\"\n",
    "\n",
    "line = a.ljust(5) + b.ljust(5)\n",
    "\n",
    "print(line)"
   ]
  },
  {
   "cell_type": "code",
   "execution_count": 85,
   "id": "a7f323cf-4f6b-4b83-9a74-7a074669b763",
   "metadata": {},
   "outputs": [
    {
     "name": "stdout",
     "output_type": "stream",
     "text": [
      "hello\n"
     ]
    }
   ],
   "source": [
    "word = \"   hello\"\n",
    "\n",
    "print(word.lstrip())"
   ]
  },
  {
   "cell_type": "code",
   "execution_count": 87,
   "id": "e26d2e65-8678-45d9-9900-a306b5e8f394",
   "metadata": {},
   "outputs": [
    {
     "name": "stdout",
     "output_type": "stream",
     "text": [
      "{48: 100}\n"
     ]
    }
   ],
   "source": [
    "print(greeting.maketrans(\"0\",\"d\"))"
   ]
  },
  {
   "cell_type": "code",
   "execution_count": 89,
   "id": "17a04d97-cf4e-435a-8e01-c0749807bfd8",
   "metadata": {},
   "outputs": [
    {
     "name": "stdout",
     "output_type": "stream",
     "text": [
      "('Good morn', 'ing', '!')\n"
     ]
    }
   ],
   "source": [
    "print(greeting.partition(\"ing\"))"
   ]
  },
  {
   "cell_type": "code",
   "execution_count": 91,
   "id": "39fd2308-321d-4e25-ade6-6250ea89abf5",
   "metadata": {},
   "outputs": [
    {
     "name": "stdout",
     "output_type": "stream",
     "text": [
      "ood morning!\n"
     ]
    }
   ],
   "source": [
    "print(greeting.removeprefix(\"G\"))"
   ]
  },
  {
   "cell_type": "code",
   "execution_count": 93,
   "id": "f5b44b00-aa62-47c1-9266-450e80c4854a",
   "metadata": {},
   "outputs": [
    {
     "name": "stdout",
     "output_type": "stream",
     "text": [
      "Good morning\n"
     ]
    }
   ],
   "source": [
    "print(greeting.removesuffix(\"!\"))"
   ]
  },
  {
   "cell_type": "code",
   "execution_count": 95,
   "id": "a114af7a-b267-4640-b428-f535f5168c18",
   "metadata": {},
   "outputs": [
    {
     "name": "stdout",
     "output_type": "stream",
     "text": [
      "Good evening!\n"
     ]
    }
   ],
   "source": [
    "print(greeting.replace(\"morning\",\"evening\"))"
   ]
  },
  {
   "cell_type": "code",
   "execution_count": 97,
   "id": "f680a3ad-bf85-4919-9e7b-9995a1f43b34",
   "metadata": {},
   "outputs": [
    {
     "name": "stdout",
     "output_type": "stream",
     "text": [
      "10\n"
     ]
    }
   ],
   "source": [
    "print(greeting.rfind(\"n\"))"
   ]
  },
  {
   "cell_type": "code",
   "execution_count": 99,
   "id": "3e92a5ac-7503-49c7-83e0-68000ff084fa",
   "metadata": {},
   "outputs": [
    {
     "name": "stdout",
     "output_type": "stream",
     "text": [
      "10\n"
     ]
    }
   ],
   "source": [
    "print(greeting.rindex(\"n\"))"
   ]
  },
  {
   "cell_type": "code",
   "execution_count": 101,
   "id": "cd35310d-5b29-44ee-887e-23cec27a0394",
   "metadata": {},
   "outputs": [
    {
     "name": "stdout",
     "output_type": "stream",
     "text": [
      "0000042\n"
     ]
    }
   ],
   "source": [
    "a = \"42\"\n",
    "print(a.rjust(7,\"0\"))"
   ]
  },
  {
   "cell_type": "code",
   "execution_count": 103,
   "id": "bafc01ca-acf3-4f93-a212-fa1778c92409",
   "metadata": {},
   "outputs": [
    {
     "name": "stdout",
     "output_type": "stream",
     "text": [
      "('G', 'oo', 'd morning!')\n"
     ]
    }
   ],
   "source": [
    "print(greeting.rpartition(\"oo\"))"
   ]
  },
  {
   "cell_type": "code",
   "execution_count": 105,
   "id": "a5513544-ee04-4a76-9979-1add3fbf27e1",
   "metadata": {},
   "outputs": [
    {
     "name": "stdout",
     "output_type": "stream",
     "text": [
      "['Good morn', '!']\n"
     ]
    }
   ],
   "source": [
    "print(greeting.rsplit(\"ing\"))"
   ]
  },
  {
   "cell_type": "code",
   "execution_count": 107,
   "id": "ba1dc8c8-a5bb-4294-a5f5-49b9df30eed7",
   "metadata": {},
   "outputs": [
    {
     "name": "stdout",
     "output_type": "stream",
     "text": [
      "Good mornin\n"
     ]
    }
   ],
   "source": [
    "a = \"Good morning!\"\n",
    "\n",
    "print(a.rstrip(\"g!\"))"
   ]
  },
  {
   "cell_type": "code",
   "execution_count": 109,
   "id": "5032b085-e06d-4859-bd76-03fd9b1228e3",
   "metadata": {},
   "outputs": [
    {
     "name": "stdout",
     "output_type": "stream",
     "text": [
      "['Good ', 'rning!']\n"
     ]
    }
   ],
   "source": [
    "print(greeting.split(\"mo\"))"
   ]
  },
  {
   "cell_type": "code",
   "execution_count": 111,
   "id": "30a267c9-617c-4c25-8041-f44fdf61c163",
   "metadata": {},
   "outputs": [
    {
     "name": "stdout",
     "output_type": "stream",
     "text": [
      "['today is sunday', 'tommorow is monday', 'day after tommorow is tuesday']\n"
     ]
    }
   ],
   "source": [
    "word =\"\"\"today is sunday\n",
    "tommorow is monday\n",
    "day after tommorow is tuesday\"\"\"\n",
    "\n",
    "print(word.splitlines())"
   ]
  },
  {
   "cell_type": "code",
   "execution_count": 112,
   "id": "43323d24-3558-43c5-ae2b-087984e4e246",
   "metadata": {},
   "outputs": [
    {
     "name": "stdout",
     "output_type": "stream",
     "text": [
      "True\n"
     ]
    }
   ],
   "source": [
    "print(greeting.startswith(\"Goo\"))"
   ]
  },
  {
   "cell_type": "code",
   "execution_count": 114,
   "id": "af8b6736-d029-4861-8cac-61867d7baf85",
   "metadata": {},
   "outputs": [
    {
     "name": "stdout",
     "output_type": "stream",
     "text": [
      "d morning!\n"
     ]
    }
   ],
   "source": [
    "print(greeting.strip(\"Go\"))"
   ]
  },
  {
   "cell_type": "code",
   "execution_count": 117,
   "id": "c2063429-3c1a-493b-855f-1761c46fd140",
   "metadata": {},
   "outputs": [
    {
     "name": "stdout",
     "output_type": "stream",
     "text": [
      "gOOD MORNING!\n"
     ]
    }
   ],
   "source": [
    "\n",
    "print(greeting.swapcase())"
   ]
  },
  {
   "cell_type": "code",
   "execution_count": 119,
   "id": "f1f8104e-5df2-4464-abf4-76c6d12cdfea",
   "metadata": {},
   "outputs": [
    {
     "name": "stdout",
     "output_type": "stream",
     "text": [
      "Good Morning!\n"
     ]
    }
   ],
   "source": [
    "print(greeting.title())"
   ]
  },
  {
   "cell_type": "code",
   "execution_count": 121,
   "id": "0a7915a8-d68a-49a3-bfae-0b8233392b83",
   "metadata": {},
   "outputs": [
    {
     "name": "stdout",
     "output_type": "stream",
     "text": [
      "Gd mrnng jhn\n"
     ]
    }
   ],
   "source": [
    "table = str.maketrans( \" \", \" \", \"aeiou\")\n",
    "text = \"Good morning john\"\n",
    "print(text.translate(table))"
   ]
  },
  {
   "cell_type": "code",
   "execution_count": 122,
   "id": "a4688c77-d03d-42cf-81dd-73c3fc19624b",
   "metadata": {},
   "outputs": [
    {
     "name": "stdout",
     "output_type": "stream",
     "text": [
      "0011\n"
     ]
    }
   ],
   "source": [
    "num = \"11\"\n",
    "print(num.zfill(4))"
   ]
  },
  {
   "cell_type": "markdown",
   "id": "2a16096a-e04b-4be7-b914-591b46e50cd9",
   "metadata": {},
   "source": [
    "#### 2 Print the doc string for all available methods along with example for list"
   ]
  },
  {
   "cell_type": "code",
   "execution_count": 126,
   "id": "5162c6e4-dffd-4eae-8ce4-cb4c677e7521",
   "metadata": {},
   "outputs": [],
   "source": [
    "my_list= [\"red\",\"yellow\",\"blue\",\"white\"]"
   ]
  },
  {
   "cell_type": "code",
   "execution_count": 128,
   "id": "51aa27bb-4dbc-43b6-b802-ed1a03ee3bd8",
   "metadata": {},
   "outputs": [
    {
     "name": "stdout",
     "output_type": "stream",
     "text": [
      "['red', 'yellow', 'blue', 'white', 'black']\n"
     ]
    }
   ],
   "source": [
    "my_list.append(\"black\")\n",
    "print(my_list)"
   ]
  },
  {
   "cell_type": "code",
   "execution_count": 130,
   "id": "67e6f399-26a7-41d5-b230-890d187ff1a1",
   "metadata": {},
   "outputs": [
    {
     "name": "stdout",
     "output_type": "stream",
     "text": [
      "[]\n"
     ]
    }
   ],
   "source": [
    "my_list.clear()\n",
    "print(my_list)"
   ]
  },
  {
   "cell_type": "code",
   "execution_count": 132,
   "id": "8d5bd258-d7a2-4f1d-abfb-16a14437bdcb",
   "metadata": {},
   "outputs": [
    {
     "name": "stdout",
     "output_type": "stream",
     "text": [
      "['red', 'yellow', 'blue', 'white']\n"
     ]
    }
   ],
   "source": [
    "my_list= [\"red\",\"yellow\",\"blue\",\"white\"]\n",
    "my_list.copy()\n",
    "print(my_list)"
   ]
  },
  {
   "cell_type": "code",
   "execution_count": 134,
   "id": "68d45733-9df2-437f-9098-4b2a592b8a42",
   "metadata": {},
   "outputs": [
    {
     "name": "stdout",
     "output_type": "stream",
     "text": [
      "3\n"
     ]
    }
   ],
   "source": [
    "my_list2= [\"red\",\"yellow\",\"blue\",\"white\",\"red\",\"red\"]\n",
    "\n",
    "print(my_list2.count(\"red\"))"
   ]
  },
  {
   "cell_type": "code",
   "execution_count": 136,
   "id": "3083c066-adcd-4355-9ac1-6cdf65757e3b",
   "metadata": {},
   "outputs": [
    {
     "name": "stdout",
     "output_type": "stream",
     "text": [
      "['red', 'yellow', 'blue', 'white', 'b', 'l', 'a', 'c', 'k']\n"
     ]
    }
   ],
   "source": [
    "my_list3= [\"red\",\"yellow\",\"blue\",\"white\"]\n",
    "\n",
    "my_list3.extend(\"black\")\n",
    "print(my_list3)"
   ]
  },
  {
   "cell_type": "code",
   "execution_count": 138,
   "id": "7164501b-743f-4ef6-9941-522b19fae61e",
   "metadata": {},
   "outputs": [
    {
     "name": "stdout",
     "output_type": "stream",
     "text": [
      "2\n"
     ]
    }
   ],
   "source": [
    "my_list4= [\"red\",\"yellow\",\"blue\",\"white\"]\n",
    "print(my_list4.index(\"blue\"))\n"
   ]
  },
  {
   "cell_type": "code",
   "execution_count": 140,
   "id": "7918cef9-8ec9-4d1d-8fe3-71dbf45a3569",
   "metadata": {},
   "outputs": [
    {
     "name": "stdout",
     "output_type": "stream",
     "text": [
      "['red', 'yellow', 'black', 'blue', 'white']\n"
     ]
    }
   ],
   "source": [
    "my_list4= [\"red\",\"yellow\",\"blue\",\"white\"]\n",
    "my_list4.insert(2, \"black\")\n",
    "print(my_list4)"
   ]
  },
  {
   "cell_type": "code",
   "execution_count": 141,
   "id": "0b362c82-32d2-41fd-87b5-baf2c3a56d8d",
   "metadata": {},
   "outputs": [
    {
     "name": "stdout",
     "output_type": "stream",
     "text": [
      "['red', 'yellow', 'black', 'blue']\n"
     ]
    }
   ],
   "source": [
    "my_list4.pop()\n",
    "print(my_list4)"
   ]
  },
  {
   "cell_type": "code",
   "execution_count": 143,
   "id": "e06abf60-4760-441e-b993-c64092337c59",
   "metadata": {},
   "outputs": [
    {
     "name": "stdout",
     "output_type": "stream",
     "text": [
      "['red', 'black', 'blue']\n"
     ]
    }
   ],
   "source": [
    "my_list4.remove(\"yellow\")\n",
    "print(my_list4)"
   ]
  },
  {
   "cell_type": "code",
   "execution_count": 145,
   "id": "0ccba4d4-7db3-407d-ba96-681614dcd21b",
   "metadata": {},
   "outputs": [
    {
     "name": "stdout",
     "output_type": "stream",
     "text": [
      "['blue', 'black', 'red']\n"
     ]
    }
   ],
   "source": [
    "my_list4.reverse()\n",
    "print(my_list4)"
   ]
  },
  {
   "cell_type": "code",
   "execution_count": 146,
   "id": "c7ac3ca0-68b8-4302-9fa8-4796feb98cfd",
   "metadata": {},
   "outputs": [
    {
     "name": "stdout",
     "output_type": "stream",
     "text": [
      "['black', 'blue', 'red']\n"
     ]
    }
   ],
   "source": [
    "my_list4.sort()\n",
    "print(my_list4)"
   ]
  },
  {
   "cell_type": "markdown",
   "id": "840e0e21-9bca-4819-88d3-8c04e37ae431",
   "metadata": {},
   "source": [
    "#### 3 Print the doc string for all available methods along with example for Tuple"
   ]
  },
  {
   "cell_type": "code",
   "execution_count": 148,
   "id": "e9bbc10d-87ab-4ae1-9188-bf7bf46064d9",
   "metadata": {},
   "outputs": [
    {
     "name": "stdout",
     "output_type": "stream",
     "text": [
      "('chanchal', 27, 'pyhton', 'jaipur', 'yoga', 'chanchal')\n",
      "<class 'tuple'>\n"
     ]
    }
   ],
   "source": [
    "my_tuple = (\"chanchal\",27,\"pyhton\",\"jaipur\",\"yoga\",\"chanchal\")\n",
    "print(my_tuple)\n",
    "print(type(my_tuple))\n"
   ]
  },
  {
   "cell_type": "code",
   "execution_count": 149,
   "id": "a54e3368-411b-4707-b47d-e5cbbf5f4e52",
   "metadata": {},
   "outputs": [
    {
     "name": "stdout",
     "output_type": "stream",
     "text": [
      "2\n"
     ]
    }
   ],
   "source": [
    "print(my_tuple.count(\"chanchal\"))\n"
   ]
  },
  {
   "cell_type": "code",
   "execution_count": 150,
   "id": "64c76bb7-be1d-471f-8a9b-5f7a3702db1e",
   "metadata": {},
   "outputs": [
    {
     "name": "stdout",
     "output_type": "stream",
     "text": [
      "3\n"
     ]
    }
   ],
   "source": [
    "my_tuple = (\"chanchal\",27,\"pyhton\",\"jaipur\",\"yoga\",\"chanchal\")\n",
    "\n",
    "print(my_tuple.index(\"jaipur\"))\n"
   ]
  },
  {
   "cell_type": "markdown",
   "id": "c551cc7d-afc4-46ba-96af-0a8641382d35",
   "metadata": {},
   "source": [
    "#### 4 Print the doc string for all available methods along with example for Dictionary"
   ]
  },
  {
   "cell_type": "code",
   "execution_count": 152,
   "id": "187836cb-b04e-4efd-980d-8648ba389a8a",
   "metadata": {},
   "outputs": [
    {
     "name": "stdout",
     "output_type": "stream",
     "text": [
      "{'Name': 'Chanchal', 'age': 27, 'skill': 'python', 'hobby': 'Dance', 'city': 'Jaipur'}\n",
      "<class 'dict'>\n"
     ]
    }
   ],
   "source": [
    "my_dict = {\"Name\":\"Chanchal\",\"age\": 27,\"skill\":\"python\",\"hobby\":\"Dance\",\"city\":\"Jaipur\"}\n",
    "print(my_dict)\n",
    "print(type(my_dict))"
   ]
  },
  {
   "cell_type": "code",
   "execution_count": 154,
   "id": "574c642f-c782-4ed2-bed9-a6eace845f40",
   "metadata": {},
   "outputs": [
    {
     "name": "stdout",
     "output_type": "stream",
     "text": [
      "{}\n"
     ]
    }
   ],
   "source": [
    "# clear all elements of dictionary.\n",
    "my_dict.clear()\n",
    "print(my_dict)"
   ]
  },
  {
   "cell_type": "code",
   "execution_count": 157,
   "id": "32a76720-2fab-44fe-9581-56ccd4839126",
   "metadata": {},
   "outputs": [
    {
     "name": "stdout",
     "output_type": "stream",
     "text": [
      "{'Name': 'Chanchal', 'age': 27, 'skill': 'python', 'hobby': 'Dance', 'city': 'Jaipur'}\n"
     ]
    }
   ],
   "source": [
    "my_dict = {\"Name\":\"Chanchal\",\"age\": 27,\"skill\":\"python\",\"hobby\":\"Dance\",\"city\":\"Jaipur\"}\n",
    "print(my_dict.copy())"
   ]
  },
  {
   "cell_type": "code",
   "execution_count": 159,
   "id": "91febd4c-7ece-40c6-90f3-b25ac2526cc1",
   "metadata": {},
   "outputs": [
    {
     "name": "stdout",
     "output_type": "stream",
     "text": [
      "{'N': None, 'a': None, 'm': None, 'e': None}\n"
     ]
    }
   ],
   "source": [
    "print(my_dict.fromkeys(\"Name\"))\n"
   ]
  },
  {
   "cell_type": "code",
   "execution_count": 162,
   "id": "047560c5-2253-4635-b575-819be5b0f9c0",
   "metadata": {},
   "outputs": [
    {
     "name": "stdout",
     "output_type": "stream",
     "text": [
      "Jaipur\n"
     ]
    }
   ],
   "source": [
    "# provide key for value of specified key\n",
    "print(my_dict.get(\"city\"))"
   ]
  },
  {
   "cell_type": "code",
   "execution_count": 164,
   "id": "57a947ed-14b3-4b62-8530-e60b053c5d23",
   "metadata": {},
   "outputs": [
    {
     "name": "stdout",
     "output_type": "stream",
     "text": [
      "dict_items([('Name', 'Chanchal'), ('age', 27), ('skill', 'python'), ('hobby', 'Dance'), ('city', 'Jaipur')])\n"
     ]
    }
   ],
   "source": [
    "print(my_dict.items())\n"
   ]
  },
  {
   "cell_type": "code",
   "execution_count": 167,
   "id": "19da19b5-882a-42ae-b5e7-11021914e4a4",
   "metadata": {},
   "outputs": [
    {
     "name": "stdout",
     "output_type": "stream",
     "text": [
      "dict_keys(['Name', 'age', 'skill', 'hobby', 'city'])\n"
     ]
    }
   ],
   "source": [
    "print(my_dict.keys())"
   ]
  },
  {
   "cell_type": "code",
   "execution_count": 169,
   "id": "b82c5f93-0531-4faa-aa6c-998d5dc41650",
   "metadata": {},
   "outputs": [
    {
     "name": "stdout",
     "output_type": "stream",
     "text": [
      "{'age': 27, 'skill': 'python', 'hobby': 'Dance', 'city': 'Jaipur'}\n"
     ]
    }
   ],
   "source": [
    "my_dict.pop(\"Name\")\n",
    "print(my_dict)"
   ]
  },
  {
   "cell_type": "code",
   "execution_count": 171,
   "id": "5b079c3d-4f07-45d3-873a-5d771f854270",
   "metadata": {},
   "outputs": [
    {
     "name": "stdout",
     "output_type": "stream",
     "text": [
      "{'Name': 'Chanchal', 'age': 27, 'skill': 'python', 'hobby': 'Dance'}\n"
     ]
    }
   ],
   "source": [
    "my_dict = {\"Name\":\"Chanchal\",\"age\": 27,\"skill\":\"python\",\"hobby\":\"Dance\",\"city\":\"Jaipur\"}\n",
    "\n",
    "my_dict.popitem()\n",
    "print(my_dict)"
   ]
  },
  {
   "cell_type": "code",
   "execution_count": 174,
   "id": "914fb619-fc31-43fb-ba5d-413ad4a7698b",
   "metadata": {},
   "outputs": [
    {
     "name": "stdout",
     "output_type": "stream",
     "text": [
      "Chanchal\n"
     ]
    }
   ],
   "source": [
    "my_dict = {\"Name\":\"Chanchal\",\"age\": 27,\"skill\":\"python\",\"hobby\":\"Dance\",\"city\":\"Jaipur\"}\n",
    "\n",
    "print(my_dict.setdefault( \"Name\",\"age\"))\n"
   ]
  },
  {
   "cell_type": "code",
   "execution_count": 176,
   "id": "8f20c996-2db8-4671-a944-1a5d61594fec",
   "metadata": {},
   "outputs": [
    {
     "name": "stdout",
     "output_type": "stream",
     "text": [
      "{'Name': 'Chanchal', 'age': 27, 'skill': 'python', 'hobby': 'Dance', 'city': 'Jaipur', 'colour': 'red'}\n"
     ]
    }
   ],
   "source": [
    "my_dict.update({\"colour\":\"red\"})\n",
    "print(my_dict)\n"
   ]
  },
  {
   "cell_type": "code",
   "execution_count": 179,
   "id": "df0a1eac-b9a9-4b31-a9f6-eb4332106e77",
   "metadata": {},
   "outputs": [
    {
     "name": "stdout",
     "output_type": "stream",
     "text": [
      "dict_values(['Chanchal', 27, 'python', 'Dance', 'Jaipur', 'red'])\n"
     ]
    }
   ],
   "source": [
    "print(my_dict.values())\n"
   ]
  },
  {
   "cell_type": "markdown",
   "id": "7b6098a8-5ced-44fe-bd6e-4bfba3f7d9cd",
   "metadata": {},
   "source": [
    "#### 5 Print the doc string for all available methods along with example for Set"
   ]
  },
  {
   "cell_type": "code",
   "execution_count": 183,
   "id": "bc6e218d-3583-49bf-bbcd-9e08b7269649",
   "metadata": {},
   "outputs": [
    {
     "name": "stdout",
     "output_type": "stream",
     "text": [
      "{'Jaipur', 'Chanchal', 27, 'python', 'Dance'}\n",
      "<class 'set'>\n"
     ]
    }
   ],
   "source": [
    "Set1 = {\"Chanchal\",27,\"python\",\"Dance\",\"Jaipur\"}\n",
    "print(Set1)\n",
    "print(type(Set1))"
   ]
  },
  {
   "cell_type": "code",
   "execution_count": 184,
   "id": "1b408c7e-a02a-45c6-bbe6-eb0cf80dddbc",
   "metadata": {},
   "outputs": [
    {
     "name": "stdout",
     "output_type": "stream",
     "text": [
      "{'kia', 'Jaipur', 'red', 'Chanchal', 27, 'python', 'Dance'}\n"
     ]
    }
   ],
   "source": [
    "set2= {\"kia\",\"red\"}\n",
    "Set1.update(set2)\n",
    "print(Set1)"
   ]
  },
  {
   "cell_type": "code",
   "execution_count": 187,
   "id": "ab36a2f4-5b44-4f0d-909c-c0020e76d112",
   "metadata": {},
   "outputs": [
    {
     "name": "stdout",
     "output_type": "stream",
     "text": [
      "set()\n"
     ]
    }
   ],
   "source": [
    "Set1 = {\"Chanchal\",27,\"python\",\"Dance\",\"Jaipur\"}\n",
    "Set1.clear()\n",
    "print(Set1)"
   ]
  },
  {
   "cell_type": "code",
   "execution_count": 189,
   "id": "089c8108-6be9-4a29-a909-a93e9d42e6da",
   "metadata": {},
   "outputs": [
    {
     "name": "stdout",
     "output_type": "stream",
     "text": [
      "{'Jaipur', 'Chanchal', 27, 'python', 'Dance'}\n"
     ]
    }
   ],
   "source": [
    "Set1 = {\"Chanchal\",27,\"python\",\"Dance\",\"Jaipur\"}\n",
    "newset = Set1.copy()\n",
    "print(newset)"
   ]
  },
  {
   "cell_type": "code",
   "execution_count": 191,
   "id": "b206997b-fd44-4232-ba27-3f93d9b82003",
   "metadata": {},
   "outputs": [
    {
     "data": {
      "text/plain": [
       "{'priya', 'singing'}"
      ]
     },
     "execution_count": 191,
     "metadata": {},
     "output_type": "execute_result"
    }
   ],
   "source": [
    "Set1 = {\"Chanchal\",27,\"python\",\"Dance\",\"Jaipur\"}\n",
    "set2= {\"priya\",27,\"python\",\"singing\",\"Jaipur\"}\n",
    "\n",
    "set2.difference(Set1)"
   ]
  },
  {
   "cell_type": "code",
   "execution_count": 193,
   "id": "fa6322ff-6ba9-4939-b606-88d8ce9e2877",
   "metadata": {},
   "outputs": [
    {
     "name": "stdout",
     "output_type": "stream",
     "text": [
      "{'singing', 'priya'}\n"
     ]
    }
   ],
   "source": [
    "Set1 = {\"Chanchal\",27,\"python\",\"Dance\",\"Jaipur\"}\n",
    "set2= {\"priya\",27,\"python\",\"singing\",\"Jaipur\"}\n",
    "set2.difference_update(Set1)\n",
    "print(set2)\n"
   ]
  },
  {
   "cell_type": "code",
   "execution_count": 195,
   "id": "549f4eb7-7394-43c0-88f0-fbd59a6ee269",
   "metadata": {},
   "outputs": [
    {
     "name": "stdout",
     "output_type": "stream",
     "text": [
      "{'Jaipur', 'Chanchal', 27, 'python'}\n"
     ]
    }
   ],
   "source": [
    "Set1 = {\"Chanchal\",27,\"python\",\"Dance\",\"Jaipur\"}\n",
    "Set1.discard(\"Dance\")\n",
    "print(Set1)"
   ]
  },
  {
   "cell_type": "code",
   "execution_count": 197,
   "id": "5a4c5ed7-4c9f-4b3f-abc9-5945c8e7f249",
   "metadata": {},
   "outputs": [
    {
     "data": {
      "text/plain": [
       "{27, 'Jaipur', 'python'}"
      ]
     },
     "execution_count": 197,
     "metadata": {},
     "output_type": "execute_result"
    }
   ],
   "source": [
    "Set1 = {\"Chanchal\",27,\"python\",\"Dance\",\"Jaipur\"}\n",
    "set2= {\"priya\",27,\"python\",\"singing\",\"Jaipur\"}\n",
    "\n",
    "Set1.intersection(set2)\n"
   ]
  },
  {
   "cell_type": "code",
   "execution_count": 199,
   "id": "1588e347-c77b-430a-88c6-ee8b1ac54200",
   "metadata": {},
   "outputs": [
    {
     "name": "stdout",
     "output_type": "stream",
     "text": [
      "{27, 'python', 'Jaipur'}\n"
     ]
    }
   ],
   "source": [
    "Set1.intersection_update(set2)\n",
    "print(Set1)"
   ]
  },
  {
   "cell_type": "code",
   "execution_count": 200,
   "id": "f0107a8d-46ef-4d40-b14f-513dbd1a7fe2",
   "metadata": {},
   "outputs": [
    {
     "data": {
      "text/plain": [
       "False"
      ]
     },
     "execution_count": 200,
     "metadata": {},
     "output_type": "execute_result"
    }
   ],
   "source": [
    "Set1 = {\"Chanchal\",27,\"python\",\"Dance\",\"Jaipur\"}\n",
    "set2= {\"priya\",27,\"python\",\"singing\",\"Jaipur\"}\n",
    "Set1.isdisjoint(set2)"
   ]
  },
  {
   "cell_type": "code",
   "execution_count": 201,
   "id": "fd090f05-55c2-4899-bf24-c83777463845",
   "metadata": {},
   "outputs": [
    {
     "data": {
      "text/plain": [
       "True"
      ]
     },
     "execution_count": 201,
     "metadata": {},
     "output_type": "execute_result"
    }
   ],
   "source": [
    "Set1 = {\"Chanchal\",27,\"python\",\"Dance\",\"Jaipur\"}\n",
    "set2= {\"priya\",27,\"python\",\"singing\",\"Jaipur\"}\n",
    "Set1.update(set2)\n",
    "set2.issubset(Set1)"
   ]
  },
  {
   "cell_type": "code",
   "execution_count": 202,
   "id": "5a8af1d5-557b-4257-89c5-79cd4913cb4c",
   "metadata": {},
   "outputs": [
    {
     "data": {
      "text/plain": [
       "True"
      ]
     },
     "execution_count": 202,
     "metadata": {},
     "output_type": "execute_result"
    }
   ],
   "source": [
    "Set1.issuperset(set2)"
   ]
  },
  {
   "cell_type": "code",
   "execution_count": 203,
   "id": "18c6cf74-a879-423d-8658-0b69a0628576",
   "metadata": {},
   "outputs": [
    {
     "name": "stdout",
     "output_type": "stream",
     "text": [
      "{'Chanchal', 27, 'python', 'Dance'}\n"
     ]
    }
   ],
   "source": [
    "Set1 = {\"Chanchal\",27,\"python\",\"Dance\",\"Jaipur\"}\n",
    "Set1.pop()\n",
    "print(Set1)"
   ]
  },
  {
   "cell_type": "code",
   "execution_count": 204,
   "id": "a1ea78f3-6ef6-435a-8dba-70f1693ae512",
   "metadata": {},
   "outputs": [
    {
     "name": "stdout",
     "output_type": "stream",
     "text": [
      "{'Jaipur', 'Chanchal', 'python', 'Dance'}\n"
     ]
    }
   ],
   "source": [
    "Set1 = {\"Chanchal\",27,\"python\",\"Dance\",\"Jaipur\"}\n",
    "Set1.remove(27)\n",
    "print(Set1)"
   ]
  },
  {
   "cell_type": "code",
   "execution_count": 205,
   "id": "286250d1-d6c9-42e9-aa60-2d3929472f22",
   "metadata": {},
   "outputs": [
    {
     "data": {
      "text/plain": [
       "{'Chanchal', 'Dance', 'priya', 'singing'}"
      ]
     },
     "execution_count": 205,
     "metadata": {},
     "output_type": "execute_result"
    }
   ],
   "source": [
    "Set1 = {\"Chanchal\",27,\"python\",\"Dance\",\"Jaipur\"}\n",
    "set2= {\"priya\",27,\"python\",\"singing\",\"Jaipur\"}\n",
    "\n",
    "Set1.symmetric_difference(set2)\n"
   ]
  },
  {
   "cell_type": "code",
   "execution_count": 206,
   "id": "3bb6bd48-745a-454a-bb08-963a3a99fd96",
   "metadata": {},
   "outputs": [
    {
     "name": "stdout",
     "output_type": "stream",
     "text": [
      "{'singing', 'Chanchal', 'priya', 'Dance'}\n"
     ]
    }
   ],
   "source": [
    "Set1 = {\"Chanchal\",27,\"python\",\"Dance\",\"Jaipur\"}\n",
    "set2= {\"priya\",27,\"python\",\"singing\",\"Jaipur\"}\n",
    "\n",
    "Set1.symmetric_difference_update(set2)\n",
    "print(Set1)"
   ]
  },
  {
   "cell_type": "code",
   "execution_count": 211,
   "id": "5d9e2a5d-7851-4cfb-8650-58eaa6278a40",
   "metadata": {},
   "outputs": [
    {
     "data": {
      "text/plain": [
       "{27, 'Chanchal', 'Dance', 'Jaipur', 'priya', 'python', 'singing'}"
      ]
     },
     "execution_count": 211,
     "metadata": {},
     "output_type": "execute_result"
    }
   ],
   "source": [
    "#Join Set 1 and Set 2 by union method\n",
    "set1 = {\"Chanchal\",27,\"python\",\"Dance\",\"Jaipur\"}\n",
    "set2= {\"priya\",27,\"python\",\"singing\",\"Jaipur\"}\n",
    "set1.union(set2)"
   ]
  },
  {
   "cell_type": "code",
   "execution_count": 213,
   "id": "12612082-7ff3-4381-b910-c49b3b93f048",
   "metadata": {},
   "outputs": [
    {
     "name": "stdout",
     "output_type": "stream",
     "text": [
      "{'Data analyst', 'Jaipur', 'power BI', 'Chanchal', 27, 'python', 'Dance'}\n"
     ]
    }
   ],
   "source": [
    "set1 = {\"Chanchal\",27,\"python\",\"Dance\",\"Jaipur\"}\n",
    "new_set= {\"Data analyst\",\"power BI\"}\n",
    "\n",
    "set1.update(new_set)\n",
    "print(set1)"
   ]
  },
  {
   "cell_type": "markdown",
   "id": "b1bf0d3d-12a9-4e90-8dc0-5bba17078c40",
   "metadata": {},
   "source": [
    "#### 6.\tWrite a Python program to print the following string in a specific format\n",
    "Sample String : \"Twinkle, twinkle, little star, How I wonder what you are! Up above the world so high, Like a diamond in the sky. Twinkle, twinkle, little star, How I wonder what you are\"\n",
    "\n",
    "\n",
    " Twinkle, twinkle, little star,\n",
    "\t\t\n",
    "        How I wonder what you are! \n",
    "\t        \n",
    "            Up above the world so high,   \t\t\n",
    "\t\t\n",
    "        Like a diamond in the sky. \n",
    "\n"
   ]
  },
  {
   "cell_type": "code",
   "execution_count": 218,
   "id": "35bc6f57-60e8-470e-8aac-684c1a7416e9",
   "metadata": {
    "scrolled": true
   },
   "outputs": [
    {
     "name": "stdout",
     "output_type": "stream",
     "text": [
      "Twinkle, twinkle, little star,\n",
      "\tHow I wonder what you are!\n",
      "\t\tUp above the world so high, \n",
      "\tLike a diamond in the sky.\n",
      "Twinkle, twinkle, little star,\n",
      "\tHow I wonder what you are!\n",
      "\t\tUp above the world so high, \n",
      "\tLike a diamond in the sky\n"
     ]
    }
   ],
   "source": [
    "print(\"\"\"Twinkle, twinkle, little star,\n",
    "\\tHow I wonder what you are!\n",
    "\\t\\tUp above the world so high, \n",
    "\\tLike a diamond in the sky.\n",
    "Twinkle, twinkle, little star,\n",
    "\\tHow I wonder what you are!\n",
    "\\t\\tUp above the world so high, \n",
    "\\tLike a diamond in the sky\"\"\")\n",
    "\n",
    "\n"
   ]
  },
  {
   "cell_type": "markdown",
   "id": "22d7fcc5-118d-4656-b933-388cb82b33ec",
   "metadata": {},
   "source": [
    "#### 7.\tWrite a program to find the last position of a substring “Emma” in a given string.\n"
   ]
  },
  {
   "cell_type": "code",
   "execution_count": 222,
   "id": "c752dfcf-7ddd-4c4e-a6d0-d5f2a38dbe4a",
   "metadata": {},
   "outputs": [
    {
     "data": {
      "text/plain": [
       "43"
      ]
     },
     "execution_count": 222,
     "metadata": {},
     "output_type": "execute_result"
    }
   ],
   "source": [
    "Emma = \"Emma is a data scientist who knows Python. Emma works at google.\"\n",
    "Emma.rindex(\"Emma\")\n"
   ]
  },
  {
   "cell_type": "markdown",
   "id": "f7b5493a-3e21-4bcd-9915-61064ca370a0",
   "metadata": {},
   "source": [
    "8.\tWrite a program to add two lists index-wise. Create a new list that contains the 0th index item from both the list, then the 1st index item, and so on till the last element. any leftover items will get added at the end of the new list.\n",
    "\n",
    "\n",
    "Given: list1 = [\"M\", \"na\", \"i\", \"Ke\"]\n",
    "\n",
    "list2 = [\"y\", \"me\", \"s\", \"lly\"]\n",
    "\n",
    "Output: ['My', 'name', 'is', 'Kelly']"
   ]
  },
  {
   "cell_type": "code",
   "execution_count": 225,
   "id": "d9bdcd48-68cb-4ce3-a1a5-c19e48b99632",
   "metadata": {},
   "outputs": [],
   "source": [
    "list1 = [\"M\", \"na\", \"i\", \"Ke\"]\n",
    "list2 = [\"y\", \"me\", \"s\", \"lly\"]\n"
   ]
  },
  {
   "cell_type": "code",
   "execution_count": 226,
   "id": "6ba96e0e-b43a-4e6c-82ff-6ba5c8bd2fa6",
   "metadata": {},
   "outputs": [
    {
     "name": "stdout",
     "output_type": "stream",
     "text": [
      "['My', 'name', 'is', 'Kelly']\n"
     ]
    }
   ],
   "source": [
    "newlist=[a+b for a,b in zip(list1,list2)]\n",
    "print(newlist)"
   ]
  },
  {
   "cell_type": "markdown",
   "id": "7214f104-a8d2-4578-b1c6-d5708daa7d9b",
   "metadata": {},
   "source": [
    "#### 9.\tModify the element of a nested list inside the following list. Change the element 35 to 3500\n"
   ]
  },
  {
   "cell_type": "code",
   "execution_count": 230,
   "id": "312a3d43-b26b-405d-aeab-47851061e658",
   "metadata": {},
   "outputs": [
    {
     "name": "stdout",
     "output_type": "stream",
     "text": [
      "[5, [10, 15, [20, 25, [30, 3500], 40], 45], 50]\n"
     ]
    }
   ],
   "source": [
    "list1 = [5, [10, 15, [20, 25, [30, 35], 40], 45], 50]\n",
    "list1[1][2][2][1] = 3500\n",
    "print(list1)\n"
   ]
  },
  {
   "cell_type": "markdown",
   "id": "0bd1b7be-13ec-4b0e-a919-07665456b9ba",
   "metadata": {},
   "source": [
    "#### 10.\tGiven is the list of grades obtained by u in last assignment\n",
    "\n",
    "Grades = [10,9,10,4,8,7,8,9,10,10,7,8]\n",
    "\n",
    "o\tHow many students have received grade 8\n",
    "\n",
    "o\tA statement that changes the last grade to 4\n",
    "\n",
    "o\tSort the grades in ascending order\n",
    "\n",
    "o\tPrint given list in reverse format\n"
   ]
  },
  {
   "cell_type": "code",
   "execution_count": 233,
   "id": "265115e4-cc6a-42bb-97ec-25e8e93cc505",
   "metadata": {},
   "outputs": [],
   "source": [
    "Grades = [10,9,10,4,8,7,8,9,10,10,7,8]"
   ]
  },
  {
   "cell_type": "code",
   "execution_count": 236,
   "id": "bd8cb4f4-9d22-4ced-86ad-fabc2ab9677d",
   "metadata": {},
   "outputs": [
    {
     "name": "stdout",
     "output_type": "stream",
     "text": [
      "3 Students who achieve 8 Grades\n"
     ]
    }
   ],
   "source": [
    "# How many students have received grade 8\n",
    "print( Grades.count(8),\"Students who achieve 8 Grades\")"
   ]
  },
  {
   "cell_type": "code",
   "execution_count": 238,
   "id": "5e6f91cc-74e2-4e2c-85c1-87354643f538",
   "metadata": {},
   "outputs": [
    {
     "name": "stdout",
     "output_type": "stream",
     "text": [
      "[10, 9, 10, 4, 8, 7, 8, 9, 10, 10, 7, 4]\n"
     ]
    }
   ],
   "source": [
    "# A statement that changes the last grade to 4\n",
    "Grades[-1] = 4\n",
    "print(Grades)"
   ]
  },
  {
   "cell_type": "code",
   "execution_count": 239,
   "id": "6b18d8c4-14f9-4909-a79d-046ce6dd3da2",
   "metadata": {},
   "outputs": [
    {
     "name": "stdout",
     "output_type": "stream",
     "text": [
      "[4, 4, 7, 7, 8, 8, 9, 9, 10, 10, 10, 10]\n"
     ]
    }
   ],
   "source": [
    "# Sort the grades in ascending order\n",
    "Grades.sort()\n",
    "print(Grades)\n"
   ]
  },
  {
   "cell_type": "code",
   "execution_count": 241,
   "id": "48875899-8467-42aa-aafe-bb852386c726",
   "metadata": {},
   "outputs": [
    {
     "name": "stdout",
     "output_type": "stream",
     "text": [
      "[10, 10, 10, 10, 9, 9, 8, 8, 7, 7, 4, 4]\n"
     ]
    }
   ],
   "source": [
    "# Print given list in reverse format\n",
    "Grades.reverse()\n",
    "print(Grades)"
   ]
  },
  {
   "cell_type": "markdown",
   "id": "779ce096-a82f-4544-b19d-7f4819575df3",
   "metadata": {},
   "source": [
    "#### 11.\tWrite a Python program to sort three integers without using conditional statements and loops\n"
   ]
  },
  {
   "cell_type": "code",
   "execution_count": 245,
   "id": "c5a76842-398f-4aed-9d02-4a564b2903c1",
   "metadata": {},
   "outputs": [
    {
     "name": "stdin",
     "output_type": "stream",
     "text": [
      "enter no 9\n",
      "enter no 7\n",
      "enter no 5\n"
     ]
    },
    {
     "name": "stdout",
     "output_type": "stream",
     "text": [
      "[5, 7, 9]\n"
     ]
    }
   ],
   "source": [
    "num1 = int(input(\"enter no\"))\n",
    "num2 = int(input(\"enter no\"))\n",
    "num3 = int(input(\"enter no\"))\n",
    "print(sorted([num1,num2,num3]))\n",
    "\n"
   ]
  },
  {
   "cell_type": "markdown",
   "id": "a4a6075b-f9c8-40ae-9009-967529067524",
   "metadata": {},
   "source": [
    "#### 12.\tDefine a dictionary with your basic details (name, company, 4 skills/hobbies) and perform following:\n",
    "\n",
    "    a.\tGet all the values in form of tuple\n",
    "   \n",
    "    b.\tDelete the name company\n",
    "   \n",
    "    c.\tAdd institute and value as “Institute”\n",
    "   \n",
    "    d.\tFind the length of newly formed dictionary\n"
   ]
  },
  {
   "cell_type": "code",
   "execution_count": 249,
   "id": "13914a32-bbf7-4520-a6f6-279c3342fa0b",
   "metadata": {},
   "outputs": [
    {
     "name": "stdout",
     "output_type": "stream",
     "text": [
      "<class 'dict'>\n",
      "('name', 'company', 'skills', 'hobbies')\n",
      "<class 'tuple'>\n"
     ]
    }
   ],
   "source": [
    "My_Dict = {\"name\":\"chanchal\",\"company\":\"genpact\",\"skills\":\"Python,powerbi,tableau\",\"hobbies\":\"reading\"}\n",
    "print(type(My_Dict))\n",
    "\n",
    "# a. Get all the values in form of tuple\n",
    "Tuple = tuple(My_Dict)\n",
    "print(Tuple)\n",
    "print(type(Tuple))"
   ]
  },
  {
   "cell_type": "code",
   "execution_count": 251,
   "id": "e93bdd49-8158-4949-9da1-36d4c36cc695",
   "metadata": {},
   "outputs": [
    {
     "name": "stdout",
     "output_type": "stream",
     "text": [
      "{'skills': 'Python,powerbi,tableau', 'hobbies': 'reading'}\n"
     ]
    }
   ],
   "source": [
    "My_Dict = {\"name\":\"chanchal\",\"company\":\"genpact\",\"skills\":\"Python,powerbi,tableau\",\"hobbies\":\"reading\"}\n",
    "#    b.\tDelete the name company\n",
    "del My_Dict[\"name\"]\n",
    "del My_Dict[\"company\"]\n",
    "print(My_Dict)"
   ]
  },
  {
   "cell_type": "code",
   "execution_count": 253,
   "id": "58f8b89a-865d-4d0a-a156-bb200c0b38b7",
   "metadata": {},
   "outputs": [
    {
     "name": "stdout",
     "output_type": "stream",
     "text": [
      "{'name': 'chanchal', 'company': 'genpact', 'skills': 'Python,powerbi,tableau', 'hobbies': 'reading', 'institute': 'coachx'}\n"
     ]
    }
   ],
   "source": [
    "#c.\tAdd institute and value as “Institute”\n",
    "My_Dict = {\"name\":\"chanchal\",\"company\":\"genpact\",\"skills\":\"Python,powerbi,tableau\",\"hobbies\":\"reading\"}\n",
    "\n",
    "My_Dict.update({\"institute\":\"coachx\"})\n",
    "print(My_Dict)"
   ]
  },
  {
   "cell_type": "code",
   "execution_count": 255,
   "id": "864e08fc-6cec-4d73-bd79-2e30a7d75405",
   "metadata": {},
   "outputs": [
    {
     "data": {
      "text/plain": [
       "5"
      ]
     },
     "execution_count": 255,
     "metadata": {},
     "output_type": "execute_result"
    }
   ],
   "source": [
    " #   d.\tFind the length of newly formed dictionary\n",
    "len(My_Dict)"
   ]
  },
  {
   "cell_type": "markdown",
   "id": "b0b9f269-6368-4ace-b5ef-59402fa610e1",
   "metadata": {},
   "source": [
    "#### 13.\tConvert two lists into a dictionary\n",
    "keys = ['Ten', 'Twenty', 'Thirty'] \n",
    "\n",
    "values = [10, 20, 30]\n"
   ]
  },
  {
   "cell_type": "code",
   "execution_count": 258,
   "id": "03ad89e5-a9f9-4d6f-83c7-76cf904bd5fa",
   "metadata": {},
   "outputs": [
    {
     "name": "stdout",
     "output_type": "stream",
     "text": [
      "{'Ten': 10, 'Twenty': 20, 'Thirty': 30}\n",
      "<class 'dict'>\n"
     ]
    }
   ],
   "source": [
    "keys = ['Ten', 'Twenty', 'Thirty'] \n",
    "values = [10, 20, 30]\n",
    "\n",
    "new_dict= dict(zip(keys,values))\n",
    "print(new_dict)\n",
    "print(type(new_dict))"
   ]
  },
  {
   "cell_type": "markdown",
   "id": "8f0ba26d-5f4f-400c-95b2-e4a9751c7c2a",
   "metadata": {},
   "source": [
    "#### 14.\tWrite a Python program to change Brad’s salary to 8500 in the following dictionary.\n",
    "\n",
    "sample_dict = {\n",
    "\n",
    "   \n",
    "    'emp1': {'name': 'Jhon', 'salary': 7500},\n",
    "   \n",
    "    'emp2': {'name': 'Emma', 'salary': 8000},\n",
    "   \n",
    "    'emp3': {'name': 'Brad', 'salary': 500}\n",
    "}\n"
   ]
  },
  {
   "cell_type": "code",
   "execution_count": 261,
   "id": "38d72cd8-14f6-4aa9-b7b4-0771d40031cd",
   "metadata": {},
   "outputs": [
    {
     "name": "stdout",
     "output_type": "stream",
     "text": [
      "{'emp1': {'name': 'Jhon', 'salary': 7500}, 'emp2': {'name': 'Emma', 'salary': 8000}, 'emp3': {'name': 'Brad', 'salary': 8500}}\n"
     ]
    }
   ],
   "source": [
    "sample_dict = {\n",
    "'emp1': {'name': 'Jhon', 'salary': 7500},\n",
    "\n",
    "'emp2': {'name': 'Emma', 'salary': 8000},\n",
    "\n",
    "'emp3': {'name': 'Brad', 'salary': 500}\n",
    "}\n",
    "\n",
    "sample_dict['emp3']['salary'] = 8500\n",
    "\n",
    "print(sample_dict)"
   ]
  },
  {
   "cell_type": "markdown",
   "id": "882dfbef-0c96-4c5e-8ea3-c88561237979",
   "metadata": {},
   "source": [
    "#### 15.\tWrite a program to generate a dictionary that contains (i:i*i) such that is an integral number between 1 and n (both included)"
   ]
  },
  {
   "cell_type": "code",
   "execution_count": 266,
   "id": "0ff4fb00-8d8a-4cbd-842c-84bd368479b5",
   "metadata": {},
   "outputs": [
    {
     "name": "stdin",
     "output_type": "stream",
     "text": [
      "enter your number 5\n"
     ]
    },
    {
     "name": "stdout",
     "output_type": "stream",
     "text": [
      "{1: 1, 2: 4, 3: 9, 4: 16, 5: 25}\n"
     ]
    }
   ],
   "source": [
    "n = int(input(\"enter your number\"))\n",
    "\n",
    "square_list ={i:i*i for i in range(1,n+1)}\n",
    "              \n",
    "print(square_list)\n"
   ]
  },
  {
   "cell_type": "markdown",
   "id": "af4940f0-cb1a-46dd-81e3-01d96fa6bedd",
   "metadata": {},
   "source": [
    " #### 16.\t Write a Python program that prints out all colors from color_list_1 that are not present in color_list_2. "
   ]
  },
  {
   "cell_type": "code",
   "execution_count": 268,
   "id": "5bfed6c0-3a3c-4d96-ada2-df9323d4ca26",
   "metadata": {},
   "outputs": [
    {
     "name": "stdout",
     "output_type": "stream",
     "text": [
      "{'black', 'Yellow', 'pink'}\n"
     ]
    }
   ],
   "source": [
    "Colour_list1 =[\"blue\",\"black\",\"Green\",\"Yellow\",\"pink\"]\n",
    "Colour_list2 =[\"blue\",\"red\",\"Green\",\"purple\"]\n",
    "\n",
    "Colour1 = set(Colour_list1)\n",
    "Colour2 = set(Colour_list2)\n",
    "\n",
    "print(Colour1.difference(Colour2))"
   ]
  },
  {
   "cell_type": "markdown",
   "id": "7b628209-52f4-469e-a2f3-6a86bd086f40",
   "metadata": {},
   "source": [
    "#### 17.\tWrite a Python program that prints out all unique colors from color_list_1 and color_list_2. "
   ]
  },
  {
   "cell_type": "code",
   "execution_count": 271,
   "id": "8185b620-b06b-4d72-985c-8938e4040503",
   "metadata": {},
   "outputs": [
    {
     "name": "stdout",
     "output_type": "stream",
     "text": [
      "{'purple', 'red', 'black', 'Green', 'Yellow', 'pink', 'blue'}\n"
     ]
    }
   ],
   "source": [
    "Colour_list1 =[\"blue\",\"black\",\"Green\",\"Yellow\",\"pink\"]\n",
    "Colour_list2 =[\"blue\",\"red\",\"Green\",\"purple\" ]\n",
    "\n",
    "Colour1 = set(Colour_list1)\n",
    "Colour2 = set (Colour_list2)\n",
    "\n",
    "print(Colour1.union(Colour2))"
   ]
  },
  {
   "cell_type": "markdown",
   "id": "fd9e5793-07a0-4bfe-85ae-c9df3d4df3a6",
   "metadata": {},
   "source": [
    "#### 18.\tWrite a Python program that prints out all colors from color_list_2 that are not present in color_list_1. "
   ]
  },
  {
   "cell_type": "code",
   "execution_count": 274,
   "id": "8c9d42c2-ae56-4bda-ab28-7a4035b232e8",
   "metadata": {},
   "outputs": [
    {
     "name": "stdout",
     "output_type": "stream",
     "text": [
      "{'red', 'purple'}\n"
     ]
    }
   ],
   "source": [
    "Colour_list1 =[\"blue\",\"black\",\"Green\",\"Yellow\",\"pink\"]\n",
    "Colour_list2 =[\"blue\",\"red\",\"Green\",\"purple\"]\n",
    "\n",
    "Colour1 = set(Colour_list1)\n",
    "Colour2 = set(Colour_list2)\n",
    "\n",
    "print(Colour2.difference(Colour1))"
   ]
  },
  {
   "cell_type": "markdown",
   "id": "30c75bdc-e18a-4e84-814b-23d22217471a",
   "metadata": {},
   "source": [
    "#### 19.\tWrite a Python program that prints out all common colors from color_list_1 and color_list_2. "
   ]
  },
  {
   "cell_type": "code",
   "execution_count": 277,
   "id": "074c12f1-1b84-4508-ba20-34a3df649fe8",
   "metadata": {},
   "outputs": [
    {
     "name": "stdout",
     "output_type": "stream",
     "text": [
      "{'blue', 'Green'}\n"
     ]
    }
   ],
   "source": [
    "Colour_list1 =[\"blue\",\"black\",\"Green\",\"Yellow\",\"pink\"]\n",
    "Colour_list2 =[\"blue\",\"red\",\"Green\",\"purple\"]\n",
    "\n",
    "Colour1 = set(Colour_list1)\n",
    "Colour2 = set(Colour_list2)\n",
    "\n",
    "print(Colour2.intersection(Colour1))"
   ]
  },
  {
   "cell_type": "markdown",
   "id": "91360000-68a7-4c4d-9db3-0ce9e35fb793",
   "metadata": {},
   "source": [
    "#### 20.\tWrite a Python program that prints out all non common colors from color_list_1 and color_list_2. "
   ]
  },
  {
   "cell_type": "code",
   "execution_count": 280,
   "id": "902ac80a-73eb-45b9-b7f0-8e3c7c585520",
   "metadata": {},
   "outputs": [
    {
     "name": "stdout",
     "output_type": "stream",
     "text": [
      "{'purple', 'red', 'black', 'Yellow', 'pink'}\n"
     ]
    }
   ],
   "source": [
    "Colour_list1 =[\"blue\",\"black\",\"Green\",\"Yellow\",\"pink\"]\n",
    "Colour_list2 =[\"blue\",\"red\",\"Green\",\"purple\"]\n",
    "\n",
    "Colour1 = set(Colour_list1)\n",
    "Colour2 = set (Colour_list2)\n",
    "\n",
    "print(Colour1.symmetric_difference(Colour2))"
   ]
  },
  {
   "cell_type": "code",
   "execution_count": null,
   "id": "c1e5effa-0dc0-4857-b788-b75b4592800f",
   "metadata": {},
   "outputs": [],
   "source": []
  },
  {
   "cell_type": "code",
   "execution_count": null,
   "id": "026100aa-a74e-46ad-b67b-efe8278acbb8",
   "metadata": {},
   "outputs": [],
   "source": []
  },
  {
   "cell_type": "code",
   "execution_count": null,
   "id": "1f3c039a-7072-40ed-ab57-3fd04d7e66ef",
   "metadata": {},
   "outputs": [],
   "source": []
  }
 ],
 "metadata": {
  "kernelspec": {
   "display_name": "Python 3 (ipykernel)",
   "language": "python",
   "name": "python3"
  },
  "language_info": {
   "codemirror_mode": {
    "name": "ipython",
    "version": 3
   },
   "file_extension": ".py",
   "mimetype": "text/x-python",
   "name": "python",
   "nbconvert_exporter": "python",
   "pygments_lexer": "ipython3",
   "version": "3.12.4"
  }
 },
 "nbformat": 4,
 "nbformat_minor": 5
}
