{
 "cells": [
  {
   "cell_type": "markdown",
   "id": "3da70b71-2658-4480-a8f9-02c39b058ff2",
   "metadata": {},
   "source": [
    "## 1.\tWrite a program to convert Rupees into dollars entered by user \n",
    "\n",
    "INR_amount = 500\n",
    "Exchange_rate = 0.012\n",
    "\n",
    "USD_Amount = (INR_amount)*(Exchange_rate)\n",
    "\n",
    "print(\"INR\",INR_amount,\"in USD \",USD_Amount)\n"
   ]
  },
  {
   "cell_type": "code",
   "execution_count": 2,
   "id": "0ca75329-6521-46b2-b656-f6e320048ab9",
   "metadata": {},
   "outputs": [
    {
     "name": "stdout",
     "output_type": "stream",
     "text": [
      "Area of circle is 153.86\n",
      "Area of triangle is 25.0\n",
      "Area of Rectangle is 40\n",
      "Area of Square is 16\n"
     ]
    }
   ],
   "source": [
    "#2.\tCalculate the area of circle, triangle, rectangle and square\n",
    "\n",
    "R = 7\n",
    "pi = 3.14\n",
    "\n",
    "Area_of_circle = (pi)*(R*R)\n",
    "\n",
    "print(\"Area of circle is\",Area_of_circle)\n",
    "\n",
    "Base= 10\n",
    "Height=5\n",
    "\n",
    "Area_of_triangle = 1/2*(Base*Height)\n",
    "\n",
    "print(\"Area of triangle is\",Area_of_triangle)\n",
    "\n",
    "Length= 10\n",
    "Width=4\n",
    "\n",
    "Area_of_Rectangle = Length*Width\n",
    "\n",
    "print(\"Area of Rectangle is\",Area_of_Rectangle)\n",
    "\n",
    "Side = 4\n",
    "\n",
    "Area_of_Square = Side*Side\n",
    "\n",
    "print(\"Area of Square is\",Area_of_Square)"
   ]
  },
  {
   "cell_type": "code",
   "execution_count": 3,
   "id": "0394c11d-9e5f-4583-ad1e-4aa85404e3cb",
   "metadata": {},
   "outputs": [
    {
     "name": "stdout",
     "output_type": "stream",
     "text": [
      "-615\n",
      "result is less than 600\n"
     ]
    }
   ],
   "source": [
    "# 3.\tWrite a Python program that accepts an integer -5 and computes the value of n+nn+nnn. and check if it is greater than 600\n",
    "\n",
    "n = -5\n",
    "nn = -55\n",
    "nnn= -555\n",
    "\n",
    "total = n + nn + nnn\n",
    "print(total)\n",
    "\n",
    "if total >600:\n",
    "    print(\"result is greater than 600\")\n",
    "else:\n",
    "    print(\"result is less than 600\")"
   ]
  },
  {
   "cell_type": "code",
   "execution_count": 4,
   "id": "351111bd-c16b-41b7-908c-dd5c372418ed",
   "metadata": {},
   "outputs": [
    {
     "name": "stdout",
     "output_type": "stream",
     "text": [
      "False\n"
     ]
    }
   ],
   "source": [
    "# 4.\tTranslate the following statements into Python Boolean expressions and evaluate them\n",
    "#a.\tThe sum of 2 and 2 is less than 4.\n",
    "\n",
    "a = 2\n",
    "\n",
    "print(a+a <4)"
   ]
  },
  {
   "cell_type": "code",
   "execution_count": 5,
   "id": "a4e612c2-9e6a-41e5-98cf-5528b5dd5c06",
   "metadata": {},
   "outputs": [
    {
     "name": "stdout",
     "output_type": "stream",
     "text": [
      "71\n"
     ]
    }
   ],
   "source": [
    "#b.\tHow many times multiplying 61 makes 4356\n",
    "\n",
    "a= 61\n",
    "b= 4356\n",
    "print(4356 // 61)\n",
    "\n"
   ]
  },
  {
   "cell_type": "code",
   "execution_count": 6,
   "id": "cb14539f-d40a-4028-a9c7-7f372ac7e27b",
   "metadata": {},
   "outputs": [
    {
     "data": {
      "text/plain": [
       "True"
      ]
     },
     "execution_count": 6,
     "metadata": {},
     "output_type": "execute_result"
    }
   ],
   "source": [
    "#c.\tThe sum of 3 squared and 4 squared is equal to 25.\n",
    "\n",
    "(3**2 + 4**2) == 25\n"
   ]
  },
  {
   "cell_type": "code",
   "execution_count": 7,
   "id": "229139d7-3a35-43de-aa51-5760769ec608",
   "metadata": {},
   "outputs": [
    {
     "name": "stdout",
     "output_type": "stream",
     "text": [
      "True\n"
     ]
    }
   ],
   "source": [
    "#d.\t1387 is divisible by 19\n",
    "\n",
    "a=1387\n",
    "b=19\n",
    "\n",
    "print(a % b ==0)"
   ]
  },
  {
   "cell_type": "code",
   "execution_count": 8,
   "id": "875a540a-0d17-4f52-b43b-efb2e40bcfdb",
   "metadata": {},
   "outputs": [],
   "source": [
    "#5.\tIf a die is rolled during a game, write a program to check if the number facing up is between 1-6\n",
    "Die = list[1,2,3,4,5,6]\n"
   ]
  },
  {
   "cell_type": "code",
   "execution_count": 1,
   "id": "95ce811c-8f2e-4605-9352-b0fea8fa7089",
   "metadata": {},
   "outputs": [
    {
     "name": "stdin",
     "output_type": "stream",
     "text": [
      " enter year 2000\n"
     ]
    },
    {
     "name": "stdout",
     "output_type": "stream",
     "text": [
      "this 2000  is leap year\n"
     ]
    }
   ],
   "source": [
    "#6.\tWrite a program that checks if the given year is leap and not multiple of 100 or is a multiple of 400\n",
    "year = int(input(\" enter year\"))\n",
    "if year%400== 0 or year%100 !=0:\n",
    "    print(\"this\", year, \" is leap year\") \n",
    "else:\n",
    "    print(\"this\", year, \" is not leap year\") \n"
   ]
  },
  {
   "cell_type": "code",
   "execution_count": 3,
   "id": "dee134c3-a819-44b2-8559-4b920e6d553c",
   "metadata": {},
   "outputs": [
    {
     "name": "stdout",
     "output_type": "stream",
     "text": [
      " number is not divisible by 4\n"
     ]
    }
   ],
   "source": [
    "#7.\tCheck if the given number is multiple of 4 using bitwise And operator\n",
    "num1= 28\n",
    "num2 =34\n",
    "if (num1%4==0) & (num2%4 ==0):\n",
    "    print(\" number is divisible by 4\")\n",
    "else:\n",
    "    print(\" number is not divisible by 4\")\n",
    "        \n",
    "\n",
    "\n"
   ]
  },
  {
   "cell_type": "code",
   "execution_count": 5,
   "id": "f462a97c-a6a6-4d8d-8498-b71f489d2222",
   "metadata": {},
   "outputs": [],
   "source": [
    "#8.\tWrite a program to get the compliment number of user input\n",
    "\n",
    "\n"
   ]
  },
  {
   "cell_type": "code",
   "execution_count": 7,
   "id": "f6fc51b2-e1f4-482d-a70c-9be6f557c879",
   "metadata": {},
   "outputs": [
    {
     "name": "stdout",
     "output_type": "stream",
     "text": [
      "80\n"
     ]
    }
   ],
   "source": [
    "#9.\tWrite a program to create number 80 using bitwise left shift operator of a number.\n",
    "num=10\n",
    "print(num<<3)"
   ]
  },
  {
   "cell_type": "code",
   "execution_count": 9,
   "id": "07698998-cde0-4b34-99e6-c41693ed208b",
   "metadata": {},
   "outputs": [
    {
     "name": "stdout",
     "output_type": "stream",
     "text": [
      "True\n"
     ]
    }
   ],
   "source": [
    "#10.\tWrite a program to check if “.com” is present in the entered email address\n",
    "\n",
    "email = \"ramesh.com\"\n",
    "\n",
    "print(\".com\" in email)"
   ]
  },
  {
   "cell_type": "code",
   "execution_count": 36,
   "id": "16e2dde0-6fa0-4757-b587-83144808da90",
   "metadata": {},
   "outputs": [
    {
     "name": "stdout",
     "output_type": "stream",
     "text": [
      "mutual friends ['jenny', 'lucy']\n"
     ]
    }
   ],
   "source": [
    "#11.\tSearch if there are mutual friends between two friend list\n",
    "friend_list1 =  [\"mehul\", \"Radhika\", \"jenny\", \"lucy\", \"Ramesh\", \"suresh\"]\n",
    "\n",
    "friend_list2 =  [\"joy\", \"kate\", \"kelvin\", \"carol\", \"jenny\", \"lucy\"]\n",
    "\n",
    "\n",
    "list1 = set(friend_list1)\n",
    "list2 = set(friend_list2)\n",
    "\n",
    "mutual_friends= list(list1.intersection(list2))\n",
    "\n",
    "print(\"mutual friends\",mutual_friends)"
   ]
  },
  {
   "cell_type": "code",
   "execution_count": null,
   "id": "67728ba9-4553-4f45-ac67-15b8d2a33120",
   "metadata": {},
   "outputs": [],
   "source": []
  }
 ],
 "metadata": {
  "kernelspec": {
   "display_name": "Python 3 (ipykernel)",
   "language": "python",
   "name": "python3"
  },
  "language_info": {
   "codemirror_mode": {
    "name": "ipython",
    "version": 3
   },
   "file_extension": ".py",
   "mimetype": "text/x-python",
   "name": "python",
   "nbconvert_exporter": "python",
   "pygments_lexer": "ipython3",
   "version": "3.12.4"
  }
 },
 "nbformat": 4,
 "nbformat_minor": 5
}
