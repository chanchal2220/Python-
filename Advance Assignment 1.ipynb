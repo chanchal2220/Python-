{
 "cells": [
  {
   "cell_type": "markdown",
   "id": "f1a6155b-b223-4474-8236-b7300057cdf6",
   "metadata": {},
   "source": [
    "\n",
    "### SET A\n"
   ]
  },
  {
   "cell_type": "markdown",
   "id": "90ad4531-147c-4e1e-8666-4db1f419acde",
   "metadata": {},
   "source": [
    "### 1. Write a Python program to read an entire text file.\n"
   ]
  },
  {
   "cell_type": "code",
   "execution_count": 3,
   "id": "c7b0bc9a-edab-48a5-bb76-2feb4922e90b",
   "metadata": {},
   "outputs": [
    {
     "name": "stdout",
     "output_type": "stream",
     "text": [
      "ï»¿Sample Document\n",
      "\n",
      "Fusce convallis metus id felis luctus adipiscing. Pellentesque egestas, neque sit amet convallis pulvinar, justo nulla eleifend augue, ac auctor orci leo non est. Fusce vel dui. Sed augue ipsum, egestas nec, vestibulum et, malesuada adipiscing, dui. Phasellus viverra nulla ut metus varius laoreet.\n",
      "\n",
      "\n",
      "Nulla facilisi. Phasellus accumsan cursus velit. Curabitur at lacus ac velit ornare lobortis. Maecenas vestibulum mollis diam. Phasellus blandit leo ut odio.\n",
      "\n",
      "\n",
      "Praesent ac massa at ligula laoreet iaculis. Pellentesque dapibus hendrerit tortor. Nam commodo suscipit quam. Sed a libero. Nullam nulla eros, ultricies sit amet, nonummy id, imperdiet feugiat, pede.\n",
      "\n",
      "\n",
      "Pellentesque egestas, neque sit amet convallis pulvinar, justo nulla eleifend augue, ac auctor orci leo non est. Curabitur ullamcorper ultricies nisi. Pellentesque posuere. Fusce fermentum. Morbi vestibulum volutpat enim.\n",
      "\n",
      "\n",
      "In enim justo, rhoncus ut, imperdiet a, venenatis vitae, justo. Curabitur a felis in nunc fringilla tristique. Donec mollis hendrerit risus. Vestibulum turpis sem, aliquet eget, lobortis pellentesque, rutrum eu, nisl. Proin magna.this is new text line\n"
     ]
    }
   ],
   "source": [
    "filepath = 'sample-1.txt'\n",
    "try:\n",
    "    with open(filepath,'r') as file:\n",
    "        content =file.read()\n",
    "        print(content)\n",
    "except FileNotFoundError:\n",
    "    print(\"file not existed  \")\n",
    "    "
   ]
  },
  {
   "cell_type": "markdown",
   "id": "bf2bc56c-473f-4838-a2d7-2563b44e129d",
   "metadata": {},
   "source": [
    "### 2. Write a Python program to compute the number of characters, words and lines in a file. \n"
   ]
  },
  {
   "cell_type": "code",
   "execution_count": 5,
   "id": "25012944-59ab-4bd5-8cab-00af7d01ad98",
   "metadata": {},
   "outputs": [
    {
     "name": "stdout",
     "output_type": "stream",
     "text": [
      "Lines: 15\n",
      "Words: 163\n",
      "Characters: 1159\n"
     ]
    }
   ],
   "source": [
    "filepath = 'sample-1.txt'\n",
    "\n",
    "\n",
    "try:\n",
    "    with open(filepath, 'r') as file:\n",
    "        lines = file.readlines()\n",
    "            \n",
    "        num_lines = len(lines)\n",
    "        num_words = sum(len(line.split()) for line in lines)\n",
    "        num_chars = sum(len(line) for line in lines)\n",
    "            \n",
    "        print(f\"Lines: {num_lines}\")\n",
    "        print(f\"Words: {num_words}\")\n",
    "        print(f\"Characters: {num_chars}\")\n",
    "except FileNotFoundError:\n",
    "    print(f\"The file '{filename}' was not found.\")\n",
    "    "
   ]
  },
  {
   "cell_type": "markdown",
   "id": "c464c552-6706-4573-a95b-e7c37efaf1c7",
   "metadata": {},
   "source": [
    "#### 3. Write a Python script to print the current date in following format “Sun May 29 02:26:23 IST 2017”\n"
   ]
  },
  {
   "cell_type": "code",
   "execution_count": 36,
   "id": "0908e54f-0810-4613-9713-46e2b931956d",
   "metadata": {},
   "outputs": [
    {
     "name": "stdout",
     "output_type": "stream",
     "text": [
      "Sun May 18 11:43:30 IST 2025\n"
     ]
    }
   ],
   "source": [
    "from datetime import  time, datetime\n",
    "import pytz\n",
    "\n",
    "now = datetime.now(IST)\n",
    "\n",
    "IST = pytz.timezone('Asia/Kolkata')\n",
    "current_date = now.strftime(\"%a %b %d %H:%M:%S %Z %Y\")\n",
    "print(current_date)"
   ]
  },
  {
   "cell_type": "markdown",
   "id": "0be86f45-06ad-4471-8247-19a2c2bdc978",
   "metadata": {},
   "source": [
    "### SET B\n",
    "#### 1. Write a Python program to append text to a file and display the text."
   ]
  },
  {
   "cell_type": "code",
   "execution_count": 40,
   "id": "1daadddc-0cca-434e-bc0e-b9f2052fce39",
   "metadata": {},
   "outputs": [
    {
     "name": "stdin",
     "output_type": "stream",
     "text": [
      "Enter text to add to the file:  AI used for many applications too\n"
     ]
    },
    {
     "name": "stdout",
     "output_type": "stream",
     "text": [
      "Artificial Intelligence (AI) refers to the \n",
      "simulation of human intelligence in machines that are programmed to think, learn, and make decisions. AI enables computers and systems to perform tasks such as recognizing speech, understanding natural language, playing games, and even driving cars.AI used for many applications too\n",
      "\n"
     ]
    }
   ],
   "source": [
    "# Ask the user for the text to add\n",
    "text = input(\"Enter text to add to the file: \")\n",
    "\n",
    "# Open the file in append mode ('a'), create if it doesn't exist\n",
    "with open(\"Artificial Intelligence (AI) refers.txt\", \"a\") as file:\n",
    "    file.write(text + \"\\n\")  # Add a newline after the text\n",
    "\n",
    "# Open the file in read mode and show its contents\n",
    "with open(\"Artificial Intelligence (AI) refers.txt\", \"r\") as file:\n",
    "\n",
    "    print(file.read())"
   ]
  },
  {
   "cell_type": "markdown",
   "id": "28e3bbf0-0d90-46f0-a969-0abc7c88965f",
   "metadata": {},
   "source": [
    "#### 2. Write a Python program to print each line of a file in reverse order. \n"
   ]
  },
  {
   "cell_type": "code",
   "execution_count": 42,
   "id": "c6991d77-6754-4c84-aa87-c5a562d51240",
   "metadata": {},
   "outputs": [
    {
     "name": "stdout",
     "output_type": "stream",
     "text": [
      "Lines in reverse order:\n",
      "tnemucoD elpmaS¿»ï\n",
      "\n",
      ".teeroal suirav sutem tu allun arreviv sullesahP .iud ,gnicsipida adauselam ,te mulubitsev ,cen satsege ,muspi eugua deS .iud lev ecsuF .tse non oel icro rotcua ca ,eugua dnefiele allun otsuj ,ranivlup sillavnoc tema tis euqen ,satsege euqsetnelleP .gnicsipida sutcul silef di sutem sillavnoc ecsuF\n",
      "\n",
      "\n",
      ".oido tu oel tidnalb sullesahP .maid sillom mulubitsev saneceaM .sitrobol eranro tilev ca sucal ta rutibaruC .tilev susruc nasmucca sullesahP .isilicaf alluN\n",
      "\n",
      "\n",
      ".edep ,taiguef teidrepmi ,di ymmunon ,tema tis seicirtlu ,sore allun malluN .orebil a deS .mauq tipicsus odommoc maN .rotrot tirerdneh subipad euqsetnelleP .silucai teeroal alugil ta assam ca tnesearP\n",
      "\n",
      "\n",
      ".mine taptulov mulubitsev ibroM .mutnemref ecsuF .ereusop euqsetnelleP .isin seicirtlu reprocmallu rutibaruC .tse non oel icro rotcua ca ,eugua dnefiele allun otsuj ,ranivlup sillavnoc tema tis euqen ,satsege euqsetnelleP\n",
      "\n",
      "\n",
      "enil txet wen si siht.angam niorP .lsin ,ue murtur ,euqsetnellep sitrobol ,tege teuqila ,mes siprut mulubitseV .susir tirerdneh sillom cenoD .euqitsirt allignirf cnun ni silef a rutibaruC .otsuj ,eativ sitanenev ,a teidrepmi ,tu sucnohr ,otsuj mine nI\n"
     ]
    }
   ],
   "source": [
    "with open(\"sample-1.txt\", \"r\") as file:\n",
    "    # Read all lines from the file\n",
    "    lines = file.readlines()\n",
    "\n",
    "    print(\"Lines in reverse order:\")\n",
    "    for line in lines:\n",
    "        print(line.strip()[::-1])"
   ]
  },
  {
   "cell_type": "markdown",
   "id": "d84bd442-5ee9-4708-aaa6-9b75033da058",
   "metadata": {},
   "source": [
    "#### 3. Write a Python program to print date, time for today and now."
   ]
  },
  {
   "cell_type": "code",
   "execution_count": 44,
   "id": "07e04a2e-f019-4aaf-8924-e1bde78f14a5",
   "metadata": {},
   "outputs": [
    {
     "name": "stdout",
     "output_type": "stream",
     "text": [
      "Today's date : 2025-05-18\n",
      "Today's date : 11:45:29.374802\n",
      "Now: 2025-05-18 11:45:29.374802\n"
     ]
    }
   ],
   "source": [
    "from datetime import time, datetime\n",
    "\n",
    "now = datetime.now()\n",
    "print(\"Today's date :\", now.date())\n",
    "print(\"Today's date :\", now.time())\n",
    "print(\"Now:\", now)"
   ]
  },
  {
   "cell_type": "markdown",
   "id": "5d439dd0-45c8-4af3-a778-867c4c6c81ac",
   "metadata": {},
   "source": [
    "### PROGRAMS FOR PRACTICE:"
   ]
  },
  {
   "cell_type": "markdown",
   "id": "938d78f5-bd0c-451e-af30-56d8c9e4a086",
   "metadata": {},
   "source": [
    "#### 1. Write a Python program to read an entire text file. \n"
   ]
  },
  {
   "cell_type": "code",
   "execution_count": 48,
   "id": "736015d5-554a-4453-9542-f1ab9018f314",
   "metadata": {},
   "outputs": [
    {
     "name": "stdout",
     "output_type": "stream",
     "text": [
      "The environment encompasses all living and non-living things that interact and coexist on Earth.\n",
      "\n",
      "It includes natural elements such as air, water, soil, plants, and animals, which are essential for sustaining life.\n",
      "\n",
      "In recent years, human activities such as deforestation, pollution, and industrialization have significantly impacted the environment,\n",
      "\n",
      "leading to challenges like climate change, loss of biodiversity, and environmental degradation.\n",
      "\n",
      "Protecting the environment is crucial for maintaining ecological balance and ensuring a healthy planet for future generations.\n",
      "\n",
      "Through sustainable practices, conservation efforts, and environmental awareness,\n",
      "\n",
      "we can help preserve the Earth's natural resources and promote a greener, more sustainable world.\n"
     ]
    }
   ],
   "source": [
    "with open('The environment encompasses all liv.txt','r') as file:\n",
    "    content = file.read()\n",
    "    print(content)"
   ]
  },
  {
   "cell_type": "markdown",
   "id": "dfd2ade9-a73c-4931-be88-c3876855191e",
   "metadata": {},
   "source": [
    "#### 2. Write a Python program to read first n lines of a file. \n"
   ]
  },
  {
   "cell_type": "code",
   "execution_count": 51,
   "id": "2906b1e0-bdca-4d6f-8744-2312efa9ee25",
   "metadata": {},
   "outputs": [
    {
     "name": "stdout",
     "output_type": "stream",
     "text": [
      "The environment encompasses all living and non-living things that interact and coexist on Earth.\n",
      "\n",
      "It includes natural elements such as air, water, soil, plants, and animals, which are essential for sustaining life.\n"
     ]
    }
   ],
   "source": [
    "filepath = 'The environment encompasses all liv.txt'\n",
    "with open(filepath, 'r') as file:\n",
    "    n = 3\n",
    "    \n",
    "    lines = file.readlines()  # Read all lines into a list\n",
    "    first_lines = lines[:n]   # Get the last n lines\n",
    "    for line in first_lines:\n",
    "        print(line.strip())\n",
    "    "
   ]
  },
  {
   "cell_type": "markdown",
   "id": "f48dc3b5-689f-461c-b05c-6a0ccb65347b",
   "metadata": {},
   "source": [
    "#### 3. Write a Python program to append text to a file and display the text. \n"
   ]
  },
  {
   "cell_type": "code",
   "execution_count": 54,
   "id": "12173898-b7e8-46b6-bb3b-25ac122d21bd",
   "metadata": {},
   "outputs": [
    {
     "name": "stdin",
     "output_type": "stream",
     "text": [
      "Enter appended text:  Ensuring a healthy planet for future generations.\n"
     ]
    },
    {
     "name": "stdout",
     "output_type": "stream",
     "text": [
      "The environment encompasses all living and non-living things that interact and coexist on Earth.\n",
      "\n",
      "It includes natural elements such as air, water, soil, plants, and animals, which are essential for sustaining life.\n",
      "\n",
      "In recent years, human activities such as deforestation, pollution, and industrialization have significantly impacted the environment,\n",
      "\n",
      "leading to challenges like climate change, loss of biodiversity, and environmental degradation.\n",
      "\n",
      "Protecting the environment is crucial for maintaining ecological balance and ensuring a healthy planet for future generations.\n",
      "\n",
      "Through sustainable practices, conservation efforts, and environmental awareness,\n",
      "\n",
      "we can help preserve the Earth's natural resources and promote a greener, more sustainable world.Ensuring a healthy planet for future generations.\n"
     ]
    }
   ],
   "source": [
    "filepath = 'The environment encompasses all liv.txt'\n",
    "\n",
    "with open(filepath,'a') as file:\n",
    "    file.write(input(\"Enter appended text: \"))\n",
    "\n",
    "with open(filepath,'r') as file:\n",
    "    content = file.read()\n",
    "\n",
    "\n",
    "print(content)\n",
    "\n"
   ]
  },
  {
   "cell_type": "markdown",
   "id": "08375ae2-b49a-4f8c-9d67-a6fcd46ea6ca",
   "metadata": {},
   "source": [
    "#### 4. Write a Python program to read last n lines of a file. \n"
   ]
  },
  {
   "cell_type": "code",
   "execution_count": 56,
   "id": "c7dfb209-1fc2-4a2a-b237-0045eb85e535",
   "metadata": {},
   "outputs": [
    {
     "name": "stdout",
     "output_type": "stream",
     "text": [
      "we can help preserve the Earth's natural resources and promote a greener, more sustainable world.Ensuring a healthy planet for future generations.\n"
     ]
    }
   ],
   "source": [
    "filepath = 'The environment encompasses all liv.txt'\n",
    "with open(filepath, 'r') as file:\n",
    "    n = 1\n",
    "    \n",
    "    lines = file.readlines()  # Read all lines into a list\n",
    "    last_lines = lines[-n:]   # Get the last n lines\n",
    "    for line in last_lines:\n",
    "        print(line.strip())\n",
    "\n",
    "\n",
    "\n"
   ]
  },
  {
   "cell_type": "markdown",
   "id": "8a80b594-b0dc-4f33-a2fe-5ca649ef0e24",
   "metadata": {},
   "source": [
    "#### 5. Write a Python program to read a file line by line and store it into a list.\n"
   ]
  },
  {
   "cell_type": "code",
   "execution_count": 59,
   "id": "e1f6de01-97f6-47bc-a141-b8b32aba9e0c",
   "metadata": {},
   "outputs": [
    {
     "name": "stdout",
     "output_type": "stream",
     "text": [
      "['The environment encompasses all living and non-living things that interact and coexist on Earth.', '', 'It includes natural elements such as air, water, soil, plants, and animals, which are essential for sustaining life.', '', 'In recent years, human activities such as deforestation, pollution, and industrialization have significantly impacted the environment,', '', 'leading to challenges like climate change, loss of biodiversity, and environmental degradation.', '', 'Protecting the environment is crucial for maintaining ecological balance and ensuring a healthy planet for future generations.', '', 'Through sustainable practices, conservation efforts, and environmental awareness,', '', \"we can help preserve the Earth's natural resources and promote a greener, more sustainable world.Ensuring a healthy planet for future generations.\"]\n"
     ]
    }
   ],
   "source": [
    "filepath = 'The environment encompasses all liv.txt'\n",
    "with open(filepath, 'r') as file:\n",
    "    line = file.readline\n",
    "    list_line = []\n",
    "    for line in file:\n",
    "        list_line.append(line.strip()) \n",
    "        \n",
    "print(list_line)   \n"
   ]
  },
  {
   "cell_type": "markdown",
   "id": "0a3388ad-99f2-4773-94db-d2ab35509a72",
   "metadata": {},
   "source": [
    "#### 6. Write a Python program to read a file line by line store it into a variable. "
   ]
  },
  {
   "cell_type": "code",
   "execution_count": 62,
   "id": "35dd4aee-7350-49d7-9236-1eb55a61bd00",
   "metadata": {},
   "outputs": [
    {
     "name": "stdout",
     "output_type": "stream",
     "text": [
      "The environment encompasses all living and non-living things that interact and coexist on Earth.\n",
      "\n",
      "It includes natural elements such as air, water, soil, plants, and animals, which are essential for sustaining life.\n",
      "\n",
      "In recent years, human activities such as deforestation, pollution, and industrialization have significantly impacted the environment,\n",
      "\n",
      "leading to challenges like climate change, loss of biodiversity, and environmental degradation.\n",
      "\n",
      "Protecting the environment is crucial for maintaining ecological balance and ensuring a healthy planet for future generations.\n",
      "\n",
      "Through sustainable practices, conservation efforts, and environmental awareness,\n",
      "\n",
      "we can help preserve the Earth's natural resources and promote a greener, more sustainable world.Ensuring a healthy planet for future generations.\n"
     ]
    }
   ],
   "source": [
    "filepath = 'The environment encompasses all liv.txt'\n",
    "file_content = ''\n",
    "with open(filepath, 'r') as file:\n",
    "    for line in file:\n",
    "        file_content += line\n",
    "\n",
    "print(file_content)\n",
    "    "
   ]
  },
  {
   "cell_type": "markdown",
   "id": "8e732932-78b9-49e1-bf3a-6a8aa23fbfb7",
   "metadata": {},
   "source": [
    "\n",
    "#### 7. Write a Python program to read a file line by line store it into an array. \n"
   ]
  },
  {
   "cell_type": "code",
   "execution_count": 65,
   "id": "d8f6e1f9-7d29-4344-b162-b05f1be6d4c0",
   "metadata": {},
   "outputs": [
    {
     "name": "stdout",
     "output_type": "stream",
     "text": [
      "['The environment encompasses all living and non-living things that interact and coexist on Earth.', '', 'It includes natural elements such as air, water, soil, plants, and animals, which are essential for sustaining life.', '', 'In recent years, human activities such as deforestation, pollution, and industrialization have significantly impacted the environment,', '', 'leading to challenges like climate change, loss of biodiversity, and environmental degradation.', '', 'Protecting the environment is crucial for maintaining ecological balance and ensuring a healthy planet for future generations.', '', 'Through sustainable practices, conservation efforts, and environmental awareness,', '', \"we can help preserve the Earth's natural resources and promote a greener, more sustainable world.Ensuring a healthy planet for future generations.\"]\n"
     ]
    }
   ],
   "source": [
    "filepath = 'The environment encompasses all liv.txt'\n",
    "lines_array= []\n",
    "with open(filepath, 'r') as file:\n",
    "    for line in file:\n",
    "        lines_array.append(line.strip())\n",
    "print(lines_array)"
   ]
  },
  {
   "cell_type": "markdown",
   "id": "b4200221-568d-461e-8eed-d998f7e2e549",
   "metadata": {},
   "source": [
    "#### 1. Write a python program to find the longest words. \n"
   ]
  },
  {
   "cell_type": "code",
   "execution_count": 70,
   "id": "b79bc02a-6775-4c07-b3d6-4d1a25951751",
   "metadata": {},
   "outputs": [
    {
     "name": "stdout",
     "output_type": "stream",
     "text": [
      "17\n",
      "['industrialization']\n"
     ]
    }
   ],
   "source": [
    "filepath = 'The environment encompasses all liv.txt'\n",
    "with open(filepath, 'r') as file:\n",
    "    words = file.read().split()\n",
    "max_length= max(len(word) for word in words)\n",
    "longest_word = [word for word in words if len(word)==max_length]\n",
    "               \n",
    "print(max_length)\n",
    "print(longest_word)"
   ]
  },
  {
   "cell_type": "markdown",
   "id": "957e36ba-5bcd-499e-932d-192bda25cce7",
   "metadata": {},
   "source": [
    "#### 2. Write a Python program to count the number of lines in a text file. \n"
   ]
  },
  {
   "cell_type": "code",
   "execution_count": 73,
   "id": "7267ecec-4322-4579-bb12-69088354d9b3",
   "metadata": {},
   "outputs": [
    {
     "name": "stdout",
     "output_type": "stream",
     "text": [
      "Number of line in the file: 13\n"
     ]
    }
   ],
   "source": [
    "filename = 'The environment encompasses all liv.txt'\n",
    "with open(filename,'r')as file:\n",
    "    lines = file.readlines()\n",
    "    line_count = len(lines)\n",
    "    print(\"Number of line in the file:\", line_count)"
   ]
  },
  {
   "cell_type": "markdown",
   "id": "168907f9-4b08-4ee7-a318-258eb97df818",
   "metadata": {},
   "source": [
    "#### 3. Write a Python program to count the frequency of words in a file. \n"
   ]
  },
  {
   "cell_type": "code",
   "execution_count": 76,
   "id": "bf077885-2be5-4245-bee3-2a4c67171de4",
   "metadata": {},
   "outputs": [
    {
     "name": "stdout",
     "output_type": "stream",
     "text": [
      "The 1\n",
      "environment 2\n",
      "encompasses 1\n",
      "all 1\n",
      "living 1\n",
      "and 8\n",
      "non-living 1\n",
      "things 1\n",
      "that 1\n",
      "interact 1\n",
      "coexist 1\n",
      "on 1\n",
      "Earth. 1\n",
      "It 1\n",
      "includes 1\n",
      "natural 2\n",
      "elements 1\n",
      "such 2\n",
      "as 2\n",
      "air, 1\n",
      "water, 1\n",
      "soil, 1\n",
      "plants, 1\n",
      "animals, 1\n",
      "which 1\n",
      "are 1\n",
      "essential 1\n",
      "for 4\n",
      "sustaining 1\n",
      "life. 1\n",
      "In 1\n",
      "recent 1\n",
      "years, 1\n",
      "human 1\n",
      "activities 1\n",
      "deforestation, 1\n",
      "pollution, 1\n",
      "industrialization 1\n",
      "have 1\n",
      "significantly 1\n",
      "impacted 1\n",
      "the 3\n",
      "environment, 1\n",
      "leading 1\n",
      "to 1\n",
      "challenges 1\n",
      "like 1\n",
      "climate 1\n",
      "change, 1\n",
      "loss 1\n",
      "of 1\n",
      "biodiversity, 1\n",
      "environmental 2\n",
      "degradation. 1\n",
      "Protecting 1\n",
      "is 1\n",
      "crucial 1\n",
      "maintaining 1\n",
      "ecological 1\n",
      "balance 1\n",
      "ensuring 1\n",
      "a 3\n",
      "healthy 2\n",
      "planet 2\n",
      "future 2\n",
      "generations. 2\n",
      "Through 1\n",
      "sustainable 2\n",
      "practices, 1\n",
      "conservation 1\n",
      "efforts, 1\n",
      "awareness, 1\n",
      "we 1\n",
      "can 1\n",
      "help 1\n",
      "preserve 1\n",
      "Earth's 1\n",
      "resources 1\n",
      "promote 1\n",
      "greener, 1\n",
      "more 1\n",
      "world.Ensuring 1\n"
     ]
    }
   ],
   "source": [
    "from collections import Counter\n",
    "import string\n",
    "filename = 'The environment encompasses all liv.txt'\n",
    "with open (filename,'r') as file:\n",
    "    text = file.read().lower()\n",
    "    text = text.translate(str.maketrans('','', string.punctuation))\n",
    "    text = text.split()\n",
    "\n",
    "word_frequency = Counter(words)\n",
    "\n",
    "for word,freq_count in word_frequency.items():\n",
    "    print(word,freq_count)\n",
    "\n",
    "\n",
    "\n"
   ]
  },
  {
   "cell_type": "markdown",
   "id": "1becaf31-dc95-4c4d-84ac-a11edcc4827f",
   "metadata": {},
   "source": [
    "#### 4. Write a Python program to get the file size of a plain file. \n"
   ]
  },
  {
   "cell_type": "code",
   "execution_count": 79,
   "id": "7a66e016-8703-42be-a313-810b8411126f",
   "metadata": {},
   "outputs": [
    {
     "name": "stdout",
     "output_type": "stream",
     "text": [
      "file size is : 1173 bytes\n"
     ]
    }
   ],
   "source": [
    "import os\n",
    "file_size = os.path.getsize('sample-1.txt')\n",
    "print(\"file size is :\", file_size,\"bytes\")"
   ]
  },
  {
   "cell_type": "code",
   "execution_count": 81,
   "id": "2cf8b2a0-2a1a-49a3-b2c3-101ad87db851",
   "metadata": {},
   "outputs": [],
   "source": [
    "#### 5. Write a Python program to write a list to a file. \n"
   ]
  },
  {
   "cell_type": "code",
   "execution_count": 89,
   "id": "e9146148-2911-4113-9eed-ef55657c0e41",
   "metadata": {},
   "outputs": [
    {
     "name": "stdout",
     "output_type": "stream",
     "text": [
      "we have to contribute\n",
      "to make the environment healthy\n",
      "\n"
     ]
    }
   ],
   "source": [
    "lines = [\"we have to contribute\", \"to make the environment healthy\"]\n",
    "with open('environment.txt', 'w') as file:\n",
    "    for line in lines:\n",
    "        file.write(line+ '\\n')\n",
    "\n",
    "\n",
    "with open('environment.txt','r')as file:\n",
    "    content = file.read()\n",
    "\n",
    "print(content)"
   ]
  },
  {
   "cell_type": "markdown",
   "id": "70dd3ddf-178b-4729-b7a0-23df43012eeb",
   "metadata": {},
   "source": [
    "#### 6. Write a Python program to combine each line from first file with the corresponding line in second file. \n"
   ]
  },
  {
   "cell_type": "code",
   "execution_count": 106,
   "id": "66edfcf9-c83a-41c9-b27e-4fccdd027c6f",
   "metadata": {},
   "outputs": [
    {
     "name": "stdout",
     "output_type": "stream",
     "text": [
      "['Artificial Intelligence (AI) refers to the\\n', ' ï»¿Sample Documentsimulation of human intelligence in machines that are programmed to think, learn, and make decisions. AI enables computers and systems to perform tasks such as recognizing speech, understanding natural language, playing games, and even driving cars.AI used for many applications too']\n"
     ]
    }
   ],
   "source": [
    "file_path1 = 'Artificial Intelligence (AI) refers.txt'\n",
    "file_path2 = 'sample-1.txt'\n",
    "output_path = 'combined.txt'\n",
    "\n",
    "# Combine lines cleanly\n",
    "with open(file_path1, 'r') as file1, open(file_path2, 'r') as file2:\n",
    "    with open(output_path, 'w') as outfile:\n",
    "        for line1, line2 in zip(file1, file2):\n",
    "            line1 = line1.strip()\n",
    "            line2 = line2.strip()\n",
    "            if line1 or line2:  # Skip both blank lines\n",
    "                combined_line = f\"{line1}\\n {line2}\".strip()\n",
    "                outfile.write(combined_line)\n",
    "\n",
    "# Read and print cleaned output\n",
    "with open(output_path, 'r') as outfile:\n",
    "    combined = outfile.readlines()\n",
    "    print(combined)\n"
   ]
  },
  {
   "cell_type": "markdown",
   "id": "8aeae05c-5f7c-492a-9016-2e291902184c",
   "metadata": {},
   "source": [
    "#### 7. Write a Python program to remove newline characters from a file. \n"
   ]
  },
  {
   "cell_type": "code",
   "execution_count": 108,
   "id": "a7d6c802-fd86-4912-be95-1c3d24ceef68",
   "metadata": {},
   "outputs": [
    {
     "name": "stdout",
     "output_type": "stream",
     "text": [
      "Newline characters removed. Cleaned content saved to 'output.txt'.\n",
      "\n",
      "Protecting the environment is crucial for maintaining ecological balance.   Phasellus blandit leo ut odio.leading to challenges like climate change, loss of biodiversity, and environmental degradation.\n"
     ]
    }
   ],
   "source": [
    "input_file = \"input.txt\"\n",
    "output_file = \"output.txt\"\n",
    "\n",
    "with open(input_file, \"r\") as file:\n",
    "    content = file.read()\n",
    "\n",
    "cleaned_content = content.replace(\"\\n\", \" \")\n",
    "\n",
    "# Write the cleaned content to the output file\n",
    "with open(output_file, \"w\") as file:\n",
    "    file.write(cleaned_content)\n",
    "\n",
    "\n",
    "print(f\"Newline characters removed. Cleaned content saved to '{output_file}'.\\n\")\n",
    "\n",
    "\n",
    "with open (output_file,'r') as outputfile:\n",
    "    new_content = outputfile.read()\n",
    "\n",
    "print(new_content)"
   ]
  },
  {
   "cell_type": "markdown",
   "id": "3976cfbd-8580-4b53-91d2-5e0ac8c871b1",
   "metadata": {},
   "source": [
    "#### 8. Write a Python program that takes a text file as input and returns the number of words of a given text file. \n",
    "\n",
    "Note: Some words can be separated by a comma with no space."
   ]
  },
  {
   "cell_type": "code",
   "execution_count": 110,
   "id": "dadbd174-74e9-465a-8974-0cc8e7aa5171",
   "metadata": {},
   "outputs": [
    {
     "name": "stdout",
     "output_type": "stream",
     "text": [
      "Number of words in the file:  25\n"
     ]
    }
   ],
   "source": [
    "with open('input.txt','r') as file:\n",
    "    words = file.read().split()\n",
    "word_count = len(words)\n",
    "print(\"Number of words in the file: \", word_count)\n",
    "        \n",
    "    "
   ]
  },
  {
   "cell_type": "markdown",
   "id": "1729c046-72cc-4888-8ad5-a3856cbcc88c",
   "metadata": {},
   "source": [
    "#### 10. Write a python program to get Current Time\n"
   ]
  },
  {
   "cell_type": "code",
   "execution_count": 113,
   "id": "54f8f093-ad14-4cd0-9e81-f6988ad75945",
   "metadata": {},
   "outputs": [
    {
     "name": "stdout",
     "output_type": "stream",
     "text": [
      "Current time:  11:52:14\n"
     ]
    }
   ],
   "source": [
    "from datetime import time, datetime\n",
    "\n",
    "Now = datetime.now()\n",
    "current_time = Now.time()\n",
    "current_time = current_time.strftime(\"%H:%M:%S\")\n",
    "print(\"Current time: \", current_time)"
   ]
  },
  {
   "cell_type": "markdown",
   "id": "01392abc-d1b0-42dc-8a8a-27f35e783cb3",
   "metadata": {},
   "source": [
    "#### 11. Get Current Date and Time using Python\n"
   ]
  },
  {
   "cell_type": "code",
   "execution_count": 116,
   "id": "f4298894-66fe-42dd-8a35-9b75eab95b67",
   "metadata": {},
   "outputs": [
    {
     "name": "stdout",
     "output_type": "stream",
     "text": [
      "Current date and time:  2025-05-18 11:52:15\n"
     ]
    }
   ],
   "source": [
    "from datetime import time, datetime\n",
    "Now = datetime.now()\n",
    "current_date = Now.date()\n",
    "current_time = Now.strftime(\"%H:%M:%S\")\n",
    "\n",
    "print(\"Current date and time: \", current_date,current_time)"
   ]
  },
  {
   "cell_type": "markdown",
   "id": "a90b4025-075d-4ec3-894a-3715e7fdb628",
   "metadata": {},
   "source": [
    "#### 12. Write a python | Find yesterday’s, today’s and tomorrow’s date\n"
   ]
  },
  {
   "cell_type": "code",
   "execution_count": 119,
   "id": "be28f8dd-a357-452d-9dd1-82be0dab939f",
   "metadata": {},
   "outputs": [
    {
     "name": "stdout",
     "output_type": "stream",
     "text": [
      "Yesterday's date:  2025-05-17\n",
      "Today's date:  2025-05-18\n",
      "Tomorrow's date:  2025-05-19\n"
     ]
    }
   ],
   "source": [
    "from datetime import datetime, timedelta\n",
    "\n",
    "today = datetime.today().date()\n",
    "yesterday = today - timedelta(days=1)\n",
    "tomorrow = today + timedelta(days=1)\n",
    "\n",
    "print(\"Yesterday's date: \", yesterday)\n",
    "print(\"Today's date: \", today)\n",
    "print(\"Tomorrow's date: \", tomorrow)\n"
   ]
  },
  {
   "cell_type": "markdown",
   "id": "20569477-77d3-42be-86a3-691c27b187e3",
   "metadata": {},
   "source": [
    "#### 13. Write a python program to convert time from 12 hour to 24 hour format\n"
   ]
  },
  {
   "cell_type": "code",
   "execution_count": 122,
   "id": "c3c16c78-6709-4a4c-b691-793270c14efc",
   "metadata": {},
   "outputs": [
    {
     "name": "stdout",
     "output_type": "stream",
     "text": [
      "Time convert from 12hr to 24hr:  14:15\n"
     ]
    }
   ],
   "source": [
    "from datetime import datetime, time\n",
    "\n",
    "time_12hr = (\"02:15 pm\")\n",
    "time_object = datetime.strptime(time_12hr, \"%I:%M %p\")\n",
    "time_24hr = datetime.strftime(time_object,\"%H:%M\")\n",
    "print(\"Time convert from 12hr to 24hr: \", time_24hr)"
   ]
  },
  {
   "cell_type": "markdown",
   "id": "8e3c2dbc-eb57-4692-8eb4-1984a048ca74",
   "metadata": {},
   "source": [
    "####  14. Write a python program to find difference between current time and given time\n"
   ]
  },
  {
   "cell_type": "code",
   "execution_count": 127,
   "id": "9022a9f4-e3c4-43bd-a5d3-4dc4db6bdf16",
   "metadata": {},
   "outputs": [
    {
     "name": "stdin",
     "output_type": "stream",
     "text": [
      "Enter time in this format(HH:MM:SS):  09:20:00\n"
     ]
    },
    {
     "name": "stdout",
     "output_type": "stream",
     "text": [
      "current time:  11:53:13.107996\n",
      "Given time:  09:20:00\n",
      "Difference between current time and given time:  2:33:13.107996\n"
     ]
    }
   ],
   "source": [
    "from datetime import datetime, time\n",
    "Input_time = input(\"Enter time in this format(HH:MM:SS): \")\n",
    "now = datetime.now()\n",
    "given_time = datetime.strptime(Input_time, \"%H:%M:%S\").replace(year= now.year, month=now.month, day=now.day)\n",
    "\n",
    "#Difference = Current_time. - Given_time\n",
    "time_difference = now-given_time\n",
    "\n",
    "print(\"current time: \", now.time())\n",
    "print(\"Given time: \", given_time.time())\n",
    "print(\"Difference between current time and given time: \", time_difference)\n"
   ]
  },
  {
   "cell_type": "markdown",
   "id": "f0c9218c-df7e-42f6-84c0-0ff3799bbce0",
   "metadata": {},
   "source": [
    "#### 15. Write a python Program to Create a Lap Timer\n"
   ]
  },
  {
   "cell_type": "code",
   "execution_count": 129,
   "id": "39966357-d7a6-4c71-a69e-b5153281e768",
   "metadata": {},
   "outputs": [
    {
     "name": "stdout",
     "output_type": "stream",
     "text": [
      "Lap Timer\n",
      "Press ENTER to start...\n"
     ]
    },
    {
     "name": "stdin",
     "output_type": "stream",
     "text": [
      " start\n"
     ]
    },
    {
     "name": "stdout",
     "output_type": "stream",
     "text": [
      "Timer started. Press ENTER to record a lap or type 'stop' to end.\n"
     ]
    },
    {
     "name": "stdin",
     "output_type": "stream",
     "text": [
      " now\n"
     ]
    },
    {
     "name": "stdout",
     "output_type": "stream",
     "text": [
      "lap 1: 5.12 sec (Total time: 5.12 sec)\n"
     ]
    },
    {
     "name": "stdin",
     "output_type": "stream",
     "text": [
      " now\n"
     ]
    },
    {
     "name": "stdout",
     "output_type": "stream",
     "text": [
      "lap 1: 3.09 sec (Total time: 8.21 sec)\n"
     ]
    },
    {
     "name": "stdin",
     "output_type": "stream",
     "text": [
      " stop\n"
     ]
    },
    {
     "name": "stdout",
     "output_type": "stream",
     "text": [
      "Time stopped\n"
     ]
    }
   ],
   "source": [
    "import  time\n",
    "\n",
    "print(\"Lap Timer\")\n",
    "print(\"Press ENTER to start...\")\n",
    "input()\n",
    "\n",
    "print(\"Timer started. Press ENTER to record a lap or type 'stop' to end.\")\n",
    "\n",
    "\n",
    "Start_time = time.time()\n",
    "last_lap_time = Start_time\n",
    "\n",
    "lap_num = 1\n",
    "\n",
    "while True:\n",
    "    user_input = input()\n",
    "    if user_input.lower() == 'stop':\n",
    "        print('Time stopped')\n",
    "        break\n",
    "\n",
    "    current_time = time.time()\n",
    "    lap_time= round(current_time - last_lap_time,2)\n",
    "    Total_time = round(current_time- Start_time,2)\n",
    "    print(f\"lap {lap_num}: {lap_time} sec (Total time: {Total_time} sec)\")\n",
    "    last_lap_time = current_time\n",
    "    lap_time+=1"
   ]
  },
  {
   "cell_type": "markdown",
   "id": "3461124e-1e15-480b-ab56-4fb8547a63d6",
   "metadata": {},
   "source": [
    "#### 16. Convert date string to timestamp in Python"
   ]
  },
  {
   "cell_type": "code",
   "execution_count": 152,
   "id": "59f2e852-95a3-4300-9546-0b6f4db51b70",
   "metadata": {},
   "outputs": [
    {
     "name": "stdout",
     "output_type": "stream",
     "text": [
      "string convert to timestamp: 2025-11-20 00:00:00\n"
     ]
    }
   ],
   "source": [
    "from datetime import datetime\n",
    "\n",
    "date = \"20251120\"\n",
    "timestamp = datetime.strptime(date,\"%Y%m%d\")\n",
    "print(\"string convert to timestamp:\", timestamp)\n",
    "\n",
    "\n",
    "\n"
   ]
  },
  {
   "cell_type": "markdown",
   "id": "6f9fa758-ebbf-4eb7-ac09-7eafe4dd5724",
   "metadata": {},
   "source": [
    "#### 17. Find number of times every day occurs in a Year"
   ]
  },
  {
   "cell_type": "code",
   "execution_count": 203,
   "id": "dd7a3f7d-8b73-4f95-96f6-0e7af9ccbcda",
   "metadata": {},
   "outputs": [
    {
     "name": "stdout",
     "output_type": "stream",
     "text": [
      "Monday : 52 times\n",
      "Tuesday : 52 times\n",
      "Wednesday : 53 times\n",
      "Thursday : 52 times\n",
      "Friday : 52 times\n",
      "Saturday : 52 times\n",
      "Sunday : 52 times\n"
     ]
    }
   ],
   "source": [
    "import datetime\n",
    "\n",
    "def count_num_weekdays(year):\n",
    "    days_count = {\n",
    "        'Monday': 0,\n",
    "        'Tuesday': 0,\n",
    "        'Wednesday': 0,\n",
    "        'Thursday': 0,\n",
    "        'Friday': 0,\n",
    "        'Saturday': 0,\n",
    "        'Sunday':0\n",
    "    }\n",
    "    \n",
    "    for month in range (1,13):\n",
    "         for day in range (1,32):\n",
    "             try:\n",
    "                 date = datetime.date(year, month, day)\n",
    "                 week_name = date.strftime(\"%A\")\n",
    "                 days_count[week_name]+=1\n",
    "             except:\n",
    "                continue\n",
    "    for day,count in days_count.items():\n",
    "         print(day,':',count, \"times\")\n",
    "\n",
    "\n",
    "count_num_weekdays(2025)"
   ]
  },
  {
   "cell_type": "code",
   "execution_count": null,
   "id": "24ce2a2f-6765-4e53-a159-c6d78eb65910",
   "metadata": {},
   "outputs": [],
   "source": []
  },
  {
   "cell_type": "code",
   "execution_count": null,
   "id": "f384908e-294f-4d0c-8f12-a3f3581cf5df",
   "metadata": {},
   "outputs": [],
   "source": []
  }
 ],
 "metadata": {
  "kernelspec": {
   "display_name": "Python [conda env:base] *",
   "language": "python",
   "name": "conda-base-py"
  },
  "language_info": {
   "codemirror_mode": {
    "name": "ipython",
    "version": 3
   },
   "file_extension": ".py",
   "mimetype": "text/x-python",
   "name": "python",
   "nbconvert_exporter": "python",
   "pygments_lexer": "ipython3",
   "version": "3.12.7"
  }
 },
 "nbformat": 4,
 "nbformat_minor": 5
}
