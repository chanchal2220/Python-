{
 "cells": [
  {
   "cell_type": "markdown",
   "id": "406b4c43-f419-4346-9a97-5045f55937e5",
   "metadata": {},
   "source": [
    "### 1.\tWrite a Python program to remove the characters which have odd index values of a given string\n"
   ]
  },
  {
   "cell_type": "code",
   "execution_count": 65,
   "id": "4b230bcd-ad25-4c5d-977f-c3b0372c7e3f",
   "metadata": {},
   "outputs": [
    {
     "name": "stdin",
     "output_type": "stream",
     "text": [
      "ENTER a string:  characters\n"
     ]
    },
    {
     "name": "stdout",
     "output_type": "stream",
     "text": [
      "caatr\n"
     ]
    }
   ],
   "source": [
    "def remove_odd_char(s):\n",
    "    \n",
    "    result = \"\"\n",
    "    for i in range(len(s)):\n",
    "        if i%2==0:\n",
    "            result+=s[i]\n",
    "    return result\n",
    "    \n",
    "\n",
    "user_input= input(\"ENTER a string: \")\n",
    "Output= remove_odd_char(user_input)\n",
    "print(Output)"
   ]
  },
  {
   "cell_type": "markdown",
   "id": "301af4a3-b09b-426e-9f10-2cdeafbb854e",
   "metadata": {},
   "source": [
    "### 2.\tWrite a Python program to count the number of strings where the string length is 2 or more and the first and last character are same from a given list of strings.\n"
   ]
  },
  {
   "cell_type": "code",
   "execution_count": 139,
   "id": "a188376f-b80f-4f71-a661-9bafd3946d0b",
   "metadata": {},
   "outputs": [
    {
     "name": "stdout",
     "output_type": "stream",
     "text": [
      "Number of matching strings: 3\n"
     ]
    }
   ],
   "source": [
    "def count_number_of_str(words):\n",
    "    Count= 0\n",
    "    for word in words:\n",
    "        if len(word) >=2 and word[0]==word[-1]:\n",
    "            Count+=1\n",
    "    return Count\n",
    "    \n",
    "    \n",
    "string_list = ['1221', 'test', 'Good', 'springs','a']\n",
    "Output = count_number_of_str(string_list )\n",
    "print(\"Number of matching strings:\", Output) "
   ]
  },
  {
   "cell_type": "markdown",
   "id": "264cacdb-028d-41a2-a103-c0a8c011aab5",
   "metadata": {},
   "source": [
    "### 3.\tWrite a Python program to test whether a number is within 100 of 1000 or 2000\n"
   ]
  },
  {
   "cell_type": "code",
   "execution_count": 155,
   "id": "f69b3f77-738b-4159-9f64-4ab1a496220b",
   "metadata": {},
   "outputs": [
    {
     "name": "stdin",
     "output_type": "stream",
     "text": [
      "Enter a number:  1950\n"
     ]
    },
    {
     "name": "stdout",
     "output_type": "stream",
     "text": [
      "The number is within 100 of 1000 and 2000\n"
     ]
    }
   ],
   "source": [
    "def is_within_100(n):\n",
    "    return (abs(1000-n) <= 100) or (abs(2000-n)<=100)\n",
    "\n",
    "num= int(input(\"Enter a number: \"))\n",
    "if is_within_100(num):\n",
    "    print(\"The number is within 100 of 1000 and 2000\")\n",
    "else:\n",
    "     print(\"The number is Not within 100 of 1000 and 2000\")\n",
    "\n"
   ]
  },
  {
   "cell_type": "markdown",
   "id": "a9247643-48c6-4054-9df2-5a3b5b78dad5",
   "metadata": {},
   "source": [
    "### 4.\tWrite a Python program that determines whether a given number (accepted from the user) is even or odd, and prints an appropriate message to the user."
   ]
  },
  {
   "cell_type": "code",
   "execution_count": 170,
   "id": "8f71fa84-f54e-4c38-9bf0-a9488aaef1eb",
   "metadata": {},
   "outputs": [
    {
     "name": "stdin",
     "output_type": "stream",
     "text": [
      "Enter a number:  45\n"
     ]
    },
    {
     "name": "stdout",
     "output_type": "stream",
     "text": [
      "The number 45 is Odd. \n"
     ]
    }
   ],
   "source": [
    "def Odd_or_Even (num):\n",
    "    if num%2==0:\n",
    "        print(\"The number\", num ,\"is even. \")\n",
    "    else:\n",
    "        print(\"The number\", num, \"is Odd. \")\n",
    "        \n",
    "num = int(input(\"Enter a number: \"))\n",
    "Odd_or_Even(num)"
   ]
  },
  {
   "cell_type": "markdown",
   "id": "177a8d85-c523-401c-b23e-aee6353330c2",
   "metadata": {},
   "source": [
    "### 5.\tWrite a Python program to test whether a passed letter is a vowel or not"
   ]
  },
  {
   "cell_type": "code",
   "execution_count": 208,
   "id": "36abf861-1860-4ad8-8f65-308daca77c71",
   "metadata": {},
   "outputs": [
    {
     "name": "stdin",
     "output_type": "stream",
     "text": [
      "Enter a letter:  A\n"
     ]
    },
    {
     "name": "stdout",
     "output_type": "stream",
     "text": [
      "Passed letter is vowel\n"
     ]
    }
   ],
   "source": [
    "def Check_vowel (letter):\n",
    "    vowels = \"aeiou\"\n",
    "    if letter in vowels:\n",
    "        print(\"Passed letter is vowel\")\n",
    "    else:\n",
    "        print(\"Passed letter isn't vowel\")\n",
    "\n",
    "letter = input(\"Enter a letter: \").lower()\n",
    "\n",
    "Check_vowel(letter)"
   ]
  },
  {
   "cell_type": "markdown",
   "id": "98ba80e1-6930-4ad6-8662-7d738c0112a9",
   "metadata": {},
   "source": [
    "6.\tWrite a program that takes percentage mark for a test from users and tells them which class they have received (distinction, merit, pass or fail). Given below are the range of percentages and the class a user will get for that range\n",
    "\n",
    "  A mark of 70% and above is awarded a distinction.\n",
    "  \n",
    "  A mark in the range of 60% through to 69% is awarded a merit.\n",
    "  \n",
    "  A mark in the range of 40% through to 59% is awarded a pass.\n",
    "  \n",
    "  Marks less than 40% are awarded a fail\t\n",
    "  \n",
    "  Eg : input: marks = 67% \t\tOutput: Merit\n",
    "  \n",
    "                    input: marks = 35% \tOutput: Fail"
   ]
  },
  {
   "cell_type": "code",
   "execution_count": 309,
   "id": "5107ee31-1c1e-4d82-8001-e587a465474d",
   "metadata": {},
   "outputs": [
    {
     "name": "stdin",
     "output_type": "stream",
     "text": [
      "Enter marks in % (marks in ):  62\n"
     ]
    },
    {
     "name": "stdout",
     "output_type": "stream",
     "text": [
      "Merit\n"
     ]
    }
   ],
   "source": [
    "def Result (marks):\n",
    "    if marks < 0 or marks > 100:\n",
    "        print(\"Please enter a valid percentage between 0 and 100\")\n",
    "    elif marks >= 70:\n",
    "        print (\"Distinction\")\n",
    "    elif marks >= 60 and marks<70 :\n",
    "        print (\"Merit\")\n",
    "    elif marks >= 40 and marks<60:\n",
    "        print (\"Pass\")\n",
    "    elif marks <40:\n",
    "        print (\"Fail\")\n",
    "    \n",
    "\n",
    "\n",
    "\n",
    "\n",
    "marks = float(input(\"Enter marks in % (marks in ): \"))\n",
    "output= Result(marks)\n",
    "\n",
    "        \n",
    "    \n",
    "    "
   ]
  },
  {
   "cell_type": "markdown",
   "id": "628d7ef4-5560-4cba-89c7-8f30228ef4c7",
   "metadata": {},
   "source": [
    "### 7.\tPython program to check whether the given integer is a multiple of 5\n"
   ]
  },
  {
   "cell_type": "code",
   "execution_count": 327,
   "id": "708810ae-5cbf-461a-b178-dd9198584b9c",
   "metadata": {},
   "outputs": [
    {
     "name": "stdin",
     "output_type": "stream",
     "text": [
      "Enter a number:  55\n"
     ]
    },
    {
     "name": "stdout",
     "output_type": "stream",
     "text": [
      "Given number is a multipe of 5: \n"
     ]
    }
   ],
   "source": [
    "def Check_Multiple (num):\n",
    "    if num%5==0:\n",
    "        print(\"Given number is a multipe of 5: \")\n",
    "    else:\n",
    "        print(\"Given number is not a multipe of 5: \")\n",
    "\n",
    "num = int(input(\"Enter a number: \"))\n",
    "Check_Multiple(num)\n",
    "    "
   ]
  },
  {
   "cell_type": "markdown",
   "id": "8cd08776-d6f8-45fd-be7a-7d0c036ba2e4",
   "metadata": {},
   "source": [
    "### 8.\tWrite a Python program that inputs a number and generates an error message if it is not a number.\n"
   ]
  },
  {
   "cell_type": "code",
   "execution_count": 344,
   "id": "ddea5c33-152a-41ca-a435-2dec21af4d8a",
   "metadata": {},
   "outputs": [
    {
     "name": "stdin",
     "output_type": "stream",
     "text": [
      "Enter input s\n"
     ]
    },
    {
     "name": "stdout",
     "output_type": "stream",
     "text": [
      "Value Error: Please enter a valid number\n"
     ]
    }
   ],
   "source": [
    "try:\n",
    "    num= float(input(\"Enter input\"))\n",
    "except ValueError:\n",
    "    print(\"Value Error: Please enter a valid number\")\n",
    "\n",
    "    \n",
    "    \n",
    "\n",
    "    \n",
    "    \n",
    "    \n",
    " "
   ]
  },
  {
   "cell_type": "markdown",
   "id": "8d94e4ac-5db5-4e13-aa21-521c574b88af",
   "metadata": {},
   "source": [
    "### 9.\tWrite a program to find whether a given year is a leap year or not.\n"
   ]
  },
  {
   "cell_type": "code",
   "execution_count": 365,
   "id": "d0bbd9ff-ba9e-4d7c-8aed-c4857f51b4b5",
   "metadata": {},
   "outputs": [
    {
     "name": "stdin",
     "output_type": "stream",
     "text": [
      "Enter a Year:  1950\n"
     ]
    },
    {
     "name": "stdout",
     "output_type": "stream",
     "text": [
      "This is not a leap year\n"
     ]
    }
   ],
   "source": [
    "def LeapYear (Year):\n",
    "    if (Year%4 == 0 and Year%100!=0) or (Year%400 ==0):\n",
    "        print (\"This is a leap year\")\n",
    "    else:\n",
    "        print (\"This is not a leap year\")\n",
    "\n",
    "\n",
    "Year= int(input(\"Enter a Year: \"))\n",
    "LeapYear(Year)\n",
    "        "
   ]
  },
  {
   "cell_type": "markdown",
   "id": "3aaf9d7e-6ffa-42b3-bb6e-e0f38eef76fa",
   "metadata": {},
   "source": [
    "### 10.\tWrite a program to check the greatest number out of three given numbers.\n"
   ]
  },
  {
   "cell_type": "code",
   "execution_count": 381,
   "id": "6df9aaee-455c-4906-bb04-866f413a393f",
   "metadata": {},
   "outputs": [
    {
     "name": "stdin",
     "output_type": "stream",
     "text": [
      "Enter number:  32\n",
      "Enter number:  19\n",
      "Enter number:  32.2\n"
     ]
    },
    {
     "name": "stdout",
     "output_type": "stream",
     "text": [
      "Greatest number out of three given number:  32.2\n"
     ]
    }
   ],
   "source": [
    "def Greatest_num (num1,num2,num3):\n",
    "    if num1>num2 and num1>num3:\n",
    "        print (\"Greatest number out of three given number: \", num1)\n",
    "    elif num2>num1 and  num2>num3:\n",
    "        print (\"Greatest number out of three given number: \", num2)\n",
    "    else:\n",
    "        print (\"Greatest number out of three given number: \", num3)\n",
    "try:\n",
    "    num1= float(input(\"Enter number: \"))\n",
    "    num2= float(input(\"Enter number: \"))\n",
    "    num3= float(input(\"Enter number: \"))\n",
    "    Greatest_num(num1,num2,num3)\n",
    "except ValueError:\n",
    "    print(\"Value error: Please enter a numeric value\" )\n",
    "\n"
   ]
  },
  {
   "cell_type": "markdown",
   "id": "7433d8b9-6e04-47de-9c9d-5b63fb89731b",
   "metadata": {},
   "source": [
    "### 11.\tWrite a program to read any day in integer and display the day name in words\n"
   ]
  },
  {
   "cell_type": "code",
   "execution_count": 406,
   "id": "dbbf0dff-119c-44b7-91e9-86189fa6ebca",
   "metadata": {},
   "outputs": [
    {
     "name": "stdin",
     "output_type": "stream",
     "text": [
      "enter number of day:  3\n"
     ]
    },
    {
     "name": "stdout",
     "output_type": "stream",
     "text": [
      "Day:  Wednesday\n"
     ]
    }
   ],
   "source": [
    "def get_dayname (day_num):\n",
    "    days= {\n",
    "        1: \"Monday\",\n",
    "        2: \"Tuesday\",\n",
    "        3: \"Wednesday\",\n",
    "        4: \"Thursday\",\n",
    "        5: \"Friday\",\n",
    "        6: \"Saturday\",\n",
    "        7: \"Sunday\"\n",
    "    }\n",
    "    return days.get(day_num, \"Invalid no: Please enter num between 1 and 7\")\n",
    "\n",
    "\n",
    "try:\n",
    "    day_num = int(input(\"enter number of day: \"))\n",
    "    print(\"Day: \", get_dayname(day_num))\n",
    "\n",
    "except ValueError:\n",
    "    print(\"Value Error: please enter a valid integer number between 1 and 7\")"
   ]
  },
  {
   "cell_type": "markdown",
   "id": "d705e07e-10d8-405b-a926-a557b8242052",
   "metadata": {},
   "source": [
    "### 12.\tWrite a program to read any month number in integer and display the number of days for this month.\n"
   ]
  },
  {
   "cell_type": "code",
   "execution_count": 421,
   "id": "ca6ed933-ecba-421c-a9a3-076da9a17ebc",
   "metadata": {},
   "outputs": [
    {
     "name": "stdin",
     "output_type": "stream",
     "text": [
      "Enter a month number (1 to 12):  4\n"
     ]
    },
    {
     "name": "stdout",
     "output_type": "stream",
     "text": [
      "30 days in this month.\n"
     ]
    }
   ],
   "source": [
    "def Month_daynumber(month):\n",
    "    months_31 = [1, 3, 5, 7, 8, 10, 12]\n",
    "    \n",
    "    if month in months_31:\n",
    "        return \"31 days in this month.\"\n",
    "    elif month == 2:\n",
    "        return \"28 days in this month.\"\n",
    "    elif 1 <= month <= 12:\n",
    "        return \"30 days in this month.\"\n",
    "    else:\n",
    "        return \"Invalid month. Please enter a number between 1 and 12.\"\n",
    "\n",
    "\n",
    "try:\n",
    "    month = int(input(\"Enter a month number (1 to 12): \"))\n",
    "    output = Month_daynumber(month)\n",
    "    print(output)\n",
    "except ValueError:\n",
    "    print(\"ValueError: Please enter a valid integer between 1 and 12.\")"
   ]
  },
  {
   "cell_type": "markdown",
   "id": "1cc877c4-3519-4913-8c0c-6471ae3a8464",
   "metadata": {},
   "source": [
    "### 13.\tWrite a menu-driven program to perform a simple calculation\n"
   ]
  },
  {
   "cell_type": "code",
   "execution_count": 487,
   "id": "c76f1890-c9d5-476e-8f3f-b7cbcffcd06f",
   "metadata": {},
   "outputs": [
    {
     "name": "stdout",
     "output_type": "stream",
     "text": [
      "******Simple Calculation*******\n",
      "1. Addition\n",
      "2. Substraction\n",
      "3. Divide\n",
      "4. Multiply\n",
      "5. Exit\n"
     ]
    },
    {
     "name": "stdin",
     "output_type": "stream",
     "text": [
      "Enter your choice (1-5) 2\n"
     ]
    },
    {
     "name": "stdout",
     "output_type": "stream",
     "text": [
      "Result:, 32.0 - 19.0 = 13.0\n",
      "******Simple Calculation*******\n",
      "1. Addition\n",
      "2. Substraction\n",
      "3. Divide\n",
      "4. Multiply\n",
      "5. Exit\n"
     ]
    },
    {
     "name": "stdin",
     "output_type": "stream",
     "text": [
      "Enter your choice (1-5) 5\n"
     ]
    },
    {
     "name": "stdout",
     "output_type": "stream",
     "text": [
      "Existing the calculator\n"
     ]
    }
   ],
   "source": [
    "def calculation():\n",
    "    while True:\n",
    "        print(\"******Simple Calculation*******\")\n",
    "        print(\"1. Addition\")\n",
    "        print(\"2. Substraction\")\n",
    "        print(\"3. Divide\")\n",
    "        print(\"4. Multiply\")\n",
    "        print(\"5. Exit\")\n",
    "        try:\n",
    "            choice = int(input (\"Enter your choice (1-5)\"))\n",
    "            \n",
    "            if choice ==5:\n",
    "                print(\"Existing the calculator\")\n",
    "                break\n",
    "\n",
    "            \n",
    "            if choice ==1:\n",
    "                print(f\"Result:, {num1} + {num2} = {num1+num2}\")\n",
    "            elif choice ==2:\n",
    "                print(f\"Result:, {num1} - {num2} = {num1-num2}\")\n",
    "            elif choice ==4:\n",
    "                print(f\"Result:, {num1} * {num2} = {num1*num2}\")\n",
    "            elif choice ==3:\n",
    "                if num2 ==0:\n",
    "                    print(\"Error: Division by zero is not allowed.\")\n",
    "                else:\n",
    "                    print(f\"Result:, {num1} / {num2} = {num1/num2}\")\n",
    "            else:\n",
    "                print(\"print valid choice between 1 and 5\")\n",
    "        except ValueError:\n",
    "            print(\"ValueErroe: please enter valid numeric number\")\n",
    "                    \n",
    "\n",
    "\n",
    "        \n",
    "calculation()\n"
   ]
  },
  {
   "cell_type": "markdown",
   "id": "416d0152-534f-4137-89f0-9579c0f07fd8",
   "metadata": {},
   "source": [
    "### 14.\tWrite a program to calculate the amount payable after deducting the discount on the purchase amount.\n",
    "    Discounts are as follows:\n",
    "    Purchase amount >=8,000;\n",
    "    Discount=10% on the purchase amount\n",
    "    Purchase amount >=5,000;\n",
    "    Discount =8% on the purchase amount Purchase amount >=1,000;\n",
    "    Discount =4% on the purchase amount Otherwise;\n",
    "    Discount = Rs. 100"
   ]
  },
  {
   "cell_type": "code",
   "execution_count": 469,
   "id": "931b1424-8639-4195-b52d-5c0858f2a13b",
   "metadata": {},
   "outputs": [
    {
     "name": "stdin",
     "output_type": "stream",
     "text": [
      "Enter Purchase Amount:  6000\n"
     ]
    },
    {
     "name": "stdout",
     "output_type": "stream",
     "text": [
      "Discount applied:  480.00\n",
      "Amount payable after discount:  5520.00\n"
     ]
    }
   ],
   "source": [
    "def amount_payable (amount):\n",
    "    if amount>= 8000:\n",
    "        discount = amount*0.10\n",
    "    elif amount >=5000:\n",
    "       discount = amount*0.08\n",
    "    elif amount >=1000:\n",
    "        discount = amount*0.08\n",
    "    else:\n",
    "        discount= 100\n",
    "    final_amount= amount-discount\n",
    "    return final_amount, discount\n",
    "\n",
    "try:\n",
    "    Purchase_amount = float(input(\"Enter Purchase Amount: \"))\n",
    "    payable,discount_applied = amount_payable(Purchase_amount)\n",
    "\n",
    "    \n",
    "    print(f\"Discount applied:  {discount_applied:.2f}\")\n",
    "    print(f\"Amount payable after discount:  {payable:.2f}\")\n",
    "    \n",
    "except ValueError:\n",
    "    print(\"ValueError: Please enter valid numeric amount  \")\n",
    "    \n",
    "\n",
    "\n",
    "                        "
   ]
  },
  {
   "cell_type": "markdown",
   "id": "1bfd7769-bfc5-484e-b222-b68427a4b311",
   "metadata": {},
   "source": [
    "\n",
    "15.\tWrite a program to calculate the total salary after giving HRA, DA, and TA with the basic salary.\n",
    "\n",
    "         HRA, DA, and TA should be calculated as follows:\n",
    "         Basic salary > =10,000 HRA=8%, DA=7%, TA= 8%\n",
    "         Basic salary > =5,000 HRA=6%, DA=5%, TA= 7%\n",
    "         Otherwise HRA=5%, DA=5%, TA= 7%\n"
   ]
  },
  {
   "cell_type": "code",
   "execution_count": 481,
   "id": "d1a9319c-df58-41b2-98a7-84e71d6dee2b",
   "metadata": {},
   "outputs": [
    {
     "name": "stdin",
     "output_type": "stream",
     "text": [
      "Enter basic salary amount:  17000\n"
     ]
    },
    {
     "name": "stdout",
     "output_type": "stream",
     "text": [
      "Basic Salary:  17000.0\n",
      "HRA:  1360.00\n",
      "DA:  1190.00\n",
      "TA:  1360.00\n",
      "Total Salary after calculation:  20910.00\n"
     ]
    }
   ],
   "source": [
    "def total_salary (Basic_Salary):\n",
    "    if Basic_Salary>= 10000:\n",
    "        HRA = Basic_Salary*0.08\n",
    "        DA= Basic_Salary*0.07\n",
    "        TA=Basic_Salary*0.08\n",
    "    elif Basic_Salary>= 5000:\n",
    "        HRA = Basic_Salary*0.06\n",
    "        DA= Basic_Salary*0.05\n",
    "        TA=Basic_Salary*0.07\n",
    "    else:\n",
    "        HRA = Basic_Salary*0.05\n",
    "        DA= Basic_Salary*0.05\n",
    "        TA=Basic_Salary*0.07\n",
    "        \n",
    "    Total_Salary = Basic_Salary + HRA + DA + TA\n",
    "    return Total_Salary, HRA,DA,TA\n",
    "\n",
    "try:\n",
    "    BS= float(input(\"Enter basic salary amount: \"))\n",
    "    TotalSalary_amount,HRA,DA,TA = total_salary(BS)\n",
    "\n",
    "    print(f\"Basic Salary:  {BS}\")\n",
    "    print(f\"HRA:  {HRA:.2f}\")\n",
    "    print(f\"DA:  {DA:.2f}\")\n",
    "    print(f\"TA:  {TA:.2f}\")\n",
    "\n",
    "    print(f\"Total Salary after calculation:  {TotalSalary_amount:.2f}\")\n",
    "    \n",
    "except ValueError:\n",
    "    print(\"ValueError: Please enter valid numeric amount  \")\n",
    "\n",
    "\n",
    "   \n",
    "    \n",
    "\n",
    "\n"
   ]
  },
  {
   "cell_type": "code",
   "execution_count": null,
   "id": "73bcc08f-8258-4dd8-b837-70c1544cf87e",
   "metadata": {},
   "outputs": [],
   "source": []
  }
 ],
 "metadata": {
  "kernelspec": {
   "display_name": "Python [conda env:base] *",
   "language": "python",
   "name": "conda-base-py"
  },
  "language_info": {
   "codemirror_mode": {
    "name": "ipython",
    "version": 3
   },
   "file_extension": ".py",
   "mimetype": "text/x-python",
   "name": "python",
   "nbconvert_exporter": "python",
   "pygments_lexer": "ipython3",
   "version": "3.12.7"
  }
 },
 "nbformat": 4,
 "nbformat_minor": 5
}
