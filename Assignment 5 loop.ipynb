{
 "cells": [
  {
   "cell_type": "markdown",
   "id": "85c2950b-932d-4256-82d5-ca0159c8f24f",
   "metadata": {},
   "source": [
    "### 1.\tWrite a Python program that computes the greatest common divisor (GCD) of two positive integers"
   ]
  },
  {
   "cell_type": "code",
   "execution_count": 3,
   "id": "3e71e51e-fc01-421f-9195-652491b4ce7c",
   "metadata": {},
   "outputs": [
    {
     "name": "stdin",
     "output_type": "stream",
     "text": [
      "Enter first positive integer 32\n",
      "Enter Second positive integer 64\n"
     ]
    },
    {
     "name": "stdout",
     "output_type": "stream",
     "text": [
      "The gcd of 32 and 64 is 32\n"
     ]
    }
   ],
   "source": [
    "def Compute_gcd (a,b):\n",
    "    while b!= 0:\n",
    "        a,b = b,a%b\n",
    "    return a\n",
    "\n",
    "try:\n",
    "    num1 = int(input(\"Enter first positive integer\"))\n",
    "    num2 = int(input(\"Enter Second positive integer\"))\n",
    "\n",
    "    if num1<=0 and num2<=0:\n",
    "        print(\"Please enter postive integers\")\n",
    "    else:\n",
    "        gcd= Compute_gcd(num1,num2)\n",
    "        print(f\"The gcd of {num1} and {num2} is {gcd}\")\n",
    "except ValueError:\n",
    "    print(\"ValueError: Please enter numeric value\")\n"
   ]
  },
  {
   "cell_type": "markdown",
   "id": "24e541cd-b1f6-4cb5-963c-04bda4fea2ab",
   "metadata": {},
   "source": [
    "### 2.\tWrite a Python program to find the least common multiple (LCM) of two positive integers.\n"
   ]
  },
  {
   "cell_type": "code",
   "execution_count": 5,
   "id": "ea3d0e76-7959-4dc6-a3dc-2f9c4c5b7d53",
   "metadata": {},
   "outputs": [
    {
     "name": "stdin",
     "output_type": "stream",
     "text": [
      "Enter first positive integer:  44\n",
      "Enter second positive integer:  22\n"
     ]
    },
    {
     "name": "stdout",
     "output_type": "stream",
     "text": [
      "The LCM of 44 and 22 is 44\n"
     ]
    }
   ],
   "source": [
    "def find_lcm(x, y):\n",
    "    # Choose the greater number\n",
    "    if x > y:\n",
    "        greater = x\n",
    "    else:\n",
    "        greater = y\n",
    "\n",
    "    while True:\n",
    "        if (greater % x == 0) and (greater % y == 0):\n",
    "            lcm = greater\n",
    "            break\n",
    "        greater += 1\n",
    "\n",
    "    return lcm\n",
    "\n",
    "# Input from user\n",
    "num1 = int(input(\"Enter first positive integer: \"))\n",
    "num2 = int(input(\"Enter second positive integer: \"))\n",
    "\n",
    "if num1 > 0 and num2 > 0:\n",
    "    print(f\"The LCM of {num1} and {num2} is {find_lcm(num1, num2)}\")\n",
    "else:\n",
    "    print(\"Please enter only positive integers.\")\n"
   ]
  },
  {
   "cell_type": "markdown",
   "id": "73b9382d-126e-4dc5-8c15-4f0c21e02707",
   "metadata": {},
   "source": [
    "### 3.\tWrite a Python program to calculate sum of a numbers from 1to n\n"
   ]
  },
  {
   "cell_type": "code",
   "execution_count": 7,
   "id": "6eb74ce2-26da-49df-80c8-6d6f3cb9ff03",
   "metadata": {},
   "outputs": [
    {
     "name": "stdin",
     "output_type": "stream",
     "text": [
      "Enter a positive integer 5\n"
     ]
    },
    {
     "name": "stdout",
     "output_type": "stream",
     "text": [
      "The sum of numbers from 1 to 5 is 15\n"
     ]
    }
   ],
   "source": [
    "n = int(input (\"Enter a positive integer\"))\n",
    "\n",
    "i=1\n",
    "Sum = 0 \n",
    "\n",
    "while i<=n:\n",
    "    Sum+=i\n",
    "    i+=1\n",
    "\n",
    "print(f\"The sum of numbers from 1 to {n} is {Sum}\")\n",
    "\n",
    "\n"
   ]
  },
  {
   "cell_type": "markdown",
   "id": "8ed2f950-1173-419a-85f0-fe1718b9559b",
   "metadata": {},
   "source": [
    "### 4.\tDisplay the number -10 to -1\t\t\t\t"
   ]
  },
  {
   "cell_type": "code",
   "execution_count": 9,
   "id": "e7a703c8-778c-4d49-ad23-a63720535db9",
   "metadata": {},
   "outputs": [
    {
     "name": "stdout",
     "output_type": "stream",
     "text": [
      "-10\n",
      "-9\n",
      "-8\n",
      "-7\n",
      "-6\n",
      "-5\n",
      "-4\n",
      "-3\n",
      "-2\n",
      "-1\n"
     ]
    }
   ],
   "source": [
    "num= -10\n",
    "\n",
    "while num <0:\n",
    "    print(num)\n",
    "    num += 1 \n"
   ]
  },
  {
   "cell_type": "markdown",
   "id": "d07b5064-f2bb-400e-9fca-62efec4b4576",
   "metadata": {},
   "source": [
    "### 5.\tPython program to generate the prime numbers from 1 to N and also between two numbers\n"
   ]
  },
  {
   "cell_type": "code",
   "execution_count": 3,
   "id": "27b7e97a-48be-4f16-98a9-53fe5fe5dc84",
   "metadata": {},
   "outputs": [
    {
     "name": "stdin",
     "output_type": "stream",
     "text": [
      "Enter a number:  10\n"
     ]
    },
    {
     "name": "stdout",
     "output_type": "stream",
     "text": [
      "Prime num 1 to  10 are: \n",
      "2 3 5 7 "
     ]
    }
   ],
   "source": [
    "def is_prime(n):\n",
    "    if n <= 1:\n",
    "        return False\n",
    "    for i in range(2, n):\n",
    "        if n % i ==0:\n",
    "            return False\n",
    "    return True\n",
    "        \n",
    "\n",
    "\n",
    "n = int(input(\"Enter a number: \"))\n",
    "\n",
    "print(\"Prime num 1 to \",n,\"are: \")\n",
    "for num in range(2, n + 1):\n",
    "    if is_prime(num):\n",
    "        print(num, end=' ')"
   ]
  },
  {
   "cell_type": "markdown",
   "id": "de5e1c8b-e82c-4cc3-88e6-205934027b16",
   "metadata": {},
   "source": [
    "### 6.\tRemove items greater than 50 from a list of 0-100 while iterating using any loop.\n"
   ]
  },
  {
   "cell_type": "code",
   "execution_count": 1,
   "id": "3bab138f-ca7e-4e05-9887-1ce7e6cdb762",
   "metadata": {},
   "outputs": [
    {
     "name": "stdout",
     "output_type": "stream",
     "text": [
      "Filtered list less than 50: \n",
      "[0, 1, 2, 3, 4, 5, 6, 7, 8, 9, 10, 11, 12, 13, 14, 15, 16, 17, 18, 19, 20, 21, 22, 23, 24, 25, 26, 27, 28, 29, 30, 31, 32, 33, 34, 35, 36, 37, 38, 39, 40, 41, 42, 43, 44, 45, 46, 47, 48, 49, 50]\n"
     ]
    }
   ],
   "source": [
    "# create list 0 1o 100\n",
    "numbers = list(range(101))\n",
    "\n",
    "#create new list for n<=50\n",
    "filtered= []\n",
    "\n",
    "for num in numbers:\n",
    "    if num<=50:\n",
    "        filtered.append(num)\n",
    "\n",
    "print(\"Filtered list less than 50: \")\n",
    "print(filtered)\n"
   ]
  },
  {
   "cell_type": "markdown",
   "id": "6ad9fe75-89bd-4b19-866e-da5a03446503",
   "metadata": {},
   "source": [
    "### 7.\tWrite a Python program to generate a Fibonacci series upto nth term mentioned by user.\n"
   ]
  },
  {
   "cell_type": "code",
   "execution_count": 5,
   "id": "9b5debc2-702e-49d2-9287-f8ab7492df12",
   "metadata": {},
   "outputs": [
    {
     "name": "stdin",
     "output_type": "stream",
     "text": [
      "Enter the number:  5\n"
     ]
    },
    {
     "name": "stdout",
     "output_type": "stream",
     "text": [
      "01123"
     ]
    }
   ],
   "source": [
    "n = int(input(\"Enter the number: \"))\n",
    "\n",
    "a,b = 0,1\n",
    "count = 0 \n",
    "\n",
    "while count <n:\n",
    "    print(a, end='')\n",
    "    a,b = b, a+b\n",
    "    count+=1\n",
    "    \n"
   ]
  },
  {
   "cell_type": "markdown",
   "id": "bb3ffaab-b142-463f-8c6c-917dcffddbbd",
   "metadata": {},
   "source": [
    "### 8.\tWrite a Python program to count the number of occurrences of each character in a string.\n"
   ]
  },
  {
   "cell_type": "code",
   "execution_count": 21,
   "id": "e4d779f3-2b17-4d3c-aaf4-9780e6422f59",
   "metadata": {},
   "outputs": [
    {
     "name": "stdout",
     "output_type": "stream",
     "text": [
      "Number of occrence of each character: \n",
      "G:1\n",
      "o:3\n",
      "d:1\n",
      "m:1\n",
      "r:1\n",
      "n:2\n",
      "i:1\n",
      "g:1\n"
     ]
    }
   ],
   "source": [
    "string = \"Goodmorning\"\n",
    "char_count={}\n",
    "for char in string:\n",
    "    if char in char_count:\n",
    "        char_count[char]+=1\n",
    "    else:\n",
    "        char_count[char]=1\n",
    "\n",
    "print(\"Number of occrence of each character: \")\n",
    "for char, count in char_count.items():\n",
    "    print(f\"{char}:{count}\")"
   ]
  },
  {
   "cell_type": "markdown",
   "id": "bdec1eee-0dc1-4738-8f9f-e9d1428e647d",
   "metadata": {},
   "source": [
    "### 9.\tPython program to check the validity of password input by users.\n"
   ]
  },
  {
   "cell_type": "code",
   "execution_count": 43,
   "id": "f21a7851-369a-423d-afc6-7e5b5d679cc9",
   "metadata": {},
   "outputs": [
    {
     "name": "stdin",
     "output_type": "stream",
     "text": [
      "Enter your password:  chan\n"
     ]
    },
    {
     "name": "stdout",
     "output_type": "stream",
     "text": [
      "Invalid password. Try again.\n",
      "\n"
     ]
    },
    {
     "name": "stdin",
     "output_type": "stream",
     "text": [
      "Enter your password:  122\n"
     ]
    },
    {
     "name": "stdout",
     "output_type": "stream",
     "text": [
      "Invalid password. Try again.\n",
      "\n"
     ]
    },
    {
     "name": "stdin",
     "output_type": "stream",
     "text": [
      "Enter your password:  @123\n"
     ]
    },
    {
     "name": "stdout",
     "output_type": "stream",
     "text": [
      "Invalid password. Try again.\n",
      "\n"
     ]
    },
    {
     "name": "stdin",
     "output_type": "stream",
     "text": [
      "Enter your password:  Char@123\n"
     ]
    },
    {
     "name": "stdout",
     "output_type": "stream",
     "text": [
      " Password is valid.\n"
     ]
    }
   ],
   "source": [
    "def is_valid (password):\n",
    "    has_upper= False\n",
    "    has_lower = False\n",
    "    has_digit = False\n",
    "    has_special = False\n",
    "    speacial_chars=\"!@#$%&*?\"\n",
    "    \n",
    "    if len(password) < 8:\n",
    "        return False\n",
    "    for char in password:\n",
    "        if char.isupper():\n",
    "            has_upper= True\n",
    "        elif char.islower():\n",
    "            has_lower = True\n",
    "        elif char.isdigit():\n",
    "            has_digit = True\n",
    "        elif char in speacial_chars:\n",
    "            has_special = True\n",
    "    return has_upper and has_lower and has_digit and has_special\n",
    "\n",
    "while True:\n",
    "    password = input(\"Enter your password: \")\n",
    "    if is_valid(password):\n",
    "        print(\" Password is valid.\")\n",
    "        break\n",
    "    else:\n",
    "        print(\"Invalid password. Try again.\\n\")\n",
    "            \n",
    "    \n",
    "    \n",
    "    "
   ]
  },
  {
   "cell_type": "markdown",
   "id": "63e5d1f4-6b33-4342-9087-5ea0f2658628",
   "metadata": {},
   "source": [
    "## 10.\tFind the common elements in two lists using a for loop"
   ]
  },
  {
   "cell_type": "code",
   "execution_count": 80,
   "id": "df9684cc-5122-4a41-9967-ae11a499657f",
   "metadata": {},
   "outputs": [
    {
     "name": "stdout",
     "output_type": "stream",
     "text": [
      "['apple', 'strawberries']\n"
     ]
    }
   ],
   "source": [
    "a = [ \"apple\", \"banana\", \"strawberries\", \"blueberries\"]\n",
    "b = [\"strawberries\" , \"kiwi\", \"pineapple\" , \"apple\"]\n",
    "\n",
    "common = []\n",
    "for elements in a:\n",
    "    if elements in b:\n",
    "        common.append(elements)\n",
    "print(common)\n"
   ]
  },
  {
   "cell_type": "markdown",
   "id": "42c0f73e-a084-472e-b494-1eda6dbe7deb",
   "metadata": {},
   "source": [
    "## "
   ]
  }
 ],
 "metadata": {
  "kernelspec": {
   "display_name": "Python [conda env:base] *",
   "language": "python",
   "name": "conda-base-py"
  },
  "language_info": {
   "codemirror_mode": {
    "name": "ipython",
    "version": 3
   },
   "file_extension": ".py",
   "mimetype": "text/x-python",
   "name": "python",
   "nbconvert_exporter": "python",
   "pygments_lexer": "ipython3",
   "version": "3.12.7"
  },
  "panel-cell-order": [
   "433d6336-ace6-4bea-8984-885dae1938b9"
  ]
 },
 "nbformat": 4,
 "nbformat_minor": 5
}
