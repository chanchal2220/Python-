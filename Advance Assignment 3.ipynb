{
 "cells": [
  {
   "cell_type": "markdown",
   "id": "4f089354-a37d-473e-a3ad-aa867a21ab56",
   "metadata": {},
   "source": [
    "#### 1) Create a child class Bus that will inherit all of the variables and methods of the Vehicle class\n"
   ]
  },
  {
   "cell_type": "code",
   "execution_count": 266,
   "id": "991a77d8-5ba0-4374-aff0-ea4d5a1931ec",
   "metadata": {},
   "outputs": [
    {
     "name": "stdout",
     "output_type": "stream",
     "text": [
      "Bus\n",
      "\n",
      "Type of bus: Bus \n",
      "Class is: AC \n",
      "Booking mode is: Online  \n",
      "Ticket price is: 500\n"
     ]
    }
   ],
   "source": [
    "# Parent class\n",
    "class Vehicle:\n",
    "    def __init__(self, vehicle_type):\n",
    "        self.typ = vehicle_type\n",
    "    def display(self):\n",
    "        print(self.typ)\n",
    "   \n",
    "\n",
    "# Child class\n",
    "class Bus(Vehicle):\n",
    "    def __init__(self,vehicle_type, bus_class, booking_mode, ticket_price):\n",
    "        super().__init__(vehicle_type)\n",
    "        self.c = bus_class\n",
    "        self.b = booking_mode\n",
    "        self.t = ticket_price\n",
    "        \n",
    "    def detail(self):\n",
    "        print(\"\\nType of bus: {} \\nClass is: {} \\nBooking mode is: {}  \\nTicket price is: {}\".format(self.typ,self.c,self.b,self.t))\n",
    "\n",
    "My_Bus = Bus(\"Bus\",\"AC\",\"Online\",500)\n",
    "\n",
    "My_Bus.display() # inherited method\n",
    "\n",
    "My_Bus.detail() # overridden method "
   ]
  },
  {
   "cell_type": "markdown",
   "id": "138f72cc-fccb-4e2f-9447-2b4d7f8e847a",
   "metadata": {},
   "source": [
    "#### 2) Define a property that must have the same value for every class instance (object)\n"
   ]
  },
  {
   "cell_type": "code",
   "execution_count": 269,
   "id": "c36bea0e-1855-467c-b7c4-849abf261ce5",
   "metadata": {},
   "outputs": [
    {
     "name": "stdout",
     "output_type": "stream",
     "text": [
      "Vehicle type is :  Car and make is  Honda\n",
      "Vehicle type is :  Car and make is  Hyundai\n"
     ]
    }
   ],
   "source": [
    "class Vehicle:\n",
    "    vehicle_type = \"Car\"\n",
    "    \n",
    "    def __init__(self, make):\n",
    "        self.make = make\n",
    "\n",
    "vehicle1 = Vehicle(\"Honda\")\n",
    "vehicle2 = Vehicle(\"Hyundai\")\n",
    "\n",
    "print(\"Vehicle type is : \", vehicle1.vehicle_type,\"and make is \", vehicle1.make)\n",
    "print(\"Vehicle type is : \", vehicle2.vehicle_type,\"and make is \", vehicle2.make)\n",
    "# class varible shared : car\n",
    "# unique for each object  : make"
   ]
  },
  {
   "cell_type": "markdown",
   "id": "96d1029c-1d8b-42a4-9902-5ffb7baae4dc",
   "metadata": {},
   "source": [
    "#### 3) Write a Python class Employee with attributes like emp_id, emp_name, emp_salary, and emp_department and methods like calculate_emp_salary, emp_assign_department, and print_employee_details\n"
   ]
  },
  {
   "cell_type": "code",
   "execution_count": 396,
   "id": "e41d3de9-3ecb-4aa8-bd07-d961ff7c93bc",
   "metadata": {},
   "outputs": [],
   "source": [
    "class Employee:\n",
    "    def __init__(self,emp_id,emp_name,emp_salary,emp_department):\n",
    "        self.id = emp_id\n",
    "        self.name = emp_name\n",
    "        self.salary = emp_salary\n",
    "        self.department = emp_department\n",
    "        \n",
    "     #creation of methos\n",
    "    def calculate_emp_salary(self, bonus = 0):\n",
    "        self.total_salary = self.salary + bonus\n",
    "        print(\"Total salary of \", self.name,\"(with bonus):\", self.total_salary,\"\\n\")\n",
    "        return self.total_salary\n",
    "    def emp_assign_department(self,department):\n",
    "        self.department = department\n",
    "        print(\"\\n\",self.name, \"has been moved to\", self.department, \"department.\")\n",
    "\n",
    "    def print_employee_details(self):\n",
    "        print(\"\\n...........Employee detail.........\")\n",
    "        print(\"ID: \", self.id)\n",
    "        print(\"Name: \", self.name)\n",
    "        print(\"Salary: \", self.salary)\n",
    "        print(\"department: \", self.department)\n",
    "        \n",
    "    def print_emp_updated_detail(self):\n",
    "        print(\"...........Employee Updated detail.........\")\n",
    "        print(\"ID: \", self.id)\n",
    "        print(\"Name: \", self.name)\n",
    "        print(\"Salary: \", self.total_salary)\n",
    "        print(\"department: \", self.department)\n",
    "        \n",
    "        "
   ]
  },
  {
   "cell_type": "code",
   "execution_count": 402,
   "id": "5fea974f-bb84-46a5-be45-526bebb66d8e",
   "metadata": {},
   "outputs": [
    {
     "name": "stdout",
     "output_type": "stream",
     "text": [
      "\n",
      "...........Employee detail.........\n",
      "ID:  12121\n",
      "Name:  chanchal\n",
      "Salary:  35000\n",
      "department:  Finance\n",
      "\n",
      " chanchal has been moved to HR department.\n",
      "Total salary of  chanchal (with bonus): 40000 \n",
      "\n",
      "...........Employee Updated detail.........\n",
      "ID:  12121\n",
      "Name:  chanchal\n",
      "Salary:  40000\n",
      "department:  HR\n"
     ]
    }
   ],
   "source": [
    "#creating object\n",
    "emp1 = Employee(12121,\"chanchal\",35000,\"Finance\")\n",
    "emp1.print_employee_details()\n",
    "\n",
    "#assign a new department to employee\n",
    "emp1.emp_assign_department(\"HR\")\n",
    "\n",
    "#Recalculate salary with bonus \n",
    "emp1.calculate_emp_salary(5000)\n",
    "\n",
    "#update details\n",
    "emp1.print_emp_updated_detail()"
   ]
  },
  {
   "cell_type": "markdown",
   "id": "87fbb8ae-0e38-4d41-8668-3eaa90a94df1",
   "metadata": {},
   "source": [
    "#### 4) Write a Python class Restaurant with attributes like menu_items, book_table, and customer_orders, and methods like add_item_to_menu, book_tables, and customer_order\n"
   ]
  },
  {
   "cell_type": "code",
   "execution_count": 626,
   "id": "ed69d06d-fc10-425f-92f4-97997b2ea960",
   "metadata": {},
   "outputs": [
    {
     "name": "stdout",
     "output_type": "stream",
     "text": [
      "Menu item added :  Burger\n",
      "Menu item added :  Pasta\n",
      "Item Burger already exists in the menu.\n",
      "Table 1 Successfully booked.\n",
      "Table 1 is already booked\n",
      "Ordered received from customer:  Burger and Coke\n",
      "\n",
      "....Restarant Details.....\n",
      "Menu-items:\n",
      "1 Burger\n",
      "2 Pasta\n",
      "Table Booked:\n",
      "1 1\n",
      "Orders received by customer:\n",
      "1 Burger and Coke\n"
     ]
    }
   ],
   "source": [
    "class Restaurant:\n",
    "    def __init__(self):\n",
    "        self.menu_items = []\n",
    "        self.booked_tables = []\n",
    "        self.customer_orders = []\n",
    "        \n",
    "    \n",
    "    def add_item_to_menu(self,item):\n",
    "        if item not in self.menu_items:\n",
    "            self.menu_items.append(item)\n",
    "            print(\"Menu item added : \",item)\n",
    "        else:\n",
    "            print(\"Item\", item, \"already exists in the menu.\")\n",
    "    \n",
    "    def book_table(self,table):\n",
    "        if table not in self.booked_tables:\n",
    "            self.booked_tables.append(table)\n",
    "            print(\"Table\", table,\"Successfully booked.\")\n",
    "        else:\n",
    "            print(\"Table\", table,\"is already booked\")\n",
    "    \n",
    "    def customer_order(self,order):\n",
    "        self.customer_orders.append(order)\n",
    "        print(\"Ordered received from customer: \",order )\n",
    "    \n",
    "    def print_restaurant_detail(self):\n",
    "        print(\"\\n....Restarant Details.....\")\n",
    "        \n",
    "        print(\"Menu-items:\")\n",
    "        for i, item in enumerate(self.menu_items, start=1):\n",
    "            print(i,item)\n",
    "        \n",
    "        print(\"Table Booked:\")\n",
    "        for i,  table in enumerate(self.booked_tables, start=1):\n",
    "            print(i,table)\n",
    "            \n",
    "        print(\"Orders received by customer:\")\n",
    "        for i,  order in enumerate(self.customer_orders, start=1):\n",
    "            print(i,order)\n",
    "\n",
    "\n",
    "restaurant = Restaurant()\n",
    "restaurant.add_item_to_menu(\"Burger\")\n",
    "restaurant.add_item_to_menu(\"Pasta\")\n",
    "restaurant.add_item_to_menu(\"Burger\")\n",
    "restaurant.book_table(1)\n",
    "restaurant.book_table(1)\n",
    "\n",
    "restaurant.customer_order(\"Burger and Coke\")\n",
    "restaurant.print_restaurant_detail()\n"
   ]
  },
  {
   "cell_type": "markdown",
   "id": "e48b9fb9-71a1-4a3a-b0c8-c258508f572e",
   "metadata": {},
   "source": [
    "#### 5) Write a Python class BankAccount with attributes like account_number, balance, date_of_opening and customer_name, and methods like deposit, withdraw, and check_balance.\n"
   ]
  },
  {
   "cell_type": "code",
   "execution_count": 26,
   "id": "9e940830-ffc8-4509-a1ae-39f37b57e65f",
   "metadata": {},
   "outputs": [],
   "source": [
    "class BankAccount:\n",
    "    def __init__(self,account_number,balance,date_of_opening,customer_name):\n",
    "        self.account_num = account_number\n",
    "        self.balance = balance\n",
    "        self.date_of_opening= date_of_opening\n",
    "        self.customer_name = customer_name\n",
    "    \n",
    "    def deposit(self,amount):\n",
    "        if amount <= 0:\n",
    "            print(\"Deposit amount must be positive.\")\n",
    "            return\n",
    "        self.balance += amount\n",
    "        print(f\"Amount {amount} successfully deposited in bank account {self.account_num}\")\n",
    "    \n",
    "    def withdraw(self, amount):\n",
    "        if amount <= 0:\n",
    "            print(\"Withdraw amount must be positive.\")\n",
    "        elif amount > self.balance:\n",
    "            print(\"Insufficient balance\")\n",
    "        else:\n",
    "            self.balance -= amount\n",
    "            print(f\"Amount {amount} successfully withdrawn from bank account {self.account_num}\")\n",
    "        \n",
    "    def check_balance(self):\n",
    "        print(f\"Current balance for account {self.account_num} is INR {self.balance}\")\n",
    "\n",
    "        \n",
    "        \n",
    "    def account_details(self):\n",
    "        print(\"********Account Details**********\")\n",
    "        print(f\"Customer Name:  {self.customer_name}\")\n",
    "        print(f\"Account opening date :  {self.date_of_opening}\")\n",
    "        print(f\"Account Number:  {self.account_num}\")\n",
    "        print(f\"Balance amount :  INR {self.balance}\\n\")         "
   ]
  },
  {
   "cell_type": "code",
   "execution_count": 30,
   "id": "38202c9b-eb32-4de7-aa1d-e80defef684a",
   "metadata": {},
   "outputs": [
    {
     "name": "stdout",
     "output_type": "stream",
     "text": [
      "********Account Details**********\n",
      "Customer Name:  Priya\n",
      "Account opening date :  01/01/2024\n",
      "Account Number:  3300223256\n",
      "Balance amount :  INR 30000\n",
      "\n"
     ]
    },
    {
     "name": "stdin",
     "output_type": "stream",
     "text": [
      "Enter amount to deposit: INR  2000\n"
     ]
    },
    {
     "name": "stdout",
     "output_type": "stream",
     "text": [
      "Amount 2000 successfully deposited in bank account 3300223256\n",
      "---------------------------------------------------------\n",
      "Current balance for account 3300223256 is INR 32000\n"
     ]
    },
    {
     "name": "stdin",
     "output_type": "stream",
     "text": [
      "\n",
      "Enter amount to withdraw: INR  34000\n"
     ]
    },
    {
     "name": "stdout",
     "output_type": "stream",
     "text": [
      "Insufficient balance\n",
      "\n",
      "---------------------------------------------------------\n",
      "Current balance for account 3300223256 is INR 32000\n",
      "---------------------------------------------------------\n"
     ]
    }
   ],
   "source": [
    "HDFC = BankAccount(3300223256,30000,\"01/01/2024\", \"Priya\") \n",
    "HDFC.account_details()\n",
    "# Deposit\n",
    "amount_to_deposit = int(input(\"Enter amount to deposit: INR \"))\n",
    "HDFC.deposit(amount_to_deposit)\n",
    "print(\"---------------------------------------------------------\")\n",
    "HDFC.check_balance()\n",
    "\n",
    "amount_to_withdraw = int(input(\"\\nEnter amount to withdraw: INR \"))\n",
    "HDFC.withdraw(amount_to_withdraw)\n",
    "print(\"\\n---------------------------------------------------------\")\n",
    "HDFC.check_balance()\n",
    "print(\"---------------------------------------------------------\")\n",
    "   "
   ]
  },
  {
   "cell_type": "markdown",
   "id": "bb9e1574-0505-4f6d-9b26-43cbd93f1f91",
   "metadata": {},
   "source": [
    "#### 6) Write a Python class Inventory with attributes like item_id, item_name, stock_count, and price, and methods like add_item, update_item, and check_item_details\n"
   ]
  },
  {
   "cell_type": "code",
   "execution_count": 240,
   "id": "fc6c80e9-b7d7-4e9f-9d36-3143334f4a31",
   "metadata": {},
   "outputs": [],
   "source": [
    "class Inventory:\n",
    "    def __init__(self):\n",
    "        self.items = {}  # item_id as key\n",
    "\n",
    "    def add_item(self, item_id, item_name, stock_count, price):\n",
    "        if item_id not in self.items:\n",
    "            self.items[item_id] = {\n",
    "                'item_name': item_name,\n",
    "                'stock_count': stock_count,\n",
    "                'price': price\n",
    "            }\n",
    "            print(f\"New item added: {item_name}\")\n",
    "        else:\n",
    "            print(\"Item already exists with ID:\", item_id)\n",
    "\n",
    "    def update_item(self, item_id, stock_count=None, price=None):\n",
    "        if item_id in self.items:\n",
    "            if stock_count is not None:\n",
    "                self.items[item_id]['stock_count'] = stock_count\n",
    "            if price is not None:\n",
    "                self.items[item_id]['price'] = price\n",
    "            print(f\"Item {item_id} updated.\")\n",
    "        else:\n",
    "            print(\"Item ID not found.\")\n",
    "\n",
    "    def check_item_details(self, item_id):  \n",
    "        if item_id in self.items:\n",
    "            print(\">>>>>> Item Details <<<<<<<<<\")\n",
    "            item = self.items[item_id]\n",
    "            print(f\"Item ID: {item_id}\")\n",
    "            print(f\"Item Name: {item['item_name']}\")\n",
    "            print(f\"Stock Count: {item['stock_count']}\")\n",
    "            print(f\"Price: {item['price']}\")\n",
    "        else:\n",
    "            print(\"Item not found.\")\n"
   ]
  },
  {
   "cell_type": "code",
   "execution_count": 244,
   "id": "eb4b48ad-8130-4873-8dbb-1d81d928f4ea",
   "metadata": {},
   "outputs": [
    {
     "name": "stdout",
     "output_type": "stream",
     "text": [
      "New item added: Chair\n",
      "New item added: Table\n",
      ">>>>>> Item Details <<<<<<<<<\n",
      "Item ID: 101\n",
      "Item Name: Chair\n",
      "Stock Count: 50\n",
      "Price: 1200\n",
      "Item 101 updated.\n",
      ">>>>>> Item Details <<<<<<<<<\n",
      "Item ID: 101\n",
      "Item Name: Chair\n",
      "Stock Count: 55\n",
      "Price: 1300\n"
     ]
    }
   ],
   "source": [
    "inv = Inventory()\n",
    "inv.add_item(101, \"Chair\", 50, 1200)\n",
    "inv.add_item(102, \"Table\", 20, 2000)\n",
    "\n",
    "inv.check_item_details(101)\n",
    "\n",
    "inv.update_item(101, stock_count=55, price=1300)\n",
    "inv.check_item_details(101)\n",
    "\n"
   ]
  },
  {
   "cell_type": "code",
   "execution_count": null,
   "id": "eceb4c6b-7e5c-4f50-b5e3-57195a583263",
   "metadata": {},
   "outputs": [],
   "source": []
  }
 ],
 "metadata": {
  "kernelspec": {
   "display_name": "Python [conda env:base] *",
   "language": "python",
   "name": "conda-base-py"
  },
  "language_info": {
   "codemirror_mode": {
    "name": "ipython",
    "version": 3
   },
   "file_extension": ".py",
   "mimetype": "text/x-python",
   "name": "python",
   "nbconvert_exporter": "python",
   "pygments_lexer": "ipython3",
   "version": "3.12.7"
  }
 },
 "nbformat": 4,
 "nbformat_minor": 5
}
